{
 "cells": [
  {
   "cell_type": "markdown",
   "metadata": {
    "id": "4z_Z-K1tlrS7"
   },
   "source": [
    "## 1. Complete the following code to find the area of an equilateral triangle. Output should be as displayed"
   ]
  },
  {
   "cell_type": "code",
   "execution_count": 2,
   "metadata": {
    "id": "rP2qFD_SlrS_"
   },
   "outputs": [
    {
     "name": "stdout",
     "output_type": "stream",
     "text": [
      "Enter the side of the equilateral triangle: 7.5\n",
      "Area of the equilateral triangle:  24.356964481437334\n"
     ]
    }
   ],
   "source": [
    "import math\n",
    "def pow(a,b):\n",
    "    i=0\n",
    "    pr=1\n",
    "    while(i<b):\n",
    "        pr=pr*a\n",
    "        i+=1\n",
    "    return pr\n",
    "\n",
    "side = float(input(\"Enter the side of the equilateral triangle: \"))\n",
    "area = ((math.sqrt(3))/4)*pow(side,2)\n",
    "print(\"Area of the equilateral triangle: \", area)\n"
   ]
  },
  {
   "cell_type": "markdown",
   "metadata": {
    "id": "TjVKjIfclrTB"
   },
   "source": [
    "## 2. Write a program to count the number of each characters in a string"
   ]
  },
  {
   "cell_type": "code",
   "execution_count": 2,
   "metadata": {
    "id": "JY5seVUQlrTC"
   },
   "outputs": [
    {
     "name": "stdout",
     "output_type": "stream",
     "text": [
      "enter the stringThis is a multi-format string : it has repeated characters in it\n",
      "{'T': 1, 'h': 3, 'i': 7, 's': 5, ' ': 11, 'a': 6, 'm': 2, 'u': 1, 'l': 1, 't': 7, '-': 1, 'f': 1, 'o': 1, 'r': 5, 'n': 2, 'g': 1, ':': 1, 'e': 4, 'p': 1, 'd': 1, 'c': 2}\n"
     ]
    }
   ],
   "source": [
    "str1=input(\"enter the string\")\n",
    "countc={}\n",
    "for i in str1:\n",
    "    if i in countc:\n",
    "        countc[i] +=1\n",
    "    else:\n",
    "        countc[i]=1\n",
    "\n",
    "print(countc)"
   ]
  },
  {
   "cell_type": "markdown",
   "metadata": {
    "id": "l3LCULfklrTD"
   },
   "source": [
    "## Write a program to find the area and perimeter of a rectangle using functions"
   ]
  },
  {
   "cell_type": "code",
   "execution_count": 13,
   "metadata": {
    "id": "8haQD8edlrTD"
   },
   "outputs": [
    {
     "name": "stdout",
     "output_type": "stream",
     "text": [
      "Please enter the value of the length: 4\n",
      "Please enter the value of the breadth: 5\n",
      "Area of the rectangle is  20.0\n",
      "Perimeter of the rectangle is  18.0\n"
     ]
    }
   ],
   "source": [
    "length=float(input(\"Please enter the value of the length: \"))\n",
    "breadth=float(input(\"Please enter the value of the breadth: \"))\n",
    "def area(a,b):\n",
    "    return a*b\n",
    "def perimeter(a,b):\n",
    "    return 2*(a+b)\n",
    "\n",
    "print(\"Area of the rectangle is \",area(length,breadth))\n",
    "print(\"Perimeter of the rectangle is \",perimeter(length,breadth))"
   ]
  },
  {
   "cell_type": "markdown",
   "metadata": {
    "id": "JHK4ZdsflrTE"
   },
   "source": [
    "## 4. Write a program to print the fibonacci series till a specified number"
   ]
  },
  {
   "cell_type": "code",
   "execution_count": 7,
   "metadata": {
    "id": "LyBEj-4SlrTE"
   },
   "outputs": [
    {
     "name": "stdout",
     "output_type": "stream",
     "text": [
      "enter thr limit56\n",
      "the fibonacci sereies is \n",
      "0 1 1 2 3 5 8 13 21 34 55 "
     ]
    }
   ],
   "source": [
    "n=int(input(\"enter thr limit\"))\n",
    "a,b=0,1\n",
    "c=a+b\n",
    "print(\"the fibonacci sereies is \")\n",
    "print(a,b, end=\" \")\n",
    "#print(b)\n",
    "while c<n:\n",
    "      print(c, end=\" \")\n",
    "      a=b\n",
    "      b=c\n",
    "      c=a+b"
   ]
  },
  {
   "cell_type": "markdown",
   "metadata": {
    "id": "u4uBUcQKlrTE"
   },
   "source": [
    "## 5. Complete the following code to find the minimum of 3 number using cinditional statements. Output should be as displayed"
   ]
  },
  {
   "cell_type": "code",
   "execution_count": 5,
   "metadata": {
    "id": "XdZwrZjIlrTF"
   },
   "outputs": [
    {
     "name": "stdout",
     "output_type": "stream",
     "text": [
      "Enter three numbers separated by blank space 47 47 47\n",
      "First number : 47\n",
      "Second number : 47\n",
      "Third number : 47\n",
      "All the given numbers are equal\n",
      "47  is the smallest of the given numbers\n"
     ]
    }
   ],
   "source": [
    "a,b,c = input(\"Enter three numbers separated by blank space \").split()\n",
    "\n",
    "print(\"First number :\",a)\n",
    "print(\"Second number :\",b)\n",
    "print(\"Third number :\",c)\n",
    "if (a==b)&(b==c):\n",
    "    print(\"All the given numbers are equal\")\n",
    "    \n",
    "else:\n",
    "    if a==c:\n",
    "        print(\"Atleast two of the given numbers are equal\")\n",
    "\n",
    "    if b>c:\n",
    "        d=c\n",
    "        c=b\n",
    "        b=d\n",
    "    elif b==c:\n",
    "            print(\"Atleast two of the given numbers are equal\")\n",
    "\n",
    "    if a>b:\n",
    "        d=a\n",
    "        a=b\n",
    "        b=d\n",
    "    elif a==b:\n",
    "            print(\"Atleast two of the given numbers are equal\")\n",
    "\n",
    "print(a,\" is the smallest of the given numbers\")"
   ]
  },
  {
   "cell_type": "markdown",
   "metadata": {
    "id": "aR_CnToWlrTG"
   },
   "source": [
    "## 6. Write a program to print star pyramind. The number of rows should be taken as input from the user"
   ]
  },
  {
   "cell_type": "code",
   "execution_count": 8,
   "metadata": {
    "id": "M37A-buplrTG"
   },
   "outputs": [
    {
     "name": "stdout",
     "output_type": "stream",
     "text": [
      "enter the number of rows7\n",
      "* \n",
      "* * \n",
      "* * * \n",
      "* * * * \n",
      "* * * * * \n",
      "* * * * * * \n",
      "* * * * * * * \n"
     ]
    }
   ],
   "source": [
    "numRow=int(input(\"enter the number of rows\"))\n",
    "for i in range(1,numRow+1):\n",
    "    for j in range(1,i+1):\n",
    "        print(\"*\",end=\" \")\n",
    "    print(\"\\r\")"
   ]
  },
  {
   "cell_type": "markdown",
   "metadata": {
    "id": "tlY6aFWBlrTH"
   },
   "source": [
    "## 7. Complete the following code to convert hour into seconds. Output should be as displayed"
   ]
  },
  {
   "cell_type": "code",
   "execution_count": 24,
   "metadata": {
    "id": "YOZQFk7FlrTH"
   },
   "outputs": [
    {
     "name": "stdout",
     "output_type": "stream",
     "text": [
      "Enter the hours value to be converted to seconds: 5.5\n",
      "5.5  Hour is equal to 19800.0  Seconds\n"
     ]
    }
   ],
   "source": [
    "def to_seconds(t):\n",
    "    h=t*3600\n",
    "    return h\n",
    "time_in_hours=float(input(\"Enter the hours value to be converted to seconds: \")) \n",
    "print(time_in_hours ,\" Hour is equal to\" ,to_seconds(time_in_hours) ,\" Seconds\")"
   ]
  },
  {
   "cell_type": "markdown",
   "metadata": {
    "id": "CnYorNiLlrTI"
   },
   "source": [
    "## 8. Write a program to print multiplication table as below"
   ]
  },
  {
   "cell_type": "code",
   "execution_count": 19,
   "metadata": {
    "id": "dPQqDPuDlrTI"
   },
   "outputs": [
    {
     "name": "stdout",
     "output_type": "stream",
     "text": [
      "Enter the number for which multiplication tables are needed: 9\n",
      "9  *  1 = 9\n",
      "9  *  2 = 18\n",
      "9  *  3 = 27\n",
      "9  *  4 = 36\n",
      "9  *  5 = 45\n",
      "9  *  6 = 54\n",
      "9  *  7 = 63\n",
      "9  *  8 = 72\n",
      "9  *  9 = 81\n",
      "9  *  10 = 90\n"
     ]
    }
   ],
   "source": [
    "x=int(input(\"Enter the number for which multiplication tables are needed: \"))\n",
    "for i in range(1,11):\n",
    "    print(x,\" * \",i,\"=\", x*i)"
   ]
  },
  {
   "cell_type": "markdown",
   "metadata": {
    "id": "Fiaez8iblrTI"
   },
   "source": [
    "## 9. Write a program to take your 5 favorite food as list and print each as 'I like Biriyani'"
   ]
  },
  {
   "cell_type": "code",
   "execution_count": 17,
   "metadata": {
    "id": "39W1zFX7lrTJ"
   },
   "outputs": [
    {
     "name": "stdout",
     "output_type": "stream",
     "text": [
      "Enter 5 of your favourite foods, separated by space: tea chocolate ice-cream biriyani kaalan\n",
      "I love to eat  tea\n",
      "I love to eat  chocolate\n",
      "I love to eat  ice-cream\n",
      "I love to eat  biriyani\n",
      "I love to eat  kaalan\n"
     ]
    }
   ],
   "source": [
    "inp_string=input(\"Enter 5 of your favourite foods, separated by space: \")\n",
    "myList=inp_string.split()\n",
    "for i in myList:\n",
    "    print(\"I love to eat \", i)"
   ]
  },
  {
   "cell_type": "markdown",
   "metadata": {
    "id": "3vlcDNNEP7d_"
   },
   "source": [
    "## 10. Find error(s) in the following code(if any) and rewrite code.\n",
    "\n"
   ]
  },
  {
   "cell_type": "code",
   "execution_count": 16,
   "metadata": {
    "id": "coREkcY3P9sG"
   },
   "outputs": [
    {
     "name": "stdout",
     "output_type": "stream",
     "text": [
      "Enter value of x:9\n",
      "They are equal\n"
     ]
    }
   ],
   "source": [
    "x= int(input(\"Enter value of x:\"))\n",
    "Flag=0\n",
    "for y in range(0,10):\n",
    "    if x==y:\n",
    "        print(\"They are equal\")\n",
    "        Flag+=1\n",
    "if Flag==0:\n",
    "    print( \"They are unequal\")"
   ]
  },
  {
   "cell_type": "code",
   "execution_count": null,
   "metadata": {},
   "outputs": [],
   "source": []
  }
 ],
 "metadata": {
  "colab": {
   "collapsed_sections": [],
   "name": "Q&A activity student file.ipynb",
   "provenance": []
  },
  "kernelspec": {
   "display_name": "Python 3",
   "language": "python",
   "name": "python3"
  },
  "language_info": {
   "codemirror_mode": {
    "name": "ipython",
    "version": 3
   },
   "file_extension": ".py",
   "mimetype": "text/x-python",
   "name": "python",
   "nbconvert_exporter": "python",
   "pygments_lexer": "ipython3",
   "version": "3.8.8"
  }
 },
 "nbformat": 4,
 "nbformat_minor": 1
}
