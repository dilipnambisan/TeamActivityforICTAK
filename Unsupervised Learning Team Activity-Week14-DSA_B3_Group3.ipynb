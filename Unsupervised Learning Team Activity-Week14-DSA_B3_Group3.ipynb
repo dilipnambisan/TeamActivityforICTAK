{
 "cells": [
  {
   "cell_type": "code",
   "execution_count": 1,
   "id": "17ad796c",
   "metadata": {},
   "outputs": [],
   "source": [
    "import pandas as pd\n",
    "import matplotlib.pyplot as plt"
   ]
  },
  {
   "cell_type": "code",
   "execution_count": 2,
   "id": "d2d9bd0f",
   "metadata": {},
   "outputs": [
    {
     "data": {
      "text/html": [
       "<div>\n",
       "<style scoped>\n",
       "    .dataframe tbody tr th:only-of-type {\n",
       "        vertical-align: middle;\n",
       "    }\n",
       "\n",
       "    .dataframe tbody tr th {\n",
       "        vertical-align: top;\n",
       "    }\n",
       "\n",
       "    .dataframe thead th {\n",
       "        text-align: right;\n",
       "    }\n",
       "</style>\n",
       "<table border=\"1\" class=\"dataframe\">\n",
       "  <thead>\n",
       "    <tr style=\"text-align: right;\">\n",
       "      <th></th>\n",
       "      <th>country</th>\n",
       "      <th>child_mort</th>\n",
       "      <th>exports</th>\n",
       "      <th>health</th>\n",
       "      <th>imports</th>\n",
       "      <th>income</th>\n",
       "      <th>inflation</th>\n",
       "      <th>life_expec</th>\n",
       "      <th>total_fer</th>\n",
       "      <th>gdpp</th>\n",
       "    </tr>\n",
       "  </thead>\n",
       "  <tbody>\n",
       "    <tr>\n",
       "      <th>0</th>\n",
       "      <td>Afghanistan</td>\n",
       "      <td>90.2</td>\n",
       "      <td>10.0</td>\n",
       "      <td>7.58</td>\n",
       "      <td>44.9</td>\n",
       "      <td>1610</td>\n",
       "      <td>9.44</td>\n",
       "      <td>56.2</td>\n",
       "      <td>5.82</td>\n",
       "      <td>553</td>\n",
       "    </tr>\n",
       "    <tr>\n",
       "      <th>1</th>\n",
       "      <td>Albania</td>\n",
       "      <td>16.6</td>\n",
       "      <td>28.0</td>\n",
       "      <td>6.55</td>\n",
       "      <td>48.6</td>\n",
       "      <td>9930</td>\n",
       "      <td>4.49</td>\n",
       "      <td>76.3</td>\n",
       "      <td>1.65</td>\n",
       "      <td>4090</td>\n",
       "    </tr>\n",
       "    <tr>\n",
       "      <th>2</th>\n",
       "      <td>Algeria</td>\n",
       "      <td>27.3</td>\n",
       "      <td>38.4</td>\n",
       "      <td>4.17</td>\n",
       "      <td>31.4</td>\n",
       "      <td>12900</td>\n",
       "      <td>16.10</td>\n",
       "      <td>76.5</td>\n",
       "      <td>2.89</td>\n",
       "      <td>4460</td>\n",
       "    </tr>\n",
       "    <tr>\n",
       "      <th>3</th>\n",
       "      <td>Angola</td>\n",
       "      <td>119.0</td>\n",
       "      <td>62.3</td>\n",
       "      <td>2.85</td>\n",
       "      <td>42.9</td>\n",
       "      <td>5900</td>\n",
       "      <td>22.40</td>\n",
       "      <td>60.1</td>\n",
       "      <td>6.16</td>\n",
       "      <td>3530</td>\n",
       "    </tr>\n",
       "    <tr>\n",
       "      <th>4</th>\n",
       "      <td>Antigua and Barbuda</td>\n",
       "      <td>10.3</td>\n",
       "      <td>45.5</td>\n",
       "      <td>6.03</td>\n",
       "      <td>58.9</td>\n",
       "      <td>19100</td>\n",
       "      <td>1.44</td>\n",
       "      <td>76.8</td>\n",
       "      <td>2.13</td>\n",
       "      <td>12200</td>\n",
       "    </tr>\n",
       "  </tbody>\n",
       "</table>\n",
       "</div>"
      ],
      "text/plain": [
       "               country  child_mort  exports  health  imports  income  \\\n",
       "0          Afghanistan        90.2     10.0    7.58     44.9    1610   \n",
       "1              Albania        16.6     28.0    6.55     48.6    9930   \n",
       "2              Algeria        27.3     38.4    4.17     31.4   12900   \n",
       "3               Angola       119.0     62.3    2.85     42.9    5900   \n",
       "4  Antigua and Barbuda        10.3     45.5    6.03     58.9   19100   \n",
       "\n",
       "   inflation  life_expec  total_fer   gdpp  \n",
       "0       9.44        56.2       5.82    553  \n",
       "1       4.49        76.3       1.65   4090  \n",
       "2      16.10        76.5       2.89   4460  \n",
       "3      22.40        60.1       6.16   3530  \n",
       "4       1.44        76.8       2.13  12200  "
      ]
     },
     "execution_count": 2,
     "metadata": {},
     "output_type": "execute_result"
    }
   ],
   "source": [
    "npo_df=pd.read_csv('Country-data.csv')\n",
    "npo_df.head()"
   ]
  },
  {
   "cell_type": "code",
   "execution_count": 3,
   "id": "36906367",
   "metadata": {},
   "outputs": [
    {
     "data": {
      "text/plain": [
       "country       0\n",
       "child_mort    0\n",
       "exports       0\n",
       "health        0\n",
       "imports       0\n",
       "income        0\n",
       "inflation     0\n",
       "life_expec    0\n",
       "total_fer     0\n",
       "gdpp          0\n",
       "dtype: int64"
      ]
     },
     "execution_count": 3,
     "metadata": {},
     "output_type": "execute_result"
    }
   ],
   "source": [
    "npo_df.isna().sum()"
   ]
  },
  {
   "cell_type": "code",
   "execution_count": 4,
   "id": "61fec575",
   "metadata": {},
   "outputs": [
    {
     "data": {
      "text/html": [
       "<div>\n",
       "<style scoped>\n",
       "    .dataframe tbody tr th:only-of-type {\n",
       "        vertical-align: middle;\n",
       "    }\n",
       "\n",
       "    .dataframe tbody tr th {\n",
       "        vertical-align: top;\n",
       "    }\n",
       "\n",
       "    .dataframe thead th {\n",
       "        text-align: right;\n",
       "    }\n",
       "</style>\n",
       "<table border=\"1\" class=\"dataframe\">\n",
       "  <thead>\n",
       "    <tr style=\"text-align: right;\">\n",
       "      <th></th>\n",
       "      <th>child_mort</th>\n",
       "      <th>exports</th>\n",
       "      <th>health</th>\n",
       "      <th>imports</th>\n",
       "      <th>income</th>\n",
       "      <th>inflation</th>\n",
       "      <th>life_expec</th>\n",
       "      <th>total_fer</th>\n",
       "      <th>gdpp</th>\n",
       "    </tr>\n",
       "  </thead>\n",
       "  <tbody>\n",
       "    <tr>\n",
       "      <th>count</th>\n",
       "      <td>167.000000</td>\n",
       "      <td>167.000000</td>\n",
       "      <td>167.000000</td>\n",
       "      <td>167.000000</td>\n",
       "      <td>167.000000</td>\n",
       "      <td>167.000000</td>\n",
       "      <td>167.000000</td>\n",
       "      <td>167.000000</td>\n",
       "      <td>167.000000</td>\n",
       "    </tr>\n",
       "    <tr>\n",
       "      <th>mean</th>\n",
       "      <td>38.270060</td>\n",
       "      <td>41.108976</td>\n",
       "      <td>6.815689</td>\n",
       "      <td>46.890215</td>\n",
       "      <td>17144.688623</td>\n",
       "      <td>7.781832</td>\n",
       "      <td>70.555689</td>\n",
       "      <td>2.947964</td>\n",
       "      <td>12964.155689</td>\n",
       "    </tr>\n",
       "    <tr>\n",
       "      <th>std</th>\n",
       "      <td>40.328931</td>\n",
       "      <td>27.412010</td>\n",
       "      <td>2.746837</td>\n",
       "      <td>24.209589</td>\n",
       "      <td>19278.067698</td>\n",
       "      <td>10.570704</td>\n",
       "      <td>8.893172</td>\n",
       "      <td>1.513848</td>\n",
       "      <td>18328.704809</td>\n",
       "    </tr>\n",
       "    <tr>\n",
       "      <th>min</th>\n",
       "      <td>2.600000</td>\n",
       "      <td>0.109000</td>\n",
       "      <td>1.810000</td>\n",
       "      <td>0.065900</td>\n",
       "      <td>609.000000</td>\n",
       "      <td>-4.210000</td>\n",
       "      <td>32.100000</td>\n",
       "      <td>1.150000</td>\n",
       "      <td>231.000000</td>\n",
       "    </tr>\n",
       "    <tr>\n",
       "      <th>25%</th>\n",
       "      <td>8.250000</td>\n",
       "      <td>23.800000</td>\n",
       "      <td>4.920000</td>\n",
       "      <td>30.200000</td>\n",
       "      <td>3355.000000</td>\n",
       "      <td>1.810000</td>\n",
       "      <td>65.300000</td>\n",
       "      <td>1.795000</td>\n",
       "      <td>1330.000000</td>\n",
       "    </tr>\n",
       "    <tr>\n",
       "      <th>50%</th>\n",
       "      <td>19.300000</td>\n",
       "      <td>35.000000</td>\n",
       "      <td>6.320000</td>\n",
       "      <td>43.300000</td>\n",
       "      <td>9960.000000</td>\n",
       "      <td>5.390000</td>\n",
       "      <td>73.100000</td>\n",
       "      <td>2.410000</td>\n",
       "      <td>4660.000000</td>\n",
       "    </tr>\n",
       "    <tr>\n",
       "      <th>75%</th>\n",
       "      <td>62.100000</td>\n",
       "      <td>51.350000</td>\n",
       "      <td>8.600000</td>\n",
       "      <td>58.750000</td>\n",
       "      <td>22800.000000</td>\n",
       "      <td>10.750000</td>\n",
       "      <td>76.800000</td>\n",
       "      <td>3.880000</td>\n",
       "      <td>14050.000000</td>\n",
       "    </tr>\n",
       "    <tr>\n",
       "      <th>max</th>\n",
       "      <td>208.000000</td>\n",
       "      <td>200.000000</td>\n",
       "      <td>17.900000</td>\n",
       "      <td>174.000000</td>\n",
       "      <td>125000.000000</td>\n",
       "      <td>104.000000</td>\n",
       "      <td>82.800000</td>\n",
       "      <td>7.490000</td>\n",
       "      <td>105000.000000</td>\n",
       "    </tr>\n",
       "  </tbody>\n",
       "</table>\n",
       "</div>"
      ],
      "text/plain": [
       "       child_mort     exports      health     imports         income  \\\n",
       "count  167.000000  167.000000  167.000000  167.000000     167.000000   \n",
       "mean    38.270060   41.108976    6.815689   46.890215   17144.688623   \n",
       "std     40.328931   27.412010    2.746837   24.209589   19278.067698   \n",
       "min      2.600000    0.109000    1.810000    0.065900     609.000000   \n",
       "25%      8.250000   23.800000    4.920000   30.200000    3355.000000   \n",
       "50%     19.300000   35.000000    6.320000   43.300000    9960.000000   \n",
       "75%     62.100000   51.350000    8.600000   58.750000   22800.000000   \n",
       "max    208.000000  200.000000   17.900000  174.000000  125000.000000   \n",
       "\n",
       "        inflation  life_expec   total_fer           gdpp  \n",
       "count  167.000000  167.000000  167.000000     167.000000  \n",
       "mean     7.781832   70.555689    2.947964   12964.155689  \n",
       "std     10.570704    8.893172    1.513848   18328.704809  \n",
       "min     -4.210000   32.100000    1.150000     231.000000  \n",
       "25%      1.810000   65.300000    1.795000    1330.000000  \n",
       "50%      5.390000   73.100000    2.410000    4660.000000  \n",
       "75%     10.750000   76.800000    3.880000   14050.000000  \n",
       "max    104.000000   82.800000    7.490000  105000.000000  "
      ]
     },
     "execution_count": 4,
     "metadata": {},
     "output_type": "execute_result"
    }
   ],
   "source": [
    "npo_df.describe()"
   ]
  },
  {
   "cell_type": "code",
   "execution_count": 5,
   "id": "19292963",
   "metadata": {},
   "outputs": [
    {
     "name": "stdout",
     "output_type": "stream",
     "text": [
      "<class 'pandas.core.frame.DataFrame'>\n",
      "RangeIndex: 167 entries, 0 to 166\n",
      "Data columns (total 10 columns):\n",
      " #   Column      Non-Null Count  Dtype  \n",
      "---  ------      --------------  -----  \n",
      " 0   country     167 non-null    object \n",
      " 1   child_mort  167 non-null    float64\n",
      " 2   exports     167 non-null    float64\n",
      " 3   health      167 non-null    float64\n",
      " 4   imports     167 non-null    float64\n",
      " 5   income      167 non-null    int64  \n",
      " 6   inflation   167 non-null    float64\n",
      " 7   life_expec  167 non-null    float64\n",
      " 8   total_fer   167 non-null    float64\n",
      " 9   gdpp        167 non-null    int64  \n",
      "dtypes: float64(7), int64(2), object(1)\n",
      "memory usage: 13.2+ KB\n"
     ]
    }
   ],
   "source": [
    "npo_df.info()"
   ]
  },
  {
   "cell_type": "code",
   "execution_count": 6,
   "id": "4c133f07",
   "metadata": {},
   "outputs": [
    {
     "data": {
      "text/plain": [
       "208.0"
      ]
     },
     "execution_count": 6,
     "metadata": {},
     "output_type": "execute_result"
    }
   ],
   "source": [
    "npo_df['child_mort'].max()"
   ]
  },
  {
   "cell_type": "code",
   "execution_count": 14,
   "id": "95b73b25",
   "metadata": {},
   "outputs": [
    {
     "data": {
      "text/html": [
       "<div>\n",
       "<style scoped>\n",
       "    .dataframe tbody tr th:only-of-type {\n",
       "        vertical-align: middle;\n",
       "    }\n",
       "\n",
       "    .dataframe tbody tr th {\n",
       "        vertical-align: top;\n",
       "    }\n",
       "\n",
       "    .dataframe thead th {\n",
       "        text-align: right;\n",
       "    }\n",
       "</style>\n",
       "<table border=\"1\" class=\"dataframe\">\n",
       "  <thead>\n",
       "    <tr style=\"text-align: right;\">\n",
       "      <th></th>\n",
       "      <th>country</th>\n",
       "      <th>child_mort</th>\n",
       "      <th>exports</th>\n",
       "      <th>health</th>\n",
       "      <th>imports</th>\n",
       "      <th>income</th>\n",
       "      <th>inflation</th>\n",
       "      <th>life_expec</th>\n",
       "      <th>total_fer</th>\n",
       "      <th>gdpp</th>\n",
       "    </tr>\n",
       "  </thead>\n",
       "  <tbody>\n",
       "    <tr>\n",
       "      <th>66</th>\n",
       "      <td>Haiti</td>\n",
       "      <td>208.0</td>\n",
       "      <td>15.3</td>\n",
       "      <td>6.91</td>\n",
       "      <td>64.7</td>\n",
       "      <td>1500</td>\n",
       "      <td>5.45</td>\n",
       "      <td>32.1</td>\n",
       "      <td>3.33</td>\n",
       "      <td>662</td>\n",
       "    </tr>\n",
       "  </tbody>\n",
       "</table>\n",
       "</div>"
      ],
      "text/plain": [
       "   country  child_mort  exports  health  imports  income  inflation  \\\n",
       "66   Haiti       208.0     15.3    6.91     64.7    1500       5.45   \n",
       "\n",
       "    life_expec  total_fer  gdpp  \n",
       "66        32.1       3.33   662  "
      ]
     },
     "execution_count": 14,
     "metadata": {},
     "output_type": "execute_result"
    }
   ],
   "source": [
    "npo_df.loc[npo_df['child_mort'] == 208 , :]"
   ]
  },
  {
   "cell_type": "code",
   "execution_count": 15,
   "id": "222b8c88",
   "metadata": {},
   "outputs": [
    {
     "data": {
      "text/plain": [
       "1.81"
      ]
     },
     "execution_count": 15,
     "metadata": {},
     "output_type": "execute_result"
    }
   ],
   "source": [
    "npo_df['health'].min()"
   ]
  },
  {
   "cell_type": "code",
   "execution_count": 16,
   "id": "6c769ce2",
   "metadata": {},
   "outputs": [
    {
     "data": {
      "text/html": [
       "<div>\n",
       "<style scoped>\n",
       "    .dataframe tbody tr th:only-of-type {\n",
       "        vertical-align: middle;\n",
       "    }\n",
       "\n",
       "    .dataframe tbody tr th {\n",
       "        vertical-align: top;\n",
       "    }\n",
       "\n",
       "    .dataframe thead th {\n",
       "        text-align: right;\n",
       "    }\n",
       "</style>\n",
       "<table border=\"1\" class=\"dataframe\">\n",
       "  <thead>\n",
       "    <tr style=\"text-align: right;\">\n",
       "      <th></th>\n",
       "      <th>country</th>\n",
       "      <th>child_mort</th>\n",
       "      <th>exports</th>\n",
       "      <th>health</th>\n",
       "      <th>imports</th>\n",
       "      <th>income</th>\n",
       "      <th>inflation</th>\n",
       "      <th>life_expec</th>\n",
       "      <th>total_fer</th>\n",
       "      <th>gdpp</th>\n",
       "    </tr>\n",
       "  </thead>\n",
       "  <tbody>\n",
       "    <tr>\n",
       "      <th>123</th>\n",
       "      <td>Qatar</td>\n",
       "      <td>9.0</td>\n",
       "      <td>62.3</td>\n",
       "      <td>1.81</td>\n",
       "      <td>23.8</td>\n",
       "      <td>125000</td>\n",
       "      <td>6.98</td>\n",
       "      <td>79.5</td>\n",
       "      <td>2.07</td>\n",
       "      <td>70300</td>\n",
       "    </tr>\n",
       "  </tbody>\n",
       "</table>\n",
       "</div>"
      ],
      "text/plain": [
       "    country  child_mort  exports  health  imports  income  inflation  \\\n",
       "123   Qatar         9.0     62.3    1.81     23.8  125000       6.98   \n",
       "\n",
       "     life_expec  total_fer   gdpp  \n",
       "123        79.5       2.07  70300  "
      ]
     },
     "execution_count": 16,
     "metadata": {},
     "output_type": "execute_result"
    }
   ],
   "source": [
    "npo_df.loc[npo_df['health'] == 1.81 , :]"
   ]
  },
  {
   "cell_type": "markdown",
   "id": "7c336f69",
   "metadata": {},
   "source": [
    "**We will reduce the columns for the purpose of the problem to include \"Child mortality, Health, Life expectancy, Income and Inflation\", since these columns are indicators for our study.**"
   ]
  },
  {
   "cell_type": "code",
   "execution_count": 17,
   "id": "2bd172dc",
   "metadata": {},
   "outputs": [],
   "source": [
    "npo_df1=npo_df.loc[:,[\"child_mort\",\"health\", \"life_expec\",\"income\",\"inflation\"]]"
   ]
  },
  {
   "cell_type": "markdown",
   "id": "4cc10068",
   "metadata": {},
   "source": [
    "**Now, let us go ahead and create a dataframe with normalization for all of the given features**"
   ]
  },
  {
   "cell_type": "code",
   "execution_count": 24,
   "id": "cd3749be",
   "metadata": {},
   "outputs": [],
   "source": [
    "from sklearn import preprocessing"
   ]
  },
  {
   "cell_type": "code",
   "execution_count": 25,
   "id": "c0495c18",
   "metadata": {},
   "outputs": [],
   "source": [
    "#norm=Normalizer()\n",
    "X = preprocessing.normalize(npo_df1)"
   ]
  },
  {
   "cell_type": "code",
   "execution_count": 27,
   "id": "7bd8f945",
   "metadata": {},
   "outputs": [],
   "source": [
    "X = pd.DataFrame(X)"
   ]
  },
  {
   "cell_type": "code",
   "execution_count": 28,
   "id": "e55cd49a",
   "metadata": {},
   "outputs": [
    {
     "data": {
      "text/html": [
       "<div>\n",
       "<style scoped>\n",
       "    .dataframe tbody tr th:only-of-type {\n",
       "        vertical-align: middle;\n",
       "    }\n",
       "\n",
       "    .dataframe tbody tr th {\n",
       "        vertical-align: top;\n",
       "    }\n",
       "\n",
       "    .dataframe thead th {\n",
       "        text-align: right;\n",
       "    }\n",
       "</style>\n",
       "<table border=\"1\" class=\"dataframe\">\n",
       "  <thead>\n",
       "    <tr style=\"text-align: right;\">\n",
       "      <th></th>\n",
       "      <th>0</th>\n",
       "      <th>1</th>\n",
       "      <th>2</th>\n",
       "      <th>3</th>\n",
       "      <th>4</th>\n",
       "    </tr>\n",
       "  </thead>\n",
       "  <tbody>\n",
       "    <tr>\n",
       "      <th>count</th>\n",
       "      <td>167.000000</td>\n",
       "      <td>167.000000</td>\n",
       "      <td>167.000000</td>\n",
       "      <td>167.000000</td>\n",
       "      <td>167.000000</td>\n",
       "    </tr>\n",
       "    <tr>\n",
       "      <th>mean</th>\n",
       "      <td>0.017657</td>\n",
       "      <td>0.001551</td>\n",
       "      <td>0.014194</td>\n",
       "      <td>0.998991</td>\n",
       "      <td>0.002032</td>\n",
       "    </tr>\n",
       "    <tr>\n",
       "      <th>std</th>\n",
       "      <td>0.034421</td>\n",
       "      <td>0.002524</td>\n",
       "      <td>0.017050</td>\n",
       "      <td>0.002941</td>\n",
       "      <td>0.004010</td>\n",
       "    </tr>\n",
       "    <tr>\n",
       "      <th>min</th>\n",
       "      <td>0.000031</td>\n",
       "      <td>0.000014</td>\n",
       "      <td>0.000636</td>\n",
       "      <td>0.977516</td>\n",
       "      <td>-0.000206</td>\n",
       "    </tr>\n",
       "    <tr>\n",
       "      <th>25%</th>\n",
       "      <td>0.000314</td>\n",
       "      <td>0.000308</td>\n",
       "      <td>0.003282</td>\n",
       "      <td>0.999641</td>\n",
       "      <td>0.000104</td>\n",
       "    </tr>\n",
       "    <tr>\n",
       "      <th>50%</th>\n",
       "      <td>0.002228</td>\n",
       "      <td>0.000597</td>\n",
       "      <td>0.007150</td>\n",
       "      <td>0.999971</td>\n",
       "      <td>0.000580</td>\n",
       "    </tr>\n",
       "    <tr>\n",
       "      <th>75%</th>\n",
       "      <td>0.018714</td>\n",
       "      <td>0.001614</td>\n",
       "      <td>0.018734</td>\n",
       "      <td>0.999994</td>\n",
       "      <td>0.002178</td>\n",
       "    </tr>\n",
       "    <tr>\n",
       "      <th>max</th>\n",
       "      <td>0.186194</td>\n",
       "      <td>0.016657</td>\n",
       "      <td>0.092294</td>\n",
       "      <td>1.000000</td>\n",
       "      <td>0.033386</td>\n",
       "    </tr>\n",
       "  </tbody>\n",
       "</table>\n",
       "</div>"
      ],
      "text/plain": [
       "                0           1           2           3           4\n",
       "count  167.000000  167.000000  167.000000  167.000000  167.000000\n",
       "mean     0.017657    0.001551    0.014194    0.998991    0.002032\n",
       "std      0.034421    0.002524    0.017050    0.002941    0.004010\n",
       "min      0.000031    0.000014    0.000636    0.977516   -0.000206\n",
       "25%      0.000314    0.000308    0.003282    0.999641    0.000104\n",
       "50%      0.002228    0.000597    0.007150    0.999971    0.000580\n",
       "75%      0.018714    0.001614    0.018734    0.999994    0.002178\n",
       "max      0.186194    0.016657    0.092294    1.000000    0.033386"
      ]
     },
     "execution_count": 28,
     "metadata": {},
     "output_type": "execute_result"
    }
   ],
   "source": [
    "X.describe()"
   ]
  },
  {
   "cell_type": "markdown",
   "id": "28b8ba27",
   "metadata": {},
   "source": [
    "# KMeans clustering"
   ]
  },
  {
   "cell_type": "code",
   "execution_count": 29,
   "id": "1973eb31",
   "metadata": {},
   "outputs": [
    {
     "name": "stderr",
     "output_type": "stream",
     "text": [
      "C:\\Users\\Dilip\\anaconda3\\lib\\site-packages\\sklearn\\cluster\\_kmeans.py:881: UserWarning: KMeans is known to have a memory leak on Windows with MKL, when there are less chunks than available threads. You can avoid it by setting the environment variable OMP_NUM_THREADS=1.\n",
      "  warnings.warn(\n"
     ]
    },
    {
     "name": "stdout",
     "output_type": "stream",
     "text": [
      "0.25009281016911844\n",
      "0.07123501734599887\n",
      "0.0334114547980828\n",
      "0.02074111149308584\n",
      "0.016666388519194632\n",
      "0.012930842288218305\n",
      "0.01057246635501103\n",
      "0.008908358885922023\n",
      "0.007462851609862054\n",
      "0.006532215235213402\n"
     ]
    },
    {
     "data": {
      "image/png": "[encoded data removed]",
      "text/plain": [
       "<Figure size 432x288 with 1 Axes>"
      ]
     },
     "metadata": {
      "needs_background": "light"
     },
     "output_type": "display_data"
    }
   ],
   "source": [
    "from sklearn.cluster import KMeans\n",
    "wcss = []\n",
    "for i in range(1,11):\n",
    "    kmeans = KMeans(n_clusters=i, init='k-means++', random_state=42)\n",
    "    kmeans.fit(X)\n",
    "    wcss.append(kmeans.inertia_)\n",
    "    print(kmeans.inertia_)\n",
    "plt.plot(range(1,11),wcss)\n",
    "plt.title('Elbow method to find optimum no. of clusters')\n",
    "plt.xlabel('WCSS')\n",
    "plt.show()"
   ]
  },
  {
   "cell_type": "markdown",
   "id": "ed885030",
   "metadata": {},
   "source": [
    "**It appears that the optimum number of clusters for this problem is 3; therefore creating the KMeans model using that value**"
   ]
  },
  {
   "cell_type": "code",
   "execution_count": 30,
   "id": "4868b237",
   "metadata": {},
   "outputs": [],
   "source": [
    "kmeans=KMeans(n_clusters=3, init='k-means++', random_state=42)\n",
    "y_means=kmeans.fit_predict(X)"
   ]
  },
  {
   "cell_type": "code",
   "execution_count": 31,
   "id": "44e2e08c",
   "metadata": {},
   "outputs": [
    {
     "data": {
      "text/plain": [
       "numpy.ndarray"
      ]
     },
     "execution_count": 31,
     "metadata": {},
     "output_type": "execute_result"
    }
   ],
   "source": [
    "type(y_means)"
   ]
  },
  {
   "cell_type": "code",
   "execution_count": 32,
   "id": "9147a07f",
   "metadata": {},
   "outputs": [],
   "source": [
    "Categ_df=pd.DataFrame(data=y_means,columns=[\"Category\"])"
   ]
  },
  {
   "cell_type": "code",
   "execution_count": 33,
   "id": "133b7823",
   "metadata": {},
   "outputs": [],
   "source": [
    "Final_df=npo_df.join(Categ_df)"
   ]
  },
  {
   "cell_type": "code",
   "execution_count": 36,
   "id": "d47b590e",
   "metadata": {},
   "outputs": [
    {
     "data": {
      "text/plain": [
       "Category\n",
       "0     25\n",
       "1      8\n",
       "2    134\n",
       "Name: country, dtype: int64"
      ]
     },
     "execution_count": 36,
     "metadata": {},
     "output_type": "execute_result"
    }
   ],
   "source": [
    "#Final_df.info()\n",
    "Final_df[\"country\"].groupby(Final_df[\"Category\"]).count()"
   ]
  },
  {
   "cell_type": "code",
   "execution_count": 42,
   "id": "da27f621",
   "metadata": {},
   "outputs": [
    {
     "data": {
      "text/html": [
       "<div>\n",
       "<style scoped>\n",
       "    .dataframe tbody tr th:only-of-type {\n",
       "        vertical-align: middle;\n",
       "    }\n",
       "\n",
       "    .dataframe tbody tr th {\n",
       "        vertical-align: top;\n",
       "    }\n",
       "\n",
       "    .dataframe thead th {\n",
       "        text-align: right;\n",
       "    }\n",
       "</style>\n",
       "<table border=\"1\" class=\"dataframe\">\n",
       "  <thead>\n",
       "    <tr style=\"text-align: right;\">\n",
       "      <th></th>\n",
       "      <th>country</th>\n",
       "      <th>child_mort</th>\n",
       "      <th>health</th>\n",
       "      <th>life_expec</th>\n",
       "      <th>income</th>\n",
       "      <th>inflation</th>\n",
       "    </tr>\n",
       "  </thead>\n",
       "  <tbody>\n",
       "    <tr>\n",
       "      <th>26</th>\n",
       "      <td>Burundi</td>\n",
       "      <td>93.6</td>\n",
       "      <td>11.60</td>\n",
       "      <td>57.7</td>\n",
       "      <td>764</td>\n",
       "      <td>12.30</td>\n",
       "    </tr>\n",
       "    <tr>\n",
       "      <th>31</th>\n",
       "      <td>Central African Republic</td>\n",
       "      <td>149.0</td>\n",
       "      <td>3.98</td>\n",
       "      <td>47.5</td>\n",
       "      <td>888</td>\n",
       "      <td>2.01</td>\n",
       "    </tr>\n",
       "    <tr>\n",
       "      <th>37</th>\n",
       "      <td>Congo, Dem. Rep.</td>\n",
       "      <td>116.0</td>\n",
       "      <td>7.91</td>\n",
       "      <td>57.5</td>\n",
       "      <td>609</td>\n",
       "      <td>20.80</td>\n",
       "    </tr>\n",
       "    <tr>\n",
       "      <th>66</th>\n",
       "      <td>Haiti</td>\n",
       "      <td>208.0</td>\n",
       "      <td>6.91</td>\n",
       "      <td>32.1</td>\n",
       "      <td>1500</td>\n",
       "      <td>5.45</td>\n",
       "    </tr>\n",
       "    <tr>\n",
       "      <th>88</th>\n",
       "      <td>Liberia</td>\n",
       "      <td>89.3</td>\n",
       "      <td>11.80</td>\n",
       "      <td>60.8</td>\n",
       "      <td>700</td>\n",
       "      <td>5.47</td>\n",
       "    </tr>\n",
       "    <tr>\n",
       "      <th>106</th>\n",
       "      <td>Mozambique</td>\n",
       "      <td>101.0</td>\n",
       "      <td>5.21</td>\n",
       "      <td>54.5</td>\n",
       "      <td>918</td>\n",
       "      <td>7.64</td>\n",
       "    </tr>\n",
       "    <tr>\n",
       "      <th>112</th>\n",
       "      <td>Niger</td>\n",
       "      <td>123.0</td>\n",
       "      <td>5.16</td>\n",
       "      <td>58.8</td>\n",
       "      <td>814</td>\n",
       "      <td>2.55</td>\n",
       "    </tr>\n",
       "    <tr>\n",
       "      <th>132</th>\n",
       "      <td>Sierra Leone</td>\n",
       "      <td>160.0</td>\n",
       "      <td>13.10</td>\n",
       "      <td>55.0</td>\n",
       "      <td>1220</td>\n",
       "      <td>17.20</td>\n",
       "    </tr>\n",
       "  </tbody>\n",
       "</table>\n",
       "</div>"
      ],
      "text/plain": [
       "                      country  child_mort  health  life_expec  income  \\\n",
       "26                    Burundi        93.6   11.60        57.7     764   \n",
       "31   Central African Republic       149.0    3.98        47.5     888   \n",
       "37           Congo, Dem. Rep.       116.0    7.91        57.5     609   \n",
       "66                      Haiti       208.0    6.91        32.1    1500   \n",
       "88                    Liberia        89.3   11.80        60.8     700   \n",
       "106                Mozambique       101.0    5.21        54.5     918   \n",
       "112                     Niger       123.0    5.16        58.8     814   \n",
       "132              Sierra Leone       160.0   13.10        55.0    1220   \n",
       "\n",
       "     inflation  \n",
       "26       12.30  \n",
       "31        2.01  \n",
       "37       20.80  \n",
       "66        5.45  \n",
       "88        5.47  \n",
       "106       7.64  \n",
       "112       2.55  \n",
       "132      17.20  "
      ]
     },
     "execution_count": 42,
     "metadata": {},
     "output_type": "execute_result"
    }
   ],
   "source": [
    "Final_df.loc[(Final_df[\"Category\"]==1), [\"country\",\"child_mort\",\"health\", \"life_expec\",\"income\",\"inflation\"]]"
   ]
  },
  {
   "cell_type": "code",
   "execution_count": 43,
   "id": "f5565f59",
   "metadata": {},
   "outputs": [
    {
     "data": {
      "text/html": [
       "<div>\n",
       "<style scoped>\n",
       "    .dataframe tbody tr th:only-of-type {\n",
       "        vertical-align: middle;\n",
       "    }\n",
       "\n",
       "    .dataframe tbody tr th {\n",
       "        vertical-align: top;\n",
       "    }\n",
       "\n",
       "    .dataframe thead th {\n",
       "        text-align: right;\n",
       "    }\n",
       "</style>\n",
       "<table border=\"1\" class=\"dataframe\">\n",
       "  <thead>\n",
       "    <tr style=\"text-align: right;\">\n",
       "      <th></th>\n",
       "      <th>country</th>\n",
       "      <th>child_mort</th>\n",
       "      <th>health</th>\n",
       "      <th>life_expec</th>\n",
       "      <th>income</th>\n",
       "      <th>inflation</th>\n",
       "    </tr>\n",
       "  </thead>\n",
       "  <tbody>\n",
       "    <tr>\n",
       "      <th>0</th>\n",
       "      <td>Afghanistan</td>\n",
       "      <td>90.2</td>\n",
       "      <td>7.58</td>\n",
       "      <td>56.2</td>\n",
       "      <td>1610</td>\n",
       "      <td>9.440</td>\n",
       "    </tr>\n",
       "    <tr>\n",
       "      <th>17</th>\n",
       "      <td>Benin</td>\n",
       "      <td>111.0</td>\n",
       "      <td>4.10</td>\n",
       "      <td>61.8</td>\n",
       "      <td>1820</td>\n",
       "      <td>0.885</td>\n",
       "    </tr>\n",
       "    <tr>\n",
       "      <th>25</th>\n",
       "      <td>Burkina Faso</td>\n",
       "      <td>116.0</td>\n",
       "      <td>6.74</td>\n",
       "      <td>57.9</td>\n",
       "      <td>1430</td>\n",
       "      <td>6.810</td>\n",
       "    </tr>\n",
       "    <tr>\n",
       "      <th>28</th>\n",
       "      <td>Cameroon</td>\n",
       "      <td>108.0</td>\n",
       "      <td>5.13</td>\n",
       "      <td>57.3</td>\n",
       "      <td>2660</td>\n",
       "      <td>1.910</td>\n",
       "    </tr>\n",
       "    <tr>\n",
       "      <th>32</th>\n",
       "      <td>Chad</td>\n",
       "      <td>150.0</td>\n",
       "      <td>4.53</td>\n",
       "      <td>56.5</td>\n",
       "      <td>1930</td>\n",
       "      <td>6.390</td>\n",
       "    </tr>\n",
       "    <tr>\n",
       "      <th>36</th>\n",
       "      <td>Comoros</td>\n",
       "      <td>88.2</td>\n",
       "      <td>4.51</td>\n",
       "      <td>65.9</td>\n",
       "      <td>1410</td>\n",
       "      <td>3.870</td>\n",
       "    </tr>\n",
       "    <tr>\n",
       "      <th>40</th>\n",
       "      <td>Cote d'Ivoire</td>\n",
       "      <td>111.0</td>\n",
       "      <td>5.30</td>\n",
       "      <td>56.3</td>\n",
       "      <td>2690</td>\n",
       "      <td>5.390</td>\n",
       "    </tr>\n",
       "    <tr>\n",
       "      <th>50</th>\n",
       "      <td>Eritrea</td>\n",
       "      <td>55.2</td>\n",
       "      <td>2.66</td>\n",
       "      <td>61.7</td>\n",
       "      <td>1420</td>\n",
       "      <td>11.600</td>\n",
       "    </tr>\n",
       "    <tr>\n",
       "      <th>56</th>\n",
       "      <td>Gambia</td>\n",
       "      <td>80.3</td>\n",
       "      <td>5.69</td>\n",
       "      <td>65.5</td>\n",
       "      <td>1660</td>\n",
       "      <td>4.300</td>\n",
       "    </tr>\n",
       "    <tr>\n",
       "      <th>63</th>\n",
       "      <td>Guinea</td>\n",
       "      <td>109.0</td>\n",
       "      <td>4.93</td>\n",
       "      <td>58.0</td>\n",
       "      <td>1190</td>\n",
       "      <td>16.100</td>\n",
       "    </tr>\n",
       "    <tr>\n",
       "      <th>64</th>\n",
       "      <td>Guinea-Bissau</td>\n",
       "      <td>114.0</td>\n",
       "      <td>8.50</td>\n",
       "      <td>55.6</td>\n",
       "      <td>1390</td>\n",
       "      <td>2.970</td>\n",
       "    </tr>\n",
       "    <tr>\n",
       "      <th>81</th>\n",
       "      <td>Kiribati</td>\n",
       "      <td>62.7</td>\n",
       "      <td>11.30</td>\n",
       "      <td>60.7</td>\n",
       "      <td>1730</td>\n",
       "      <td>1.520</td>\n",
       "    </tr>\n",
       "    <tr>\n",
       "      <th>87</th>\n",
       "      <td>Lesotho</td>\n",
       "      <td>99.7</td>\n",
       "      <td>11.10</td>\n",
       "      <td>46.5</td>\n",
       "      <td>2380</td>\n",
       "      <td>4.150</td>\n",
       "    </tr>\n",
       "    <tr>\n",
       "      <th>93</th>\n",
       "      <td>Madagascar</td>\n",
       "      <td>62.2</td>\n",
       "      <td>3.77</td>\n",
       "      <td>60.8</td>\n",
       "      <td>1390</td>\n",
       "      <td>8.790</td>\n",
       "    </tr>\n",
       "    <tr>\n",
       "      <th>94</th>\n",
       "      <td>Malawi</td>\n",
       "      <td>90.5</td>\n",
       "      <td>6.59</td>\n",
       "      <td>53.1</td>\n",
       "      <td>1030</td>\n",
       "      <td>12.100</td>\n",
       "    </tr>\n",
       "    <tr>\n",
       "      <th>97</th>\n",
       "      <td>Mali</td>\n",
       "      <td>137.0</td>\n",
       "      <td>4.98</td>\n",
       "      <td>59.5</td>\n",
       "      <td>1870</td>\n",
       "      <td>4.370</td>\n",
       "    </tr>\n",
       "    <tr>\n",
       "      <th>99</th>\n",
       "      <td>Mauritania</td>\n",
       "      <td>97.4</td>\n",
       "      <td>4.41</td>\n",
       "      <td>68.2</td>\n",
       "      <td>3320</td>\n",
       "      <td>18.900</td>\n",
       "    </tr>\n",
       "    <tr>\n",
       "      <th>109</th>\n",
       "      <td>Nepal</td>\n",
       "      <td>47.0</td>\n",
       "      <td>5.25</td>\n",
       "      <td>68.3</td>\n",
       "      <td>1990</td>\n",
       "      <td>15.100</td>\n",
       "    </tr>\n",
       "    <tr>\n",
       "      <th>126</th>\n",
       "      <td>Rwanda</td>\n",
       "      <td>63.6</td>\n",
       "      <td>10.50</td>\n",
       "      <td>64.6</td>\n",
       "      <td>1350</td>\n",
       "      <td>2.610</td>\n",
       "    </tr>\n",
       "    <tr>\n",
       "      <th>129</th>\n",
       "      <td>Senegal</td>\n",
       "      <td>66.8</td>\n",
       "      <td>5.66</td>\n",
       "      <td>64.0</td>\n",
       "      <td>2180</td>\n",
       "      <td>1.850</td>\n",
       "    </tr>\n",
       "    <tr>\n",
       "      <th>146</th>\n",
       "      <td>Tajikistan</td>\n",
       "      <td>52.4</td>\n",
       "      <td>5.98</td>\n",
       "      <td>69.6</td>\n",
       "      <td>2110</td>\n",
       "      <td>12.500</td>\n",
       "    </tr>\n",
       "    <tr>\n",
       "      <th>147</th>\n",
       "      <td>Tanzania</td>\n",
       "      <td>71.9</td>\n",
       "      <td>6.01</td>\n",
       "      <td>59.3</td>\n",
       "      <td>2090</td>\n",
       "      <td>9.250</td>\n",
       "    </tr>\n",
       "    <tr>\n",
       "      <th>149</th>\n",
       "      <td>Timor-Leste</td>\n",
       "      <td>62.6</td>\n",
       "      <td>9.12</td>\n",
       "      <td>71.1</td>\n",
       "      <td>1850</td>\n",
       "      <td>26.500</td>\n",
       "    </tr>\n",
       "    <tr>\n",
       "      <th>150</th>\n",
       "      <td>Togo</td>\n",
       "      <td>90.3</td>\n",
       "      <td>7.65</td>\n",
       "      <td>58.7</td>\n",
       "      <td>1210</td>\n",
       "      <td>1.180</td>\n",
       "    </tr>\n",
       "    <tr>\n",
       "      <th>155</th>\n",
       "      <td>Uganda</td>\n",
       "      <td>81.0</td>\n",
       "      <td>9.01</td>\n",
       "      <td>56.8</td>\n",
       "      <td>1540</td>\n",
       "      <td>10.600</td>\n",
       "    </tr>\n",
       "  </tbody>\n",
       "</table>\n",
       "</div>"
      ],
      "text/plain": [
       "           country  child_mort  health  life_expec  income  inflation\n",
       "0      Afghanistan        90.2    7.58        56.2    1610      9.440\n",
       "17           Benin       111.0    4.10        61.8    1820      0.885\n",
       "25    Burkina Faso       116.0    6.74        57.9    1430      6.810\n",
       "28        Cameroon       108.0    5.13        57.3    2660      1.910\n",
       "32            Chad       150.0    4.53        56.5    1930      6.390\n",
       "36         Comoros        88.2    4.51        65.9    1410      3.870\n",
       "40   Cote d'Ivoire       111.0    5.30        56.3    2690      5.390\n",
       "50         Eritrea        55.2    2.66        61.7    1420     11.600\n",
       "56          Gambia        80.3    5.69        65.5    1660      4.300\n",
       "63          Guinea       109.0    4.93        58.0    1190     16.100\n",
       "64   Guinea-Bissau       114.0    8.50        55.6    1390      2.970\n",
       "81        Kiribati        62.7   11.30        60.7    1730      1.520\n",
       "87         Lesotho        99.7   11.10        46.5    2380      4.150\n",
       "93      Madagascar        62.2    3.77        60.8    1390      8.790\n",
       "94          Malawi        90.5    6.59        53.1    1030     12.100\n",
       "97            Mali       137.0    4.98        59.5    1870      4.370\n",
       "99      Mauritania        97.4    4.41        68.2    3320     18.900\n",
       "109          Nepal        47.0    5.25        68.3    1990     15.100\n",
       "126         Rwanda        63.6   10.50        64.6    1350      2.610\n",
       "129        Senegal        66.8    5.66        64.0    2180      1.850\n",
       "146     Tajikistan        52.4    5.98        69.6    2110     12.500\n",
       "147       Tanzania        71.9    6.01        59.3    2090      9.250\n",
       "149    Timor-Leste        62.6    9.12        71.1    1850     26.500\n",
       "150           Togo        90.3    7.65        58.7    1210      1.180\n",
       "155         Uganda        81.0    9.01        56.8    1540     10.600"
      ]
     },
     "execution_count": 43,
     "metadata": {},
     "output_type": "execute_result"
    }
   ],
   "source": [
    "Final_df.loc[(Final_df[\"Category\"]==0), [\"country\",\"child_mort\",\"health\", \"life_expec\",\"income\",\"inflation\"]]"
   ]
  },
  {
   "cell_type": "code",
   "execution_count": 45,
   "id": "16f68a07",
   "metadata": {},
   "outputs": [
    {
     "data": {
      "text/plain": [
       "1810.0"
      ]
     },
     "execution_count": 45,
     "metadata": {},
     "output_type": "execute_result"
    }
   ],
   "source": [
    "Final_df.loc[(Final_df[\"Category\"]==0, 'income')].mean()"
   ]
  },
  {
   "cell_type": "code",
   "execution_count": 46,
   "id": "36faf1a9",
   "metadata": {},
   "outputs": [
    {
     "data": {
      "text/plain": [
       "926.625"
      ]
     },
     "execution_count": 46,
     "metadata": {},
     "output_type": "execute_result"
    }
   ],
   "source": [
    "Final_df.loc[(Final_df[\"Category\"]==1, 'income')].mean()"
   ]
  },
  {
   "cell_type": "code",
   "execution_count": 47,
   "id": "ea7e4ae4",
   "metadata": {},
   "outputs": [
    {
     "data": {
      "text/plain": [
       "20973.880597014926"
      ]
     },
     "execution_count": 47,
     "metadata": {},
     "output_type": "execute_result"
    }
   ],
   "source": [
    "Final_df.loc[(Final_df[\"Category\"]==2, 'income')].mean()"
   ]
  },
  {
   "cell_type": "markdown",
   "id": "9e219f62",
   "metadata": {},
   "source": [
    "**As seen above, the algorithm has classified the generally accepted \"poor\" countries in the category '1', the \"somewhat poor\" countries in category '0' and the others in category '2'.**"
   ]
  },
  {
   "cell_type": "markdown",
   "id": "08314609",
   "metadata": {},
   "source": [
    "# Agglomerative Hierarchical Clustering"
   ]
  },
  {
   "cell_type": "code",
   "execution_count": 55,
   "id": "17868cfb",
   "metadata": {},
   "outputs": [
    {
     "data": {
      "image/png": "[encoded data removed]",
      "text/plain": [
       "<Figure size 1080x1296 with 1 Axes>"
      ]
     },
     "metadata": {
      "needs_background": "light"
     },
     "output_type": "display_data"
    }
   ],
   "source": [
    "import scipy.cluster.hierarchy as sch\n",
    "\n",
    "plt.figure(figsize=(15,18))\n",
    "dendrogram = sch.dendrogram(sch.linkage(X, method = 'ward'))\n",
    "plt.title('Dendrogram')\n",
    "plt.xlabel('Countries in study')\n",
    "plt.ylabel('Euclidean distance')\n",
    "plt.hlines(0.5,0,5000, colors=\"r\", linestyles=\"dashed\")\n",
    "plt.hlines(0.08,0,5000, colors=\"r\", linestyles=\"dashed\")\n",
    "plt.show()"
   ]
  },
  {
   "cell_type": "markdown",
   "id": "8a3a30c9",
   "metadata": {},
   "source": [
    "**The first obvious clustering seems to be with the number of clusters at 2, and the next one seems to be with number of clusters as 6. Let us try with both**"
   ]
  },
  {
   "cell_type": "code",
   "execution_count": 56,
   "id": "98d0d06e",
   "metadata": {},
   "outputs": [],
   "source": [
    "from sklearn.cluster import AgglomerativeClustering\n",
    "hc = AgglomerativeClustering(n_clusters=2, affinity='euclidean', linkage='ward')\n",
    "y_hc = hc.fit_predict(X)"
   ]
  },
  {
   "cell_type": "code",
   "execution_count": 57,
   "id": "bc84c598",
   "metadata": {},
   "outputs": [
    {
     "data": {
      "text/plain": [
       "numpy.ndarray"
      ]
     },
     "execution_count": 57,
     "metadata": {},
     "output_type": "execute_result"
    }
   ],
   "source": [
    "type(y_hc)"
   ]
  },
  {
   "cell_type": "code",
   "execution_count": 59,
   "id": "bd687958",
   "metadata": {},
   "outputs": [],
   "source": [
    "CategHC_2_df=pd.DataFrame(data=y_hc,columns=[\"Category_HC_2\"])"
   ]
  },
  {
   "cell_type": "code",
   "execution_count": 60,
   "id": "e82412e0",
   "metadata": {},
   "outputs": [],
   "source": [
    "Final_HC_2_df=npo_df.join(CategHC_2_df)"
   ]
  },
  {
   "cell_type": "code",
   "execution_count": 62,
   "id": "c3f45fe0",
   "metadata": {},
   "outputs": [
    {
     "data": {
      "text/plain": [
       "Category_HC_2\n",
       "0    151\n",
       "1     16\n",
       "Name: country, dtype: int64"
      ]
     },
     "execution_count": 62,
     "metadata": {},
     "output_type": "execute_result"
    }
   ],
   "source": [
    "Final_HC_2_df[\"country\"].groupby(Final_HC_2_df[\"Category_HC_2\"]).count()"
   ]
  },
  {
   "cell_type": "markdown",
   "id": "87afef64",
   "metadata": {},
   "source": [
    "**Here the number of countries in the category '1' is 16. Let us have a look at those countries**"
   ]
  },
  {
   "cell_type": "code",
   "execution_count": 64,
   "id": "6b08b9d8",
   "metadata": {},
   "outputs": [
    {
     "data": {
      "text/html": [
       "<div>\n",
       "<style scoped>\n",
       "    .dataframe tbody tr th:only-of-type {\n",
       "        vertical-align: middle;\n",
       "    }\n",
       "\n",
       "    .dataframe tbody tr th {\n",
       "        vertical-align: top;\n",
       "    }\n",
       "\n",
       "    .dataframe thead th {\n",
       "        text-align: right;\n",
       "    }\n",
       "</style>\n",
       "<table border=\"1\" class=\"dataframe\">\n",
       "  <thead>\n",
       "    <tr style=\"text-align: right;\">\n",
       "      <th></th>\n",
       "      <th>country</th>\n",
       "      <th>child_mort</th>\n",
       "      <th>health</th>\n",
       "      <th>life_expec</th>\n",
       "      <th>income</th>\n",
       "      <th>inflation</th>\n",
       "    </tr>\n",
       "  </thead>\n",
       "  <tbody>\n",
       "    <tr>\n",
       "      <th>25</th>\n",
       "      <td>Burkina Faso</td>\n",
       "      <td>116.0</td>\n",
       "      <td>6.74</td>\n",
       "      <td>57.9</td>\n",
       "      <td>1430</td>\n",
       "      <td>6.81</td>\n",
       "    </tr>\n",
       "    <tr>\n",
       "      <th>26</th>\n",
       "      <td>Burundi</td>\n",
       "      <td>93.6</td>\n",
       "      <td>11.60</td>\n",
       "      <td>57.7</td>\n",
       "      <td>764</td>\n",
       "      <td>12.30</td>\n",
       "    </tr>\n",
       "    <tr>\n",
       "      <th>31</th>\n",
       "      <td>Central African Republic</td>\n",
       "      <td>149.0</td>\n",
       "      <td>3.98</td>\n",
       "      <td>47.5</td>\n",
       "      <td>888</td>\n",
       "      <td>2.01</td>\n",
       "    </tr>\n",
       "    <tr>\n",
       "      <th>32</th>\n",
       "      <td>Chad</td>\n",
       "      <td>150.0</td>\n",
       "      <td>4.53</td>\n",
       "      <td>56.5</td>\n",
       "      <td>1930</td>\n",
       "      <td>6.39</td>\n",
       "    </tr>\n",
       "    <tr>\n",
       "      <th>36</th>\n",
       "      <td>Comoros</td>\n",
       "      <td>88.2</td>\n",
       "      <td>4.51</td>\n",
       "      <td>65.9</td>\n",
       "      <td>1410</td>\n",
       "      <td>3.87</td>\n",
       "    </tr>\n",
       "    <tr>\n",
       "      <th>37</th>\n",
       "      <td>Congo, Dem. Rep.</td>\n",
       "      <td>116.0</td>\n",
       "      <td>7.91</td>\n",
       "      <td>57.5</td>\n",
       "      <td>609</td>\n",
       "      <td>20.80</td>\n",
       "    </tr>\n",
       "    <tr>\n",
       "      <th>63</th>\n",
       "      <td>Guinea</td>\n",
       "      <td>109.0</td>\n",
       "      <td>4.93</td>\n",
       "      <td>58.0</td>\n",
       "      <td>1190</td>\n",
       "      <td>16.10</td>\n",
       "    </tr>\n",
       "    <tr>\n",
       "      <th>64</th>\n",
       "      <td>Guinea-Bissau</td>\n",
       "      <td>114.0</td>\n",
       "      <td>8.50</td>\n",
       "      <td>55.6</td>\n",
       "      <td>1390</td>\n",
       "      <td>2.97</td>\n",
       "    </tr>\n",
       "    <tr>\n",
       "      <th>66</th>\n",
       "      <td>Haiti</td>\n",
       "      <td>208.0</td>\n",
       "      <td>6.91</td>\n",
       "      <td>32.1</td>\n",
       "      <td>1500</td>\n",
       "      <td>5.45</td>\n",
       "    </tr>\n",
       "    <tr>\n",
       "      <th>88</th>\n",
       "      <td>Liberia</td>\n",
       "      <td>89.3</td>\n",
       "      <td>11.80</td>\n",
       "      <td>60.8</td>\n",
       "      <td>700</td>\n",
       "      <td>5.47</td>\n",
       "    </tr>\n",
       "    <tr>\n",
       "      <th>94</th>\n",
       "      <td>Malawi</td>\n",
       "      <td>90.5</td>\n",
       "      <td>6.59</td>\n",
       "      <td>53.1</td>\n",
       "      <td>1030</td>\n",
       "      <td>12.10</td>\n",
       "    </tr>\n",
       "    <tr>\n",
       "      <th>97</th>\n",
       "      <td>Mali</td>\n",
       "      <td>137.0</td>\n",
       "      <td>4.98</td>\n",
       "      <td>59.5</td>\n",
       "      <td>1870</td>\n",
       "      <td>4.37</td>\n",
       "    </tr>\n",
       "    <tr>\n",
       "      <th>106</th>\n",
       "      <td>Mozambique</td>\n",
       "      <td>101.0</td>\n",
       "      <td>5.21</td>\n",
       "      <td>54.5</td>\n",
       "      <td>918</td>\n",
       "      <td>7.64</td>\n",
       "    </tr>\n",
       "    <tr>\n",
       "      <th>112</th>\n",
       "      <td>Niger</td>\n",
       "      <td>123.0</td>\n",
       "      <td>5.16</td>\n",
       "      <td>58.8</td>\n",
       "      <td>814</td>\n",
       "      <td>2.55</td>\n",
       "    </tr>\n",
       "    <tr>\n",
       "      <th>132</th>\n",
       "      <td>Sierra Leone</td>\n",
       "      <td>160.0</td>\n",
       "      <td>13.10</td>\n",
       "      <td>55.0</td>\n",
       "      <td>1220</td>\n",
       "      <td>17.20</td>\n",
       "    </tr>\n",
       "    <tr>\n",
       "      <th>150</th>\n",
       "      <td>Togo</td>\n",
       "      <td>90.3</td>\n",
       "      <td>7.65</td>\n",
       "      <td>58.7</td>\n",
       "      <td>1210</td>\n",
       "      <td>1.18</td>\n",
       "    </tr>\n",
       "  </tbody>\n",
       "</table>\n",
       "</div>"
      ],
      "text/plain": [
       "                      country  child_mort  health  life_expec  income  \\\n",
       "25               Burkina Faso       116.0    6.74        57.9    1430   \n",
       "26                    Burundi        93.6   11.60        57.7     764   \n",
       "31   Central African Republic       149.0    3.98        47.5     888   \n",
       "32                       Chad       150.0    4.53        56.5    1930   \n",
       "36                    Comoros        88.2    4.51        65.9    1410   \n",
       "37           Congo, Dem. Rep.       116.0    7.91        57.5     609   \n",
       "63                     Guinea       109.0    4.93        58.0    1190   \n",
       "64              Guinea-Bissau       114.0    8.50        55.6    1390   \n",
       "66                      Haiti       208.0    6.91        32.1    1500   \n",
       "88                    Liberia        89.3   11.80        60.8     700   \n",
       "94                     Malawi        90.5    6.59        53.1    1030   \n",
       "97                       Mali       137.0    4.98        59.5    1870   \n",
       "106                Mozambique       101.0    5.21        54.5     918   \n",
       "112                     Niger       123.0    5.16        58.8     814   \n",
       "132              Sierra Leone       160.0   13.10        55.0    1220   \n",
       "150                      Togo        90.3    7.65        58.7    1210   \n",
       "\n",
       "     inflation  \n",
       "25        6.81  \n",
       "26       12.30  \n",
       "31        2.01  \n",
       "32        6.39  \n",
       "36        3.87  \n",
       "37       20.80  \n",
       "63       16.10  \n",
       "64        2.97  \n",
       "66        5.45  \n",
       "88        5.47  \n",
       "94       12.10  \n",
       "97        4.37  \n",
       "106       7.64  \n",
       "112       2.55  \n",
       "132      17.20  \n",
       "150       1.18  "
      ]
     },
     "execution_count": 64,
     "metadata": {},
     "output_type": "execute_result"
    }
   ],
   "source": [
    "Final_HC_2_df.loc[(Final_HC_2_df[\"Category_HC_2\"]==1), [\"country\",\"child_mort\",\"health\", \"life_expec\",\"income\",\"inflation\"]]"
   ]
  },
  {
   "cell_type": "code",
   "execution_count": 66,
   "id": "03fb76ba",
   "metadata": {},
   "outputs": [
    {
     "data": {
      "text/plain": [
       "1179.5625"
      ]
     },
     "execution_count": 66,
     "metadata": {},
     "output_type": "execute_result"
    }
   ],
   "source": [
    "Final_HC_2_df.loc[(Final_HC_2_df[\"Category_HC_2\"]==1, 'income')].mean()"
   ]
  },
  {
   "cell_type": "code",
   "execution_count": 67,
   "id": "fe224750",
   "metadata": {},
   "outputs": [
    {
     "data": {
      "text/plain": [
       "18836.35761589404"
      ]
     },
     "execution_count": 67,
     "metadata": {},
     "output_type": "execute_result"
    }
   ],
   "source": [
    "Final_HC_2_df.loc[(Final_HC_2_df[\"Category_HC_2\"]==0, 'income')].mean()"
   ]
  },
  {
   "cell_type": "markdown",
   "id": "4e2ae1b0",
   "metadata": {},
   "source": [
    "**It is evident that the categorization has brought out the income differences as seen by the mean**"
   ]
  },
  {
   "cell_type": "markdown",
   "id": "ac09ddbf",
   "metadata": {},
   "source": [
    "# AHC with n=6"
   ]
  },
  {
   "cell_type": "code",
   "execution_count": 68,
   "id": "08459ae0",
   "metadata": {},
   "outputs": [],
   "source": [
    "from sklearn.cluster import AgglomerativeClustering\n",
    "hc6 = AgglomerativeClustering(n_clusters=6, affinity='euclidean', linkage='ward')\n",
    "y_hc6 = hc6.fit_predict(X)"
   ]
  },
  {
   "cell_type": "code",
   "execution_count": 69,
   "id": "21f31280",
   "metadata": {},
   "outputs": [
    {
     "data": {
      "text/plain": [
       "Category_HC_6\n",
       "0      6\n",
       "1      9\n",
       "2    116\n",
       "3     14\n",
       "4     21\n",
       "5      1\n",
       "Name: country, dtype: int64"
      ]
     },
     "execution_count": 69,
     "metadata": {},
     "output_type": "execute_result"
    }
   ],
   "source": [
    "CategHC_6_df=pd.DataFrame(data=y_hc6,columns=[\"Category_HC_6\"])\n",
    "Final_HC_6_df=npo_df.join(CategHC_6_df)\n",
    "Final_HC_6_df[\"country\"].groupby(Final_HC_6_df[\"Category_HC_6\"]).count()"
   ]
  },
  {
   "cell_type": "code",
   "execution_count": 83,
   "id": "be581e27",
   "metadata": {},
   "outputs": [
    {
     "name": "stdout",
     "output_type": "stream",
     "text": [
      "                      country  child_mort  health  life_expec  income  \\\n",
      "26                    Burundi        93.6   11.60        57.7     764   \n",
      "31   Central African Republic       149.0    3.98        47.5     888   \n",
      "66                      Haiti       208.0    6.91        32.1    1500   \n",
      "88                    Liberia        89.3   11.80        60.8     700   \n",
      "112                     Niger       123.0    5.16        58.8     814   \n",
      "132              Sierra Leone       160.0   13.10        55.0    1220   \n",
      "\n",
      "     inflation  \n",
      "26       12.30  \n",
      "31        2.01  \n",
      "66        5.45  \n",
      "88        5.47  \n",
      "112       2.55  \n",
      "132      17.20  \n",
      "Mean income 981.0\n"
     ]
    }
   ],
   "source": [
    "print(Final_HC_6_df.loc[(Final_HC_6_df[\"Category_HC_6\"]==0, [\"country\",\"child_mort\",\"health\", \"life_expec\",\"income\",\"inflation\"])])\n",
    "print(\"Mean income\",Final_HC_6_df.loc[(Final_HC_6_df[\"Category_HC_6\"]==0, \"income\")].mean(), flush=False)"
   ]
  },
  {
   "cell_type": "code",
   "execution_count": 81,
   "id": "c1b7c607",
   "metadata": {},
   "outputs": [
    {
     "name": "stdout",
     "output_type": "stream",
     "text": [
      "           country  child_mort  health  life_expec  income  inflation\n",
      "25    Burkina Faso       116.0    6.74        57.9    1430       6.81\n",
      "32            Chad       150.0    4.53        56.5    1930       6.39\n",
      "36         Comoros        88.2    4.51        65.9    1410       3.87\n",
      "63          Guinea       109.0    4.93        58.0    1190      16.10\n",
      "64   Guinea-Bissau       114.0    8.50        55.6    1390       2.97\n",
      "94          Malawi        90.5    6.59        53.1    1030      12.10\n",
      "97            Mali       137.0    4.98        59.5    1870       4.37\n",
      "106     Mozambique       101.0    5.21        54.5     918       7.64\n",
      "150           Togo        90.3    7.65        58.7    1210       1.18\n",
      "Mean income 1375.3333333333333\n"
     ]
    }
   ],
   "source": [
    "print(Final_HC_6_df.loc[(Final_HC_6_df[\"Category_HC_6\"]==1, [\"country\",\"child_mort\",\"health\", \"life_expec\",\"income\",\"inflation\"])])\n",
    "print(\"Mean income\",Final_HC_6_df.loc[(Final_HC_6_df[\"Category_HC_6\"]==1, \"income\")].mean(), flush=False)"
   ]
  },
  {
   "cell_type": "code",
   "execution_count": 82,
   "id": "54ce0772",
   "metadata": {},
   "outputs": [
    {
     "name": "stdout",
     "output_type": "stream",
     "text": [
      "           country  child_mort  health  life_expec  income  inflation\n",
      "0      Afghanistan        90.2    7.58        56.2    1610      9.440\n",
      "17           Benin       111.0    4.10        61.8    1820      0.885\n",
      "28        Cameroon       108.0    5.13        57.3    2660      1.910\n",
      "40   Cote d'Ivoire       111.0    5.30        56.3    2690      5.390\n",
      "50         Eritrea        55.2    2.66        61.7    1420     11.600\n",
      "56          Gambia        80.3    5.69        65.5    1660      4.300\n",
      "81        Kiribati        62.7   11.30        60.7    1730      1.520\n",
      "87         Lesotho        99.7   11.10        46.5    2380      4.150\n",
      "93      Madagascar        62.2    3.77        60.8    1390      8.790\n",
      "126         Rwanda        63.6   10.50        64.6    1350      2.610\n",
      "129        Senegal        66.8    5.66        64.0    2180      1.850\n",
      "147       Tanzania        71.9    6.01        59.3    2090      9.250\n",
      "149    Timor-Leste        62.6    9.12        71.1    1850     26.500\n",
      "155         Uganda        81.0    9.01        56.8    1540     10.600\n",
      "Mean income 1883.5714285714287\n"
     ]
    }
   ],
   "source": [
    "print(Final_HC_6_df.loc[(Final_HC_6_df[\"Category_HC_6\"]==3, [\"country\",\"child_mort\",\"health\", \"life_expec\",\"income\",\"inflation\"])])\n",
    "print(\"Mean income\",Final_HC_6_df.loc[(Final_HC_6_df[\"Category_HC_6\"]==3, \"income\")].mean(), flush=False)"
   ]
  },
  {
   "cell_type": "code",
   "execution_count": 84,
   "id": "2fea9979",
   "metadata": {
    "scrolled": true
   },
   "outputs": [
    {
     "name": "stdout",
     "output_type": "stream",
     "text": [
      "                   country  child_mort  health  life_expec  income  inflation\n",
      "3                   Angola       119.0    2.85        60.1    5900      22.40\n",
      "12              Bangladesh        49.4    3.52        70.4    2440       7.14\n",
      "27                Cambodia        44.4    5.68        66.1    2520       3.12\n",
      "38             Congo, Rep.        63.9    2.46        60.4    5190      20.70\n",
      "59                   Ghana        74.7    5.22        62.2    3060      16.60\n",
      "69                   India        58.8    4.05        66.2    4410       8.98\n",
      "80                   Kenya        62.2    4.75        62.8    2480       2.09\n",
      "83         Kyrgyz Republic        29.6    6.18        68.5    2790      10.00\n",
      "84                     Lao        78.9    4.47        63.8    3980       9.20\n",
      "99              Mauritania        97.4    4.41        68.2    3320      18.90\n",
      "101  Micronesia, Fed. Sts.        40.0   14.20        65.4    3340       3.80\n",
      "107                Myanmar        64.4    1.97        66.8    3720       7.04\n",
      "109                  Nepal        47.0    5.25        68.3    1990      15.10\n",
      "113                Nigeria       130.0    5.07        60.5    5150     104.00\n",
      "116               Pakistan        92.1    2.20        65.3    4280      10.90\n",
      "136        Solomon Islands        28.1    8.55        61.7    1780       6.81\n",
      "142                  Sudan        76.7    6.32        66.3    3370      19.60\n",
      "146             Tajikistan        52.4    5.98        69.6    2110      12.50\n",
      "162                Vanuatu        29.2    5.25        63.0    2950       2.62\n",
      "165                  Yemen        56.3    5.18        67.5    4480      23.60\n",
      "166                 Zambia        83.1    5.89        52.0    3280      14.00\n",
      "Mean income 3454.285714285714\n"
     ]
    }
   ],
   "source": [
    "print(Final_HC_6_df.loc[(Final_HC_6_df[\"Category_HC_6\"]==4, [\"country\",\"child_mort\",\"health\", \"life_expec\",\"income\",\"inflation\"])])\n",
    "print(\"Mean income\",Final_HC_6_df.loc[(Final_HC_6_df[\"Category_HC_6\"]==4, \"income\")].mean(), flush=False)"
   ]
  },
  {
   "cell_type": "code",
   "execution_count": 85,
   "id": "5cfe0033",
   "metadata": {},
   "outputs": [
    {
     "name": "stdout",
     "output_type": "stream",
     "text": [
      "             country  child_mort  health  life_expec  income  inflation\n",
      "37  Congo, Dem. Rep.       116.0    7.91        57.5     609       20.8\n"
     ]
    }
   ],
   "source": [
    "print(Final_HC_6_df.loc[(Final_HC_6_df[\"Category_HC_6\"]==5, [\"country\",\"child_mort\",\"health\", \"life_expec\",\"income\",\"inflation\"])])"
   ]
  },
  {
   "cell_type": "markdown",
   "id": "a1139c17",
   "metadata": {},
   "source": [
    "**To summarize, from analyzing the dataset on the socio-economic conditions, and limiting the number of countries for receiving aid to 10, the following would be a possible list**\n",
    "**\"Congo, Dem. Rep.\", Burundi,Central African Republic,Haiti,Liberia, Niger, Sierra Leone, Malawi, Mozambique and Burkina Faso**\n"
   ]
  },
  {
   "cell_type": "code",
   "execution_count": null,
   "id": "67c9be0d",
   "metadata": {},
   "outputs": [],
   "source": []
  }
 ],
 "metadata": {
  "kernelspec": {
   "display_name": "Python 3",
   "language": "python",
   "name": "python3"
  },
  "language_info": {
   "codemirror_mode": {
    "name": "ipython",
    "version": 3
   },
   "file_extension": ".py",
   "mimetype": "text/x-python",
   "name": "python",
   "nbconvert_exporter": "python",
   "pygments_lexer": "ipython3",
   "version": "3.8.8"
  }
 },
 "nbformat": 4,
 "nbformat_minor": 5
}
