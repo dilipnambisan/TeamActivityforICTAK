{
 "cells": [
  {
   "cell_type": "code",
   "execution_count": 1,
   "id": "a0c7f615",
   "metadata": {},
   "outputs": [],
   "source": [
    "import pandas as pd\n",
    "import numpy as np\n",
    "import matplotlib.pyplot as plt"
   ]
  },
  {
   "cell_type": "code",
   "execution_count": 2,
   "id": "f37d4b76",
   "metadata": {},
   "outputs": [
    {
     "data": {
      "text/html": [
       "<div>\n",
       "<style scoped>\n",
       "    .dataframe tbody tr th:only-of-type {\n",
       "        vertical-align: middle;\n",
       "    }\n",
       "\n",
       "    .dataframe tbody tr th {\n",
       "        vertical-align: top;\n",
       "    }\n",
       "\n",
       "    .dataframe thead th {\n",
       "        text-align: right;\n",
       "    }\n",
       "</style>\n",
       "<table border=\"1\" class=\"dataframe\">\n",
       "  <thead>\n",
       "    <tr style=\"text-align: right;\">\n",
       "      <th></th>\n",
       "      <th>City</th>\n",
       "      <th>Date</th>\n",
       "      <th>PM2.5</th>\n",
       "      <th>PM10</th>\n",
       "      <th>NO</th>\n",
       "      <th>NO2</th>\n",
       "      <th>NOx</th>\n",
       "      <th>NH3</th>\n",
       "      <th>CO</th>\n",
       "      <th>SO2</th>\n",
       "      <th>O3</th>\n",
       "      <th>AQI</th>\n",
       "    </tr>\n",
       "  </thead>\n",
       "  <tbody>\n",
       "    <tr>\n",
       "      <th>0</th>\n",
       "      <td>Bengaluru</td>\n",
       "      <td>2015-01-01</td>\n",
       "      <td>NaN</td>\n",
       "      <td>NaN</td>\n",
       "      <td>3.26</td>\n",
       "      <td>17.33</td>\n",
       "      <td>10.88</td>\n",
       "      <td>20.36</td>\n",
       "      <td>0.33</td>\n",
       "      <td>3.54</td>\n",
       "      <td>10.73</td>\n",
       "      <td>NaN</td>\n",
       "    </tr>\n",
       "    <tr>\n",
       "      <th>1</th>\n",
       "      <td>Bengaluru</td>\n",
       "      <td>2015-01-02</td>\n",
       "      <td>NaN</td>\n",
       "      <td>NaN</td>\n",
       "      <td>6.05</td>\n",
       "      <td>19.73</td>\n",
       "      <td>14.14</td>\n",
       "      <td>23.74</td>\n",
       "      <td>1.35</td>\n",
       "      <td>3.97</td>\n",
       "      <td>22.77</td>\n",
       "      <td>NaN</td>\n",
       "    </tr>\n",
       "    <tr>\n",
       "      <th>2</th>\n",
       "      <td>Bengaluru</td>\n",
       "      <td>2015-01-03</td>\n",
       "      <td>NaN</td>\n",
       "      <td>NaN</td>\n",
       "      <td>11.91</td>\n",
       "      <td>19.88</td>\n",
       "      <td>20.72</td>\n",
       "      <td>4.32</td>\n",
       "      <td>17.40</td>\n",
       "      <td>13.61</td>\n",
       "      <td>12.03</td>\n",
       "      <td>NaN</td>\n",
       "    </tr>\n",
       "    <tr>\n",
       "      <th>3</th>\n",
       "      <td>Bengaluru</td>\n",
       "      <td>2015-01-04</td>\n",
       "      <td>NaN</td>\n",
       "      <td>NaN</td>\n",
       "      <td>7.45</td>\n",
       "      <td>21.61</td>\n",
       "      <td>16.88</td>\n",
       "      <td>0.87</td>\n",
       "      <td>5.05</td>\n",
       "      <td>6.52</td>\n",
       "      <td>17.70</td>\n",
       "      <td>NaN</td>\n",
       "    </tr>\n",
       "    <tr>\n",
       "      <th>4</th>\n",
       "      <td>Bengaluru</td>\n",
       "      <td>2015-01-05</td>\n",
       "      <td>NaN</td>\n",
       "      <td>NaN</td>\n",
       "      <td>9.52</td>\n",
       "      <td>22.17</td>\n",
       "      <td>21.76</td>\n",
       "      <td>31.38</td>\n",
       "      <td>1.83</td>\n",
       "      <td>4.71</td>\n",
       "      <td>12.72</td>\n",
       "      <td>NaN</td>\n",
       "    </tr>\n",
       "  </tbody>\n",
       "</table>\n",
       "</div>"
      ],
      "text/plain": [
       "        City        Date  PM2.5  PM10     NO    NO2    NOx    NH3     CO  \\\n",
       "0  Bengaluru  2015-01-01    NaN   NaN   3.26  17.33  10.88  20.36   0.33   \n",
       "1  Bengaluru  2015-01-02    NaN   NaN   6.05  19.73  14.14  23.74   1.35   \n",
       "2  Bengaluru  2015-01-03    NaN   NaN  11.91  19.88  20.72   4.32  17.40   \n",
       "3  Bengaluru  2015-01-04    NaN   NaN   7.45  21.61  16.88   0.87   5.05   \n",
       "4  Bengaluru  2015-01-05    NaN   NaN   9.52  22.17  21.76  31.38   1.83   \n",
       "\n",
       "     SO2     O3  AQI  \n",
       "0   3.54  10.73  NaN  \n",
       "1   3.97  22.77  NaN  \n",
       "2  13.61  12.03  NaN  \n",
       "3   6.52  17.70  NaN  \n",
       "4   4.71  12.72  NaN  "
      ]
     },
     "execution_count": 2,
     "metadata": {},
     "output_type": "execute_result"
    }
   ],
   "source": [
    "data=pd.read_csv(\"Final_Final.csv\")\n",
    "data.head()"
   ]
  },
  {
   "cell_type": "code",
   "execution_count": 3,
   "id": "9d18af21",
   "metadata": {},
   "outputs": [
    {
     "data": {
      "text/plain": [
       "33.38"
      ]
     },
     "execution_count": 3,
     "metadata": {},
     "output_type": "execute_result"
    }
   ],
   "source": [
    "data[data[\"City\"]==\"Thiruvananthapuram\"][\"O3\"].median()"
   ]
  },
  {
   "cell_type": "code",
   "execution_count": 4,
   "id": "310108ba",
   "metadata": {},
   "outputs": [
    {
     "data": {
      "text/plain": [
       "48.33"
      ]
     },
     "execution_count": 4,
     "metadata": {},
     "output_type": "execute_result"
    }
   ],
   "source": [
    "data[data[\"City\"]==\"Thiruvananthapuram\"][\"PM10\"].median()"
   ]
  },
  {
   "cell_type": "code",
   "execution_count": 5,
   "id": "0932a57c",
   "metadata": {},
   "outputs": [
    {
     "data": {
      "text/plain": [
       "23.65"
      ]
     },
     "execution_count": 5,
     "metadata": {},
     "output_type": "execute_result"
    }
   ],
   "source": [
    "data[data[\"City\"]==\"Coimbatore\"][\"O3\"].median()"
   ]
  },
  {
   "cell_type": "code",
   "execution_count": 6,
   "id": "9b63a51a",
   "metadata": {},
   "outputs": [],
   "source": [
    "data.loc[(data[\"City\"]==\"Ernakulam\"),\"O3\"]=33.38"
   ]
  },
  {
   "cell_type": "code",
   "execution_count": 7,
   "id": "44ade157",
   "metadata": {},
   "outputs": [],
   "source": [
    "data.rename(columns={\"PM2.5\":\"PM2_5\"}, inplace=True)"
   ]
  },
  {
   "cell_type": "code",
   "execution_count": 8,
   "id": "f2e1d0d1",
   "metadata": {},
   "outputs": [],
   "source": [
    "import seaborn as sns"
   ]
  },
  {
   "cell_type": "code",
   "execution_count": 9,
   "id": "2406bb00",
   "metadata": {},
   "outputs": [
    {
     "data": {
      "image/png": "[encoded data removed]",
      "text/plain": [
       "<Figure size 1152x1152 with 9 Axes>"
      ]
     },
     "metadata": {
      "needs_background": "light"
     },
     "output_type": "display_data"
    }
   ],
   "source": [
    "#fig, axes = plt.subplots(1, 3, figsize=(15, 5))\n",
    "#print(fig)\n",
    "fig,axes = plt.subplots(3,3, figsize=(16,16))\n",
    "sns.stripplot(ax=axes[0,0],data=data,x=data['City'],y=data[\"PM2_5\"]).set_title(\"Plot of PM2_5 vs City\")\n",
    "sns.boxplot(ax=axes[0,0],data=data,x=data['City'],y=data[\"PM2_5\"]).set_title(\"Plot of PM2_5 vs City\")\n",
    "sns.stripplot(ax=axes[0,1],data=data,x=data['City'],y=data[\"PM10\"]).set_title(\"Plot of PM10 vs City\")\n",
    "sns.boxplot(ax=axes[0,1],data=data,x=data['City'],y=data[\"PM10\"]).set_title(\"Plot of PM10 vs City\")\n",
    "sns.stripplot(ax=axes[0,2],data=data,x=data['City'],y=data[\"NO\"]).set_title(\"Plot of NO vs City\")\n",
    "sns.boxplot(ax=axes[0,2],data=data,x=data['City'],y=data[\"NO\"]).set_title(\"Plot of NO vs City\")\n",
    "sns.stripplot(ax=axes[1,0],data=data,x=data['City'],y=data[\"NO2\"]).set_title(\"Plot of NO2 vs City\")\n",
    "sns.boxplot(ax=axes[1,0],data=data,x=data['City'],y=data[\"NO2\"]).set_title(\"Plot of NO2 vs City\")\n",
    "sns.stripplot(ax=axes[1,1],data=data,x=data['City'],y=data[\"NOx\"]).set_title(\"Plot of NOx vs City\")\n",
    "sns.boxplot(ax=axes[1,1],data=data,x=data['City'],y=data[\"NOx\"]).set_title(\"Plot of NOx vs City\")\n",
    "sns.stripplot(ax=axes[1,2],data=data,x=data['City'],y=data[\"NH3\"]).set_title(\"Plot of NH3 vs City\")\n",
    "sns.boxplot(ax=axes[1,2],data=data,x=data['City'],y=data[\"NH3\"]).set_title(\"Plot of NH3 vs City\")\n",
    "sns.stripplot(ax=axes[2,0],data=data,x=data['City'],y=data[\"CO\"]).set_title(\"Plot of CO vs City\")\n",
    "sns.boxplot(ax=axes[2,0],data=data,x=data['City'],y=data[\"CO\"]).set_title(\"Plot of CO vs City\")\n",
    "sns.stripplot(ax=axes[2,1],data=data,x=data['City'],y=data[\"SO2\"]).set_title(\"Plot of SO2 vs City\")\n",
    "sns.boxplot(ax=axes[2,1],data=data,x=data['City'],y=data[\"SO2\"]).set_title(\"Plot of SO2 vs City\")\n",
    "sns.stripplot(ax=axes[2,2],data=data,x=data['City'],y=data[\"O3\"]).set_title(\"Plot of O3 vs City\")\n",
    "sns.boxplot(ax=axes[2,2],data=data,x=data['City'],y=data[\"O3\"]).set_title(\"Plot of O3 vs City\")\n",
    "fig.suptitle(\"Strip plots of features which are going to be checked for outliers\")\n",
    "fig.tight_layout()"
   ]
  },
  {
   "cell_type": "markdown",
   "id": "24aa984a",
   "metadata": {},
   "source": [
    "**Dropping the rows with nulls in the target, since the counts are nominal**"
   ]
  },
  {
   "cell_type": "code",
   "execution_count": 10,
   "id": "0bd932ab",
   "metadata": {},
   "outputs": [
    {
     "data": {
      "text/plain": [
       "Chennai               125\n",
       "Bengaluru              99\n",
       "Thiruvananthapuram     60\n",
       "Coimbatore             42\n",
       "Ernakulam               9\n",
       "Name: City, dtype: int64"
      ]
     },
     "execution_count": 10,
     "metadata": {},
     "output_type": "execute_result"
    }
   ],
   "source": [
    "data[data[\"AQI\"].isna()][\"City\"].value_counts()"
   ]
  },
  {
   "cell_type": "code",
   "execution_count": null,
   "id": "05f7c472",
   "metadata": {},
   "outputs": [],
   "source": []
  },
  {
   "cell_type": "code",
   "execution_count": 11,
   "id": "16f55947",
   "metadata": {},
   "outputs": [
    {
     "data": {
      "text/plain": [
       "(5678, 12)"
      ]
     },
     "execution_count": 11,
     "metadata": {},
     "output_type": "execute_result"
    }
   ],
   "source": [
    "data.shape"
   ]
  },
  {
   "cell_type": "code",
   "execution_count": 12,
   "id": "3cc19568",
   "metadata": {},
   "outputs": [],
   "source": [
    "data = data[data['AQI'].notna()]"
   ]
  },
  {
   "cell_type": "code",
   "execution_count": 13,
   "id": "9140e117",
   "metadata": {},
   "outputs": [
    {
     "data": {
      "text/plain": [
       "(5343, 12)"
      ]
     },
     "execution_count": 13,
     "metadata": {},
     "output_type": "execute_result"
    }
   ],
   "source": [
    "data.shape"
   ]
  },
  {
   "cell_type": "code",
   "execution_count": 14,
   "id": "3fbf0da1",
   "metadata": {},
   "outputs": [],
   "source": [
    "data1=data.copy()\n",
    "data1[\"PM2_5\"] = data[\"PM2_5\"].fillna(data.groupby(\"City\")[\"PM2_5\"].transform('median'))\n",
    "data1[\"PM10\"] = data[\"PM10\"].fillna(data.groupby(\"City\")[\"PM10\"].transform('median'))\n",
    "data1[\"NO\"] = data[\"NO\"].fillna(data.groupby(\"City\")[\"NO\"].transform('median'))\n",
    "data1[\"NO2\"] = data[\"NO2\"].fillna(data.groupby(\"City\")[\"NO2\"].transform('median'))\n",
    "data1[\"NOx\"] = data[\"NOx\"].fillna(data.groupby(\"City\")[\"NOx\"].transform('median'))\n",
    "data1[\"NH3\"] = data[\"NH3\"].fillna(data.groupby(\"City\")[\"NH3\"].transform('median'))\n",
    "data1[\"CO\"] = data[\"CO\"].fillna(data.groupby(\"City\")[\"CO\"].transform('median'))\n",
    "data1[\"SO2\"] = data[\"SO2\"].fillna(data.groupby(\"City\")[\"SO2\"].transform('median'))\n",
    "data1[\"O3\"] = data[\"O3\"].fillna(data.groupby(\"City\")[\"O3\"].transform('median'))"
   ]
  },
  {
   "cell_type": "code",
   "execution_count": 15,
   "id": "99ceb7a6",
   "metadata": {},
   "outputs": [
    {
     "name": "stdout",
     "output_type": "stream",
     "text": [
      "Q1= 22.275  Q2= 33.9  Q3= 49.34\n"
     ]
    }
   ],
   "source": [
    "Q1=np.percentile(data1['PM2_5'],25,interpolation='midpoint')\n",
    "Q2=np.percentile(data1['PM2_5'],50,interpolation='midpoint')\n",
    "Q3=np.percentile(data1['PM2_5'],75,interpolation='midpoint')\n",
    "print(\"Q1=\",Q1,\" Q2=\",Q2,\" Q3=\",Q3)"
   ]
  },
  {
   "cell_type": "code",
   "execution_count": 16,
   "id": "c1fa3205",
   "metadata": {
    "scrolled": true
   },
   "outputs": [
    {
     "name": "stdout",
     "output_type": "stream",
     "text": [
      "Lower limit =  -18.322500000000012  Upper limit =  89.93750000000001\n"
     ]
    },
    {
     "data": {
      "text/plain": [
       "[119.16,\n",
       " 91.95,\n",
       " 90.07,\n",
       " 134.69,\n",
       " 110.05,\n",
       " 98.29,\n",
       " 239.54,\n",
       " 121.43,\n",
       " 152.94,\n",
       " 115.98,\n",
       " 218.17,\n",
       " 101.09,\n",
       " 100.39,\n",
       " 97.17,\n",
       " 102.01,\n",
       " 91.6,\n",
       " 204.25,\n",
       " 120.56,\n",
       " 313.59,\n",
       " 97.97,\n",
       " 158.67,\n",
       " 114.92,\n",
       " 121.63,\n",
       " 122.41,\n",
       " 197.41,\n",
       " 93.7,\n",
       " 103.18,\n",
       " 90.59,\n",
       " 161.35,\n",
       " 107.9,\n",
       " 159.52,\n",
       " 187.49,\n",
       " 113.31,\n",
       " 108.3,\n",
       " 98.84,\n",
       " 94.17,\n",
       " 92.21,\n",
       " 149.04,\n",
       " 140.21,\n",
       " 266.29,\n",
       " 103.75,\n",
       " 106.27,\n",
       " 90.72,\n",
       " 100.77,\n",
       " 120.24,\n",
       " 91.69,\n",
       " 97.96,\n",
       " 97.74,\n",
       " 90.87,\n",
       " 125.51,\n",
       " 113.78,\n",
       " 119.68,\n",
       " 105.59,\n",
       " 100.5,\n",
       " 102.97,\n",
       " 127.46,\n",
       " 129.49,\n",
       " 100.13,\n",
       " 108.88,\n",
       " 111.48,\n",
       " 122.16,\n",
       " 90.73,\n",
       " 138.07,\n",
       " 107.65,\n",
       " 112.72,\n",
       " 127.03,\n",
       " 92.83,\n",
       " 98.75,\n",
       " 90.02,\n",
       " 100.61,\n",
       " 98.47,\n",
       " 123.36,\n",
       " 109.5,\n",
       " 96.65,\n",
       " 196.81,\n",
       " 92.64,\n",
       " 98.0,\n",
       " 132.38,\n",
       " 114.08,\n",
       " 91.49,\n",
       " 93.71,\n",
       " 101.77,\n",
       " 92.41,\n",
       " 91.15,\n",
       " 94.8,\n",
       " 293.43,\n",
       " 169.75,\n",
       " 144.02,\n",
       " 100.68,\n",
       " 91.75,\n",
       " 227.17,\n",
       " 286.08,\n",
       " 91.14,\n",
       " 131.2,\n",
       " 100.14,\n",
       " 112.23,\n",
       " 94.7,\n",
       " 92.04,\n",
       " 193.3,\n",
       " 226.74,\n",
       " 90.46,\n",
       " 94.87,\n",
       " 113.21,\n",
       " 164.37,\n",
       " 95.58,\n",
       " 100.8,\n",
       " 93.32,\n",
       " 168.81,\n",
       " 92.17,\n",
       " 111.04,\n",
       " 92.89,\n",
       " 112.05,\n",
       " 98.92,\n",
       " 98.35,\n",
       " 95.16,\n",
       " 96.38,\n",
       " 111.83,\n",
       " 110.85,\n",
       " 100.68,\n",
       " 122.43,\n",
       " 97.13,\n",
       " 92.7,\n",
       " 98.11,\n",
       " 129.92,\n",
       " 106.04,\n",
       " 178.54,\n",
       " 199.98,\n",
       " 114.56,\n",
       " 176.07,\n",
       " 103.16,\n",
       " 92.83,\n",
       " 97.96,\n",
       " 95.49,\n",
       " 153.73,\n",
       " 115.35,\n",
       " 98.83,\n",
       " 105.94,\n",
       " 121.43,\n",
       " 142.9,\n",
       " 96.8,\n",
       " 93.13,\n",
       " 122.88,\n",
       " 104.45,\n",
       " 93.79,\n",
       " 92.78,\n",
       " 98.87]"
      ]
     },
     "execution_count": 16,
     "metadata": {},
     "output_type": "execute_result"
    }
   ],
   "source": [
    "IQR=Q3-Q1\n",
    "low_lim = Q1-1.5*IQR\n",
    "up_lim = Q3+1.5*IQR\n",
    "print(\"Lower limit = \",low_lim,\" Upper limit = \",up_lim)\n",
    "outlier = []\n",
    "for x in data1['PM2_5']:\n",
    "    if (x>up_lim) or (x<low_lim):\n",
    "        outlier.append(x)\n",
    "outlier"
   ]
  },
  {
   "cell_type": "code",
   "execution_count": 17,
   "id": "e13aad3e",
   "metadata": {},
   "outputs": [
    {
     "data": {
      "text/plain": [
       "146"
      ]
     },
     "execution_count": 17,
     "metadata": {},
     "output_type": "execute_result"
    }
   ],
   "source": [
    "len(outlier)"
   ]
  },
  {
   "cell_type": "code",
   "execution_count": 18,
   "id": "498240c7",
   "metadata": {},
   "outputs": [
    {
     "data": {
      "text/plain": [
       "(5343, 12)"
      ]
     },
     "execution_count": 18,
     "metadata": {},
     "output_type": "execute_result"
    }
   ],
   "source": [
    "ind1=data1['PM2_5']>up_lim\n",
    "PM2_5_outlier_indexlist=data1.loc[ind1].index\n",
    "data1.shape"
   ]
  },
  {
   "cell_type": "code",
   "execution_count": 19,
   "id": "118b8aac",
   "metadata": {},
   "outputs": [
    {
     "data": {
      "text/plain": [
       "(5197, 12)"
      ]
     },
     "execution_count": 19,
     "metadata": {},
     "output_type": "execute_result"
    }
   ],
   "source": [
    "data1.drop(PM2_5_outlier_indexlist, inplace=True)\n",
    "data1.shape"
   ]
  },
  {
   "cell_type": "code",
   "execution_count": 20,
   "id": "357fbd8e",
   "metadata": {},
   "outputs": [
    {
     "name": "stdout",
     "output_type": "stream",
     "text": [
      "Q1= 49.13  Q2= 50.245000000000005  Q3= 77.485\n"
     ]
    }
   ],
   "source": [
    "Q1=np.percentile(data1['PM10'],25,interpolation='midpoint')\n",
    "Q2=np.percentile(data1['PM10'],50,interpolation='midpoint')\n",
    "Q3=np.percentile(data1['PM10'],75,interpolation='midpoint')\n",
    "print(\"Q1=\",Q1,\" Q2=\",Q2,\" Q3=\",Q3)"
   ]
  },
  {
   "cell_type": "code",
   "execution_count": 21,
   "id": "cb7e0dae",
   "metadata": {
    "scrolled": true
   },
   "outputs": [
    {
     "name": "stdout",
     "output_type": "stream",
     "text": [
      "Lower limit =  6.597500000000004  Upper limit =  120.0175\n"
     ]
    },
    {
     "data": {
      "text/plain": [
       "[153.3,\n",
       " 156.84,\n",
       " 160.0,\n",
       " 172.02,\n",
       " 160.87,\n",
       " 235.32,\n",
       " 149.82,\n",
       " 133.08,\n",
       " 122.54,\n",
       " 150.78,\n",
       " 133.63,\n",
       " 121.42,\n",
       " 130.22,\n",
       " 158.01,\n",
       " 159.14,\n",
       " 193.59,\n",
       " 152.36,\n",
       " 121.86,\n",
       " 169.11,\n",
       " 351.51,\n",
       " 154.26,\n",
       " 223.57,\n",
       " 256.75,\n",
       " 164.48,\n",
       " 146.45,\n",
       " 145.32,\n",
       " 138.17,\n",
       " 146.23,\n",
       " 144.04,\n",
       " 154.64,\n",
       " 134.78,\n",
       " 148.57,\n",
       " 137.04,\n",
       " 132.73,\n",
       " 120.86,\n",
       " 120.32,\n",
       " 122.4,\n",
       " 150.19,\n",
       " 161.1,\n",
       " 173.24,\n",
       " 163.88,\n",
       " 144.67,\n",
       " 148.74,\n",
       " 144.33,\n",
       " 144.2,\n",
       " 151.36,\n",
       " 194.0,\n",
       " 190.04,\n",
       " 186.28,\n",
       " 180.42,\n",
       " 183.03,\n",
       " 165.97,\n",
       " 175.45,\n",
       " 157.8,\n",
       " 162.1,\n",
       " 142.17,\n",
       " 156.52,\n",
       " 150.05,\n",
       " 159.41,\n",
       " 157.92,\n",
       " 165.25,\n",
       " 215.52,\n",
       " 254.77,\n",
       " 208.97,\n",
       " 318.02,\n",
       " 152.78,\n",
       " 144.68,\n",
       " 159.23,\n",
       " 177.82,\n",
       " 159.45,\n",
       " 224.24,\n",
       " 196.65,\n",
       " 171.26,\n",
       " 145.98,\n",
       " 158.75,\n",
       " 134.47,\n",
       " 160.06,\n",
       " 168.98,\n",
       " 130.54,\n",
       " 230.2,\n",
       " 194.62,\n",
       " 138.45,\n",
       " 131.33,\n",
       " 121.03,\n",
       " 122.73,\n",
       " 139.73,\n",
       " 154.1,\n",
       " 155.04,\n",
       " 182.16,\n",
       " 180.64,\n",
       " 191.47,\n",
       " 181.92,\n",
       " 191.9,\n",
       " 184.81,\n",
       " 179.79,\n",
       " 224.1,\n",
       " 137.68,\n",
       " 123.91,\n",
       " 130.99,\n",
       " 130.15,\n",
       " 142.2,\n",
       " 120.41,\n",
       " 130.54,\n",
       " 150.94,\n",
       " 127.44,\n",
       " 121.18,\n",
       " 130.25,\n",
       " 133.97,\n",
       " 135.71,\n",
       " 173.09,\n",
       " 152.15,\n",
       " 158.04,\n",
       " 164.12,\n",
       " 171.52,\n",
       " 176.99,\n",
       " 194.37,\n",
       " 170.26,\n",
       " 137.86,\n",
       " 136.05,\n",
       " 124.78,\n",
       " 155.51,\n",
       " 132.73,\n",
       " 128.54,\n",
       " 135.0,\n",
       " 124.8,\n",
       " 138.06,\n",
       " 131.75,\n",
       " 180.88,\n",
       " 142.64,\n",
       " 137.45,\n",
       " 143.58,\n",
       " 130.91,\n",
       " 144.73,\n",
       " 121.19,\n",
       " 176.96,\n",
       " 150.64,\n",
       " 141.76,\n",
       " 145.35,\n",
       " 121.66,\n",
       " 134.46,\n",
       " 128.38,\n",
       " 131.53,\n",
       " 140.54,\n",
       " 124.94,\n",
       " 136.23,\n",
       " 125.23,\n",
       " 142.13,\n",
       " 140.88,\n",
       " 128.58,\n",
       " 130.28,\n",
       " 125.79,\n",
       " 121.2,\n",
       " 122.79,\n",
       " 123.16,\n",
       " 129.55,\n",
       " 120.48,\n",
       " 188.67,\n",
       " 147.94,\n",
       " 264.9,\n",
       " 157.62,\n",
       " 123.41,\n",
       " 176.27,\n",
       " 134.15,\n",
       " 132.27,\n",
       " 125.43,\n",
       " 129.02,\n",
       " 143.26,\n",
       " 124.79,\n",
       " 121.49,\n",
       " 128.58,\n",
       " 125.36,\n",
       " 133.95,\n",
       " 143.26,\n",
       " 123.62,\n",
       " 176.51,\n",
       " 136.77,\n",
       " 141.77,\n",
       " 126.18,\n",
       " 124.39,\n",
       " 147.26,\n",
       " 151.57,\n",
       " 158.69,\n",
       " 122.86,\n",
       " 132.8,\n",
       " 123.18,\n",
       " 121.55,\n",
       " 123.42,\n",
       " 120.24,\n",
       " 130.84,\n",
       " 143.53,\n",
       " 137.9,\n",
       " 150.02,\n",
       " 137.41,\n",
       " 177.97,\n",
       " 142.62,\n",
       " 140.52,\n",
       " 132.37,\n",
       " 121.91,\n",
       " 120.55,\n",
       " 136.15,\n",
       " 121.85,\n",
       " 123.42,\n",
       " 125.3,\n",
       " 158.87,\n",
       " 141.49,\n",
       " 120.17,\n",
       " 121.14,\n",
       " 129.96,\n",
       " 129.31,\n",
       " 123.2,\n",
       " 123.38,\n",
       " 120.13,\n",
       " 123.11,\n",
       " 144.98,\n",
       " 120.55,\n",
       " 129.65,\n",
       " 154.34,\n",
       " 154.66,\n",
       " 125.72,\n",
       " 122.43,\n",
       " 125.87,\n",
       " 5.29,\n",
       " 123.82,\n",
       " 4.94,\n",
       " 6.39,\n",
       " 4.82,\n",
       " 1.8,\n",
       " 0.21,\n",
       " 6.07,\n",
       " 1.63,\n",
       " 4.06,\n",
       " 0.62,\n",
       " 1.55,\n",
       " 162.67,\n",
       " 185.25,\n",
       " 3.73,\n",
       " 170.09,\n",
       " 183.34,\n",
       " 291.75,\n",
       " 177.96,\n",
       " 151.3,\n",
       " 288.68,\n",
       " 180.01,\n",
       " 311.98,\n",
       " 234.46,\n",
       " 127.81,\n",
       " 346.73,\n",
       " 142.52,\n",
       " 4.85,\n",
       " 120.64,\n",
       " 120.86,\n",
       " 178.24,\n",
       " 126.39,\n",
       " 123.28]"
      ]
     },
     "execution_count": 21,
     "metadata": {},
     "output_type": "execute_result"
    }
   ],
   "source": [
    "IQR=Q3-Q1\n",
    "low_lim = Q1-1.5*IQR\n",
    "up_lim = Q3+1.5*IQR\n",
    "print(\"Lower limit = \",low_lim,\" Upper limit = \",up_lim)\n",
    "outlier = []\n",
    "for x in data1['PM10']:\n",
    "    if (x>up_lim) or (x<low_lim):\n",
    "        outlier.append(x)\n",
    "outlier"
   ]
  },
  {
   "cell_type": "code",
   "execution_count": 22,
   "id": "d434a095",
   "metadata": {},
   "outputs": [
    {
     "name": "stdout",
     "output_type": "stream",
     "text": [
      "254\n"
     ]
    },
    {
     "data": {
      "text/plain": [
       "(5197, 12)"
      ]
     },
     "execution_count": 22,
     "metadata": {},
     "output_type": "execute_result"
    }
   ],
   "source": [
    "print(len(outlier), flush=False)\n",
    "ind1=data1['PM10']>up_lim\n",
    "PM10_outlier_indexlist=data1.loc[ind1].index\n",
    "data1.shape\n"
   ]
  },
  {
   "cell_type": "code",
   "execution_count": 23,
   "id": "68851a55",
   "metadata": {},
   "outputs": [
    {
     "data": {
      "text/plain": [
       "(4956, 12)"
      ]
     },
     "execution_count": 23,
     "metadata": {},
     "output_type": "execute_result"
    }
   ],
   "source": [
    "data1.drop(PM10_outlier_indexlist, inplace=True)\n",
    "data1.shape"
   ]
  },
  {
   "cell_type": "code",
   "execution_count": 24,
   "id": "ad054626",
   "metadata": {},
   "outputs": [
    {
     "data": {
      "text/plain": [
       "(4943, 12)"
      ]
     },
     "execution_count": 24,
     "metadata": {},
     "output_type": "execute_result"
    }
   ],
   "source": [
    "ind2=data1['PM10']<6.5975\n",
    "PM10_outlier_indexlist1=data1.loc[ind2].index\n",
    "data1.drop(PM10_outlier_indexlist1, inplace=True)\n",
    "data1.shape"
   ]
  },
  {
   "cell_type": "code",
   "execution_count": 25,
   "id": "56c30fa1",
   "metadata": {},
   "outputs": [
    {
     "name": "stdout",
     "output_type": "stream",
     "text": [
      "Q1= 3.55  Q2= 6.69  Q3= 9.695\n"
     ]
    }
   ],
   "source": [
    "Q1=np.percentile(data1['NO'],25,interpolation='midpoint')\n",
    "Q2=np.percentile(data1['NO'],50,interpolation='midpoint')\n",
    "Q3=np.percentile(data1['NO'],75,interpolation='midpoint')\n",
    "print(\"Q1=\",Q1,\" Q2=\",Q2,\" Q3=\",Q3)"
   ]
  },
  {
   "cell_type": "code",
   "execution_count": 26,
   "id": "5a7e3305",
   "metadata": {},
   "outputs": [
    {
     "name": "stdout",
     "output_type": "stream",
     "text": [
      "Lower limit =  -5.667500000000001  Upper limit =  18.9125\n"
     ]
    },
    {
     "data": {
      "text/plain": [
       "[21.66,\n",
       " 25.04,\n",
       " 23.41,\n",
       " 24.29,\n",
       " 20.49,\n",
       " 22.95,\n",
       " 20.35,\n",
       " 20.86,\n",
       " 22.68,\n",
       " 20.76,\n",
       " 22.45,\n",
       " 20.87,\n",
       " 26.49,\n",
       " 24.56,\n",
       " 23.56,\n",
       " 29.68,\n",
       " 42.37,\n",
       " 46.57,\n",
       " 57.18,\n",
       " 38.5,\n",
       " 23.76,\n",
       " 44.25,\n",
       " 44.68,\n",
       " 24.11,\n",
       " 20.32,\n",
       " 20.4,\n",
       " 20.84,\n",
       " 26.89,\n",
       " 69.97,\n",
       " 22.08,\n",
       " 39.37,\n",
       " 49.24,\n",
       " 22.62,\n",
       " 21.36,\n",
       " 28.97,\n",
       " 54.79,\n",
       " 43.48,\n",
       " 20.75,\n",
       " 31.66,\n",
       " 24.71,\n",
       " 38.94,\n",
       " 42.05,\n",
       " 28.39,\n",
       " 32.78,\n",
       " 24.59,\n",
       " 28.13,\n",
       " 23.02,\n",
       " 20.04,\n",
       " 19.76,\n",
       " 19.67,\n",
       " 23.36,\n",
       " 24.08,\n",
       " 21.68,\n",
       " 23.38,\n",
       " 23.61,\n",
       " 20.8,\n",
       " 19.12,\n",
       " 19.51,\n",
       " 22.31,\n",
       " 22.92,\n",
       " 24.38,\n",
       " 21.34,\n",
       " 25.62,\n",
       " 20.83,\n",
       " 22.69,\n",
       " 24.42,\n",
       " 24.51,\n",
       " 21.82,\n",
       " 19.25,\n",
       " 20.52,\n",
       " 20.06,\n",
       " 26.3,\n",
       " 23.91,\n",
       " 28.53,\n",
       " 21.53,\n",
       " 19.45,\n",
       " 19.33,\n",
       " 26.17,\n",
       " 31.63,\n",
       " 21.57,\n",
       " 22.16,\n",
       " 19.73,\n",
       " 21.59,\n",
       " 23.61,\n",
       " 29.45,\n",
       " 23.78,\n",
       " 19.87,\n",
       " 23.3,\n",
       " 23.55,\n",
       " 26.1,\n",
       " 31.34,\n",
       " 20.78,\n",
       " 22.83,\n",
       " 37.45,\n",
       " 23.17,\n",
       " 59.44,\n",
       " 24.69,\n",
       " 27.38,\n",
       " 27.72,\n",
       " 32.58,\n",
       " 35.23,\n",
       " 21.79,\n",
       " 45.19,\n",
       " 41.12,\n",
       " 42.65,\n",
       " 28.87,\n",
       " 24.54,\n",
       " 20.39,\n",
       " 22.35,\n",
       " 19.46,\n",
       " 29.3,\n",
       " 38.26,\n",
       " 24.62,\n",
       " 22.31,\n",
       " 23.27,\n",
       " 23.48,\n",
       " 20.97,\n",
       " 19.93,\n",
       " 24.27,\n",
       " 19.31,\n",
       " 24.42,\n",
       " 19.95,\n",
       " 29.11,\n",
       " 58.08,\n",
       " 38.85,\n",
       " 22.85,\n",
       " 19.0,\n",
       " 38.8,\n",
       " 32.13,\n",
       " 19.12,\n",
       " 20.71,\n",
       " 26.57,\n",
       " 19.02,\n",
       " 28.01,\n",
       " 22.45,\n",
       " 22.03,\n",
       " 43.34,\n",
       " 28.37,\n",
       " 19.61,\n",
       " 25.6,\n",
       " 31.9,\n",
       " 20.5,\n",
       " 56.45,\n",
       " 29.31,\n",
       " 22.78,\n",
       " 22.35,\n",
       " 24.1,\n",
       " 24.12,\n",
       " 33.32,\n",
       " 21.38,\n",
       " 20.65,\n",
       " 37.56,\n",
       " 45.71,\n",
       " 55.71,\n",
       " 59.29,\n",
       " 60.04,\n",
       " 74.01,\n",
       " 87.9,\n",
       " 70.12,\n",
       " 47.78,\n",
       " 56.71,\n",
       " 126.22,\n",
       " 125.14,\n",
       " 152.12,\n",
       " 133.5,\n",
       " 67.41,\n",
       " 44.57,\n",
       " 43.56,\n",
       " 41.56,\n",
       " 39.98,\n",
       " 39.32,\n",
       " 37.19,\n",
       " 34.89,\n",
       " 33.26,\n",
       " 66.03,\n",
       " 88.74,\n",
       " 81.3,\n",
       " 80.98,\n",
       " 84.83,\n",
       " 73.25,\n",
       " 99.92,\n",
       " 78.8,\n",
       " 79.95,\n",
       " 81.76,\n",
       " 69.33,\n",
       " 65.8,\n",
       " 63.43,\n",
       " 60.95,\n",
       " 59.45,\n",
       " 59.83,\n",
       " 58.97,\n",
       " 57.9,\n",
       " 57.31,\n",
       " 57.44,\n",
       " 56.91,\n",
       " 57.27,\n",
       " 53.8,\n",
       " 53.02,\n",
       " 53.02,\n",
       " 51.02,\n",
       " 77.8,\n",
       " 33.64,\n",
       " 33.49,\n",
       " 19.87,\n",
       " 31.49,\n",
       " 26.19,\n",
       " 26.29,\n",
       " 27.93,\n",
       " 26.05,\n",
       " 26.69,\n",
       " 25.59,\n",
       " 26.22]"
      ]
     },
     "execution_count": 26,
     "metadata": {},
     "output_type": "execute_result"
    }
   ],
   "source": [
    "IQR=Q3-Q1\n",
    "low_lim = Q1-1.5*IQR\n",
    "up_lim = Q3+1.5*IQR\n",
    "print(\"Lower limit = \",low_lim,\" Upper limit = \",up_lim)\n",
    "outlier = []\n",
    "for x in data1['NO']:\n",
    "    if (x>up_lim) or (x<low_lim):\n",
    "        outlier.append(x)\n",
    "outlier"
   ]
  },
  {
   "cell_type": "code",
   "execution_count": 27,
   "id": "d4efacb3",
   "metadata": {
    "scrolled": true
   },
   "outputs": [
    {
     "name": "stdout",
     "output_type": "stream",
     "text": [
      "212\n"
     ]
    },
    {
     "data": {
      "text/plain": [
       "(4943, 12)"
      ]
     },
     "execution_count": 27,
     "metadata": {},
     "output_type": "execute_result"
    }
   ],
   "source": [
    "print(len(outlier), flush=False)\n",
    "ind1=data1['NO']>up_lim\n",
    "NO_outlier_indexlist=data1.loc[ind1].index\n",
    "data1.shape"
   ]
  },
  {
   "cell_type": "code",
   "execution_count": 28,
   "id": "3b7fccd7",
   "metadata": {},
   "outputs": [
    {
     "data": {
      "text/plain": [
       "(4731, 12)"
      ]
     },
     "execution_count": 28,
     "metadata": {},
     "output_type": "execute_result"
    }
   ],
   "source": [
    "data1.drop(NO_outlier_indexlist, inplace=True)\n",
    "data1.shape"
   ]
  },
  {
   "cell_type": "code",
   "execution_count": 29,
   "id": "a0f4c191",
   "metadata": {},
   "outputs": [
    {
     "name": "stdout",
     "output_type": "stream",
     "text": [
      "Q1= 10.09  Q2= 15.8  Q3= 24.25\n"
     ]
    }
   ],
   "source": [
    "Q1=np.percentile(data1['NO2'],25,interpolation='midpoint')\n",
    "Q2=np.percentile(data1['NO2'],50,interpolation='midpoint')\n",
    "Q3=np.percentile(data1['NO2'],75,interpolation='midpoint')\n",
    "print(\"Q1=\",Q1,\" Q2=\",Q2,\" Q3=\",Q3)"
   ]
  },
  {
   "cell_type": "code",
   "execution_count": 30,
   "id": "d5073500",
   "metadata": {},
   "outputs": [
    {
     "name": "stdout",
     "output_type": "stream",
     "text": [
      "Lower limit =  -11.150000000000002  Upper limit =  45.49\n"
     ]
    },
    {
     "data": {
      "text/plain": [
       "132"
      ]
     },
     "execution_count": 30,
     "metadata": {},
     "output_type": "execute_result"
    }
   ],
   "source": [
    "IQR=Q3-Q1\n",
    "low_lim = Q1-1.5*IQR\n",
    "up_lim = Q3+1.5*IQR\n",
    "print(\"Lower limit = \",low_lim,\" Upper limit = \",up_lim, flush=False)\n",
    "outlier = []\n",
    "for x in data1['NO2']:\n",
    "    if (x>up_lim) or (x<low_lim):\n",
    "        outlier.append(x)\n",
    "len(outlier)"
   ]
  },
  {
   "cell_type": "code",
   "execution_count": 31,
   "id": "bb95a93f",
   "metadata": {
    "scrolled": true
   },
   "outputs": [
    {
     "data": {
      "text/plain": [
       "(4731, 12)"
      ]
     },
     "execution_count": 31,
     "metadata": {},
     "output_type": "execute_result"
    }
   ],
   "source": [
    "ind1=data1['NO2']>up_lim\n",
    "NO2_outlier_indexlist=data1.loc[ind1].index\n",
    "data1.shape"
   ]
  },
  {
   "cell_type": "code",
   "execution_count": 32,
   "id": "3be012cb",
   "metadata": {},
   "outputs": [
    {
     "data": {
      "text/plain": [
       "(4599, 12)"
      ]
     },
     "execution_count": 32,
     "metadata": {},
     "output_type": "execute_result"
    }
   ],
   "source": [
    "data1.drop(NO2_outlier_indexlist, inplace=True)\n",
    "data1.shape"
   ]
  },
  {
   "cell_type": "code",
   "execution_count": 33,
   "id": "ef297965",
   "metadata": {},
   "outputs": [
    {
     "name": "stdout",
     "output_type": "stream",
     "text": [
      "Q1= 7.66  Q2= 15.09  Q3= 21.605\n"
     ]
    }
   ],
   "source": [
    "Q1=np.percentile(data1['NOx'],25,interpolation='midpoint')\n",
    "Q2=np.percentile(data1['NOx'],50,interpolation='midpoint')\n",
    "Q3=np.percentile(data1['NOx'],75,interpolation='midpoint')\n",
    "print(\"Q1=\",Q1,\" Q2=\",Q2,\" Q3=\",Q3)"
   ]
  },
  {
   "cell_type": "code",
   "execution_count": 34,
   "id": "7e1dd03f",
   "metadata": {},
   "outputs": [
    {
     "name": "stdout",
     "output_type": "stream",
     "text": [
      "Lower limit =  -13.2575  Upper limit =  42.5225\n"
     ]
    },
    {
     "data": {
      "text/plain": [
       "39"
      ]
     },
     "execution_count": 34,
     "metadata": {},
     "output_type": "execute_result"
    }
   ],
   "source": [
    "IQR=Q3-Q1\n",
    "low_lim = Q1-1.5*IQR\n",
    "up_lim = Q3+1.5*IQR\n",
    "print(\"Lower limit = \",low_lim,\" Upper limit = \",up_lim, flush=False)\n",
    "outlier = []\n",
    "for x in data1['NOx']:\n",
    "    if (x>up_lim) or (x<low_lim):\n",
    "        outlier.append(x)\n",
    "len(outlier)"
   ]
  },
  {
   "cell_type": "code",
   "execution_count": 35,
   "id": "e41611f1",
   "metadata": {},
   "outputs": [
    {
     "data": {
      "text/plain": [
       "(4599, 12)"
      ]
     },
     "execution_count": 35,
     "metadata": {},
     "output_type": "execute_result"
    }
   ],
   "source": [
    "ind1=data1['NOx']>up_lim\n",
    "NOx_outlier_indexlist=data1.loc[ind1].index\n",
    "data1.shape"
   ]
  },
  {
   "cell_type": "code",
   "execution_count": 36,
   "id": "71b67aba",
   "metadata": {},
   "outputs": [
    {
     "data": {
      "text/plain": [
       "(4560, 12)"
      ]
     },
     "execution_count": 36,
     "metadata": {},
     "output_type": "execute_result"
    }
   ],
   "source": [
    "data1.drop(NOx_outlier_indexlist, inplace=True)\n",
    "data1.shape"
   ]
  },
  {
   "cell_type": "code",
   "execution_count": 37,
   "id": "74424712",
   "metadata": {},
   "outputs": [
    {
     "name": "stdout",
     "output_type": "stream",
     "text": [
      "Q1= 6.475  Q2= 20.0  Q3= 44.015\n"
     ]
    }
   ],
   "source": [
    "Q1=np.percentile(data1['NH3'],25,interpolation='midpoint')\n",
    "Q2=np.percentile(data1['NH3'],50,interpolation='midpoint')\n",
    "Q3=np.percentile(data1['NH3'],75,interpolation='midpoint')\n",
    "print(\"Q1=\",Q1,\" Q2=\",Q2,\" Q3=\",Q3)"
   ]
  },
  {
   "cell_type": "code",
   "execution_count": 38,
   "id": "30f9eb82",
   "metadata": {},
   "outputs": [
    {
     "name": "stdout",
     "output_type": "stream",
     "text": [
      "Lower limit =  -49.835  Upper limit =  100.325\n"
     ]
    },
    {
     "data": {
      "text/plain": [
       "278"
      ]
     },
     "execution_count": 38,
     "metadata": {},
     "output_type": "execute_result"
    }
   ],
   "source": [
    "IQR=Q3-Q1\n",
    "low_lim = Q1-1.5*IQR\n",
    "up_lim = Q3+1.5*IQR\n",
    "print(\"Lower limit = \",low_lim,\" Upper limit = \",up_lim, flush=False)\n",
    "outlier = []\n",
    "for x in data1['NH3']:\n",
    "    if (x>up_lim) or (x<low_lim):\n",
    "        outlier.append(x)\n",
    "len(outlier)"
   ]
  },
  {
   "cell_type": "code",
   "execution_count": 39,
   "id": "51e4036b",
   "metadata": {},
   "outputs": [
    {
     "data": {
      "text/plain": [
       "(4560, 12)"
      ]
     },
     "execution_count": 39,
     "metadata": {},
     "output_type": "execute_result"
    }
   ],
   "source": [
    "ind1=data1['NH3']>up_lim\n",
    "NH3_outlier_indexlist=data1.loc[ind1].index\n",
    "data1.shape"
   ]
  },
  {
   "cell_type": "code",
   "execution_count": 40,
   "id": "20a244f7",
   "metadata": {},
   "outputs": [
    {
     "data": {
      "text/plain": [
       "(4282, 12)"
      ]
     },
     "execution_count": 40,
     "metadata": {},
     "output_type": "execute_result"
    }
   ],
   "source": [
    "data1.drop(NH3_outlier_indexlist, inplace=True)\n",
    "data1.shape"
   ]
  },
  {
   "cell_type": "code",
   "execution_count": 41,
   "id": "381395d1",
   "metadata": {},
   "outputs": [
    {
     "name": "stdout",
     "output_type": "stream",
     "text": [
      "Q1= 0.68  Q2= 0.89  Q3= 1.13\n"
     ]
    }
   ],
   "source": [
    "Q1=np.percentile(data1['CO'],25,interpolation='midpoint')\n",
    "Q2=np.percentile(data1['CO'],50,interpolation='midpoint')\n",
    "Q3=np.percentile(data1['CO'],75,interpolation='midpoint')\n",
    "print(\"Q1=\",Q1,\" Q2=\",Q2,\" Q3=\",Q3)"
   ]
  },
  {
   "cell_type": "code",
   "execution_count": 42,
   "id": "d96e6158",
   "metadata": {},
   "outputs": [
    {
     "name": "stdout",
     "output_type": "stream",
     "text": [
      "Lower limit =  0.0050000000000002265  Upper limit =  1.8049999999999997\n"
     ]
    },
    {
     "data": {
      "text/plain": [
       "492"
      ]
     },
     "execution_count": 42,
     "metadata": {},
     "output_type": "execute_result"
    }
   ],
   "source": [
    "IQR=Q3-Q1\n",
    "low_lim = Q1-1.5*IQR\n",
    "up_lim = Q3+1.5*IQR\n",
    "print(\"Lower limit = \",low_lim,\" Upper limit = \",up_lim, flush=False)\n",
    "outlier = []\n",
    "for x in data1['CO']:\n",
    "    if (x>up_lim) or (x<low_lim):\n",
    "        outlier.append(x)\n",
    "len(outlier)"
   ]
  },
  {
   "cell_type": "code",
   "execution_count": 43,
   "id": "8db4cc51",
   "metadata": {},
   "outputs": [
    {
     "data": {
      "text/plain": [
       "(4282, 12)"
      ]
     },
     "execution_count": 43,
     "metadata": {},
     "output_type": "execute_result"
    }
   ],
   "source": [
    "ind1=(data1['CO']>up_lim) | (data1['CO'] <low_lim)\n",
    "CO_outlier_indexlist=data1.loc[ind1].index\n",
    "data1.shape"
   ]
  },
  {
   "cell_type": "code",
   "execution_count": 44,
   "id": "3e34002c",
   "metadata": {},
   "outputs": [
    {
     "data": {
      "text/plain": [
       "(3790, 12)"
      ]
     },
     "execution_count": 44,
     "metadata": {},
     "output_type": "execute_result"
    }
   ],
   "source": [
    "data1.drop(CO_outlier_indexlist, inplace=True)\n",
    "data1.shape"
   ]
  },
  {
   "cell_type": "code",
   "execution_count": 45,
   "id": "b7994876",
   "metadata": {},
   "outputs": [
    {
     "name": "stdout",
     "output_type": "stream",
     "text": [
      "Q1= 4.17  Q2= 5.655  Q3= 7.36\n"
     ]
    }
   ],
   "source": [
    "Q1=np.percentile(data1['SO2'],25,interpolation='midpoint')\n",
    "Q2=np.percentile(data1['SO2'],50,interpolation='midpoint')\n",
    "Q3=np.percentile(data1['SO2'],75,interpolation='midpoint')\n",
    "print(\"Q1=\",Q1,\" Q2=\",Q2,\" Q3=\",Q3)"
   ]
  },
  {
   "cell_type": "code",
   "execution_count": 46,
   "id": "d7554d8f",
   "metadata": {},
   "outputs": [
    {
     "name": "stdout",
     "output_type": "stream",
     "text": [
      "Lower limit =  -0.6150000000000002  Upper limit =  12.145\n"
     ]
    },
    {
     "data": {
      "text/plain": [
       "227"
      ]
     },
     "execution_count": 46,
     "metadata": {},
     "output_type": "execute_result"
    }
   ],
   "source": [
    "IQR=Q3-Q1\n",
    "low_lim = Q1-1.5*IQR\n",
    "up_lim = Q3+1.5*IQR\n",
    "print(\"Lower limit = \",low_lim,\" Upper limit = \",up_lim, flush=False)\n",
    "outlier = []\n",
    "for x in data1['SO2']:\n",
    "    if (x>up_lim) or (x<low_lim):\n",
    "        outlier.append(x)\n",
    "len(outlier)"
   ]
  },
  {
   "cell_type": "code",
   "execution_count": 47,
   "id": "f8bae7b1",
   "metadata": {},
   "outputs": [
    {
     "data": {
      "text/plain": [
       "(3790, 12)"
      ]
     },
     "execution_count": 47,
     "metadata": {},
     "output_type": "execute_result"
    }
   ],
   "source": [
    "ind1=(data1['SO2']>up_lim) | (data1['SO2'] <low_lim)\n",
    "SO2_outlier_indexlist=data1.loc[ind1].index\n",
    "data1.shape"
   ]
  },
  {
   "cell_type": "code",
   "execution_count": 48,
   "id": "034d3236",
   "metadata": {},
   "outputs": [
    {
     "data": {
      "text/plain": [
       "(3563, 12)"
      ]
     },
     "execution_count": 48,
     "metadata": {},
     "output_type": "execute_result"
    }
   ],
   "source": [
    "data1.drop(SO2_outlier_indexlist, inplace=True)\n",
    "data1.shape"
   ]
  },
  {
   "cell_type": "code",
   "execution_count": 49,
   "id": "86956ccb",
   "metadata": {},
   "outputs": [
    {
     "name": "stdout",
     "output_type": "stream",
     "text": [
      "Q1= 20.515  Q2= 30.46  Q3= 42.39\n"
     ]
    }
   ],
   "source": [
    "Q1=np.percentile(data1['O3'],25,interpolation='midpoint')\n",
    "Q2=np.percentile(data1['O3'],50,interpolation='midpoint')\n",
    "Q3=np.percentile(data1['O3'],75,interpolation='midpoint')\n",
    "print(\"Q1=\",Q1,\" Q2=\",Q2,\" Q3=\",Q3)"
   ]
  },
  {
   "cell_type": "code",
   "execution_count": 50,
   "id": "4775fa12",
   "metadata": {},
   "outputs": [
    {
     "name": "stdout",
     "output_type": "stream",
     "text": [
      "Lower limit =  -12.2975  Upper limit =  75.2025\n"
     ]
    },
    {
     "data": {
      "text/plain": [
       "29"
      ]
     },
     "execution_count": 50,
     "metadata": {},
     "output_type": "execute_result"
    }
   ],
   "source": [
    "IQR=Q3-Q1\n",
    "low_lim = Q1-1.5*IQR\n",
    "up_lim = Q3+1.5*IQR\n",
    "print(\"Lower limit = \",low_lim,\" Upper limit = \",up_lim, flush=False)\n",
    "outlier = []\n",
    "for x in data1['O3']:\n",
    "    if (x>up_lim) or (x<low_lim):\n",
    "        outlier.append(x)\n",
    "len(outlier)"
   ]
  },
  {
   "cell_type": "code",
   "execution_count": 51,
   "id": "c75b6ce6",
   "metadata": {},
   "outputs": [
    {
     "data": {
      "text/plain": [
       "(3563, 12)"
      ]
     },
     "execution_count": 51,
     "metadata": {},
     "output_type": "execute_result"
    }
   ],
   "source": [
    "ind1=(data1['O3']>up_lim) | (data1['O3'] <low_lim)\n",
    "O3_outlier_indexlist=data1.loc[ind1].index\n",
    "data1.shape"
   ]
  },
  {
   "cell_type": "code",
   "execution_count": 52,
   "id": "14bf3667",
   "metadata": {},
   "outputs": [
    {
     "data": {
      "text/plain": [
       "(3534, 12)"
      ]
     },
     "execution_count": 52,
     "metadata": {},
     "output_type": "execute_result"
    }
   ],
   "source": [
    "data1.drop(O3_outlier_indexlist, inplace=True)\n",
    "data1.shape"
   ]
  },
  {
   "cell_type": "code",
   "execution_count": 53,
   "id": "f46a05de",
   "metadata": {},
   "outputs": [
    {
     "data": {
      "text/plain": [
       "City     0\n",
       "Date     0\n",
       "PM2_5    0\n",
       "PM10     0\n",
       "NO       0\n",
       "NO2      0\n",
       "NOx      0\n",
       "NH3      0\n",
       "CO       0\n",
       "SO2      0\n",
       "O3       0\n",
       "AQI      0\n",
       "dtype: int64"
      ]
     },
     "execution_count": 53,
     "metadata": {},
     "output_type": "execute_result"
    }
   ],
   "source": [
    "data1.isna().sum()"
   ]
  },
  {
   "cell_type": "code",
   "execution_count": 54,
   "id": "65b642e7",
   "metadata": {},
   "outputs": [
    {
     "data": {
      "text/plain": [
       "<AxesSubplot:>"
      ]
     },
     "execution_count": 54,
     "metadata": {},
     "output_type": "execute_result"
    },
    {
     "data": {
      "image/png": "[encoded data removed]",
      "text/plain": [
       "<Figure size 1080x720 with 2 Axes>"
      ]
     },
     "metadata": {
      "needs_background": "light"
     },
     "output_type": "display_data"
    }
   ],
   "source": [
    "import seaborn as sns\n",
    "corrmatrix=data1.corr()\n",
    "plt.subplots(figsize=(15,10))\n",
    "sns.heatmap(corrmatrix, vmin=-0.4,vmax=0.4,annot=True, linewidths=0.1, cmap='YlGnBu')"
   ]
  },
  {
   "cell_type": "code",
   "execution_count": 55,
   "id": "9516a62b",
   "metadata": {},
   "outputs": [],
   "source": [
    "y=data1['AQI']\n",
    "X=data1.drop('AQI', axis=1)\n",
    "\n",
    "X_temp=pd.get_dummies(X, columns=['City'])\n"
   ]
  },
  {
   "cell_type": "code",
   "execution_count": 56,
   "id": "ab4fbd9f",
   "metadata": {},
   "outputs": [
    {
     "data": {
      "text/plain": [
       "(3534, 15)"
      ]
     },
     "execution_count": 56,
     "metadata": {},
     "output_type": "execute_result"
    }
   ],
   "source": [
    "X_temp.shape"
   ]
  },
  {
   "cell_type": "code",
   "execution_count": 57,
   "id": "5aa6aa64",
   "metadata": {
    "scrolled": true
   },
   "outputs": [
    {
     "data": {
      "text/plain": [
       "array(['Date', 'PM2_5', 'PM10', 'NO', 'NO2', 'NOx', 'NH3', 'CO', 'SO2',\n",
       "       'O3', 'City_Bengaluru', 'City_Chennai', 'City_Coimbatore',\n",
       "       'City_Ernakulam', 'City_Thiruvananthapuram'], dtype=object)"
      ]
     },
     "execution_count": 57,
     "metadata": {},
     "output_type": "execute_result"
    }
   ],
   "source": [
    "X_temp.columns.values"
   ]
  },
  {
   "cell_type": "code",
   "execution_count": 58,
   "id": "0034f435",
   "metadata": {},
   "outputs": [],
   "source": [
    "X_temp.drop(columns=['Date'], axis=1, inplace=True)"
   ]
  },
  {
   "cell_type": "code",
   "execution_count": 59,
   "id": "b3a2e6d9",
   "metadata": {},
   "outputs": [],
   "source": [
    "X=X_temp"
   ]
  },
  {
   "cell_type": "code",
   "execution_count": 60,
   "id": "f96b09f8",
   "metadata": {},
   "outputs": [],
   "source": [
    "from sklearn.model_selection import train_test_split\n",
    "X_train,X_test,y_train,y_test = train_test_split(X,y,random_state=42, test_size=0.25)"
   ]
  },
  {
   "cell_type": "code",
   "execution_count": 61,
   "id": "90056ee0",
   "metadata": {},
   "outputs": [
    {
     "data": {
      "text/plain": [
       "SVC(degree=4, kernel='poly')"
      ]
     },
     "execution_count": 61,
     "metadata": {},
     "output_type": "execute_result"
    }
   ],
   "source": [
    "from sklearn.svm import SVC\n",
    "svm_radial=SVC(kernel='poly', degree=4)\n",
    "svm_radial.fit(X_train,y_train)"
   ]
  },
  {
   "cell_type": "code",
   "execution_count": 62,
   "id": "69ac19d0",
   "metadata": {},
   "outputs": [],
   "source": [
    "y_pred=svm_radial.predict(X_test)"
   ]
  },
  {
   "cell_type": "code",
   "execution_count": 63,
   "id": "a6814c33",
   "metadata": {
    "scrolled": true
   },
   "outputs": [
    {
     "name": "stdout",
     "output_type": "stream",
     "text": [
      "MSE is:  558.3925339366516\n",
      "R-squared value is:  0.4627240097542983\n"
     ]
    }
   ],
   "source": [
    "from sklearn.metrics import mean_squared_error\n",
    "print('MSE is: ', mean_squared_error(y_test,y_pred))\n",
    "from sklearn.metrics import r2_score\n",
    "print('R-squared value is: ',r2_score(y_test,y_pred))"
   ]
  },
  {
   "cell_type": "code",
   "execution_count": 64,
   "id": "c6cccdb9",
   "metadata": {},
   "outputs": [],
   "source": [
    "from sklearn.model_selection import cross_val_score, GridSearchCV\n",
    "from sklearn.ensemble import RandomForestRegressor"
   ]
  },
  {
   "cell_type": "code",
   "execution_count": 65,
   "id": "ab83714c",
   "metadata": {},
   "outputs": [],
   "source": [
    "def rfr_model(X, y):\n",
    "# Perform Grid-Search\n",
    "    gsc = GridSearchCV(\n",
    "        estimator=RandomForestRegressor(),\n",
    "        param_grid={\n",
    "            'max_depth': range(3,7),\n",
    "            'n_estimators': (10, 50, 100, 1000),\n",
    "        },\n",
    "        cv=5, scoring='neg_mean_squared_error', verbose=0, n_jobs=-1)\n",
    "    \n",
    "    grid_result = gsc.fit(X, y)\n",
    "    best_params = grid_result.best_params_\n",
    "    \n",
    "    rfr = RandomForestRegressor(max_depth=best_params[\"max_depth\"], n_estimators=best_params[\"n_estimators\"], random_state=False, verbose=False)\n",
    "# Perform K-Fold CV\n",
    "    scores = cross_val_score(rfr, X, y, cv=10, scoring='neg_mean_absolute_error')\n",
    "\n",
    "    return scores"
   ]
  },
  {
   "cell_type": "code",
   "execution_count": 66,
   "id": "37825b41",
   "metadata": {},
   "outputs": [],
   "source": [
    "arr=rfr_model(X_train,y_train)\n"
   ]
  },
  {
   "cell_type": "code",
   "execution_count": 67,
   "id": "6780f9af",
   "metadata": {},
   "outputs": [
    {
     "data": {
      "text/plain": [
       "array([ -9.45118086, -11.13731192, -10.34920428, -11.4653565 ,\n",
       "       -11.68618579,  -9.97770517, -11.05658733, -11.15213614,\n",
       "       -10.57647103, -10.57682132])"
      ]
     },
     "execution_count": 67,
     "metadata": {},
     "output_type": "execute_result"
    }
   ],
   "source": [
    "arr"
   ]
  },
  {
   "cell_type": "code",
   "execution_count": 68,
   "id": "87f21383",
   "metadata": {},
   "outputs": [
    {
     "name": "stdout",
     "output_type": "stream",
     "text": [
      "Accuracy of Model with Cross Validation is: -1074.2896035409951\n"
     ]
    }
   ],
   "source": [
    "print(\"Accuracy of Model with Cross Validation is:\",arr.mean() * 100)"
   ]
  },
  {
   "cell_type": "code",
   "execution_count": 69,
   "id": "ae8b4203",
   "metadata": {},
   "outputs": [
    {
     "data": {
      "text/plain": [
       "RandomForestRegressor(n_estimators=1000, random_state=42)"
      ]
     },
     "execution_count": 69,
     "metadata": {},
     "output_type": "execute_result"
    }
   ],
   "source": [
    "#from sklearn.model_selection import cross_val_predict\n",
    "#predictions = cross_val_predict(rfr, X_test, y, cv=10)\n",
    "regressor = RandomForestRegressor(n_estimators = 1000, random_state = 42)\n",
    "regressor.fit(X_train,y_train)"
   ]
  },
  {
   "cell_type": "code",
   "execution_count": 70,
   "id": "946cd228",
   "metadata": {},
   "outputs": [],
   "source": [
    "ypred=regressor.predict(X_test)"
   ]
  },
  {
   "cell_type": "code",
   "execution_count": 71,
   "id": "2c431201",
   "metadata": {},
   "outputs": [
    {
     "name": "stdout",
     "output_type": "stream",
     "text": [
      "MSE is:  351.9383540074316\n",
      "R-squared value is:  0.6613707810136359\n"
     ]
    }
   ],
   "source": [
    "print('MSE is: ', mean_squared_error(y_test,ypred))\n",
    "print('R-squared value is: ',r2_score(y_test,ypred))"
   ]
  },
  {
   "cell_type": "code",
   "execution_count": 74,
   "id": "d620c5f5",
   "metadata": {},
   "outputs": [
    {
     "data": {
      "text/plain": [
       "Text(3.674999999999997, 0.5, 'Count')"
      ]
     },
     "execution_count": 74,
     "metadata": {},
     "output_type": "execute_result"
    },
    {
     "data": {
      "image/png": "[encoded data removed]",
      "text/plain": [
       "<Figure size 360x360 with 1 Axes>"
      ]
     },
     "metadata": {
      "needs_background": "light"
     },
     "output_type": "display_data"
    }
   ],
   "source": [
    "sns.displot(y_test-ypred)\n",
    "plt.title(\"Difference in AQI measurements \\u0394AQI\")\n",
    "plt.xlabel(\"\\u0394AQI\")\n",
    "plt.ylabel(\"Count\") "
   ]
  },
  {
   "cell_type": "code",
   "execution_count": 75,
   "id": "a430f4f4",
   "metadata": {},
   "outputs": [
    {
     "data": {
      "text/plain": [
       "<matplotlib.collections.PathCollection at 0x293bdc24d60>"
      ]
     },
     "execution_count": 75,
     "metadata": {},
     "output_type": "execute_result"
    },
    {
     "data": {
      "image/png": "[encoded data removed]",
      "text/plain": [
       "<Figure size 432x288 with 1 Axes>"
      ]
     },
     "metadata": {
      "needs_background": "light"
     },
     "output_type": "display_data"
    }
   ],
   "source": [
    "plt.scatter(y_test,ypred)"
   ]
  },
  {
   "cell_type": "markdown",
   "id": "7b3e6a58",
   "metadata": {},
   "source": [
    "**Since the model created is not specifically a predictive type of modelling, this should be considered only as an inferential model. The very general observations are**\n",
    "1. Bangalore and Chennai are high in concentration of PM10 and PM2.5\n",
    "2. CO and triple-Oxygen are high in Bangalore\n",
    "3. NH3 is high in Chennai\n",
    "4. NO is high in Ernakulam\n",
    "\n",
    "**Concerning the modelling, it should be considered as an exercise to find the accuracy of the comparison AQI that was obtained by a) the formula used in the source data to b)the machine learning method. However, since the accuracy values are not high, it cannot be applied suitably as a predictive model.**"
   ]
  },
  {
   "cell_type": "code",
   "execution_count": null,
   "id": "1afad4da",
   "metadata": {},
   "outputs": [],
   "source": []
  }
 ],
 "metadata": {
  "kernelspec": {
   "display_name": "Python 3",
   "language": "python",
   "name": "python3"
  },
  "language_info": {
   "codemirror_mode": {
    "name": "ipython",
    "version": 3
   },
   "file_extension": ".py",
   "mimetype": "text/x-python",
   "name": "python",
   "nbconvert_exporter": "python",
   "pygments_lexer": "ipython3",
   "version": "3.8.8"
  }
 },
 "nbformat": 4,
 "nbformat_minor": 5
}
