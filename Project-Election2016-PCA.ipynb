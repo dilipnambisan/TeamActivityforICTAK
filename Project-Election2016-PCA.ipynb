{
 "cells": [
  {
   "cell_type": "code",
   "execution_count": 1,
   "id": "ac78bb8b",
   "metadata": {},
   "outputs": [
    {
     "data": {
      "text/plain": [
       "(2769, 57)"
      ]
     },
     "execution_count": 1,
     "metadata": {},
     "output_type": "execute_result"
    }
   ],
   "source": [
    "import pandas as pd\n",
    "data=pd.read_excel(\"FinalData.xlsx\")\n",
    "data.shape"
   ]
  },
  {
   "cell_type": "code",
   "execution_count": 2,
   "id": "987e1bb1",
   "metadata": {},
   "outputs": [],
   "source": [
    "data=data.drop([352,2566], axis=0)"
   ]
  },
  {
   "cell_type": "code",
   "execution_count": 3,
   "id": "846c5b80",
   "metadata": {},
   "outputs": [
    {
     "data": {
      "text/plain": [
       "(2767, 97)"
      ]
     },
     "execution_count": 3,
     "metadata": {},
     "output_type": "execute_result"
    }
   ],
   "source": [
    "data_ml=data.copy()\n",
    "data_ml=data_ml.drop([\"fips1\",'Country','Democrat','Republican'], axis=1)\n",
    "onehot_df = pd.get_dummies(data_ml, prefix=\"State\",columns=[\"State\"],\n",
    "                          drop_first=False)\n",
    "onehot_df.shape"
   ]
  },
  {
   "cell_type": "code",
   "execution_count": 4,
   "id": "540caf9c",
   "metadata": {},
   "outputs": [],
   "source": [
    "pd.pandas.set_option('display.max_columns',None)"
   ]
  },
  {
   "cell_type": "code",
   "execution_count": 5,
   "id": "a7d981dc",
   "metadata": {},
   "outputs": [],
   "source": [
    "y=onehot_df[\"winner\"]\n",
    "X=onehot_df.drop([\"winner\"],axis=1)"
   ]
  },
  {
   "cell_type": "code",
   "execution_count": 6,
   "id": "10bd7e56",
   "metadata": {},
   "outputs": [],
   "source": [
    "from sklearn.preprocessing import StandardScaler\n",
    "scaler = StandardScaler() \n",
    "X_scaled = scaler.fit_transform(X)"
   ]
  },
  {
   "cell_type": "code",
   "execution_count": 7,
   "id": "e8c35a8a",
   "metadata": {},
   "outputs": [
    {
     "data": {
      "text/plain": [
       "(2767, 57)"
      ]
     },
     "execution_count": 7,
     "metadata": {},
     "output_type": "execute_result"
    }
   ],
   "source": [
    "from sklearn.decomposition import PCA\n",
    "pca=PCA(0.95)\n",
    "X_pca=pca.fit_transform(X_scaled)\n",
    "X_pca.shape"
   ]
  },
  {
   "cell_type": "code",
   "execution_count": 8,
   "id": "d58df6fe",
   "metadata": {},
   "outputs": [
    {
     "data": {
      "text/plain": [
       "array([0.1761892 , 0.06279427, 0.05302443, 0.0404226 , 0.03478786,\n",
       "       0.02739622, 0.02510332, 0.02141004, 0.01645311, 0.01569006,\n",
       "       0.01481014, 0.01352063, 0.01260133, 0.01224216, 0.01176139,\n",
       "       0.01164507, 0.01141059, 0.0111132 , 0.01101081, 0.01097408,\n",
       "       0.01093089, 0.01089922, 0.01086394, 0.01085974, 0.01085022,\n",
       "       0.01081662, 0.01078857, 0.0107801 , 0.01076281, 0.01074931,\n",
       "       0.0107133 , 0.01069987, 0.01068871, 0.01066087, 0.01064878,\n",
       "       0.01063871, 0.01061169, 0.01058692, 0.01055975, 0.01050487,\n",
       "       0.01050416, 0.01048345, 0.01045939, 0.01044298, 0.01039854,\n",
       "       0.01034042, 0.00971291, 0.0091441 , 0.00908106, 0.00870573,\n",
       "       0.00770892, 0.00732171, 0.00639862, 0.00590462, 0.00556059,\n",
       "       0.00507335, 0.00500119])"
      ]
     },
     "execution_count": 8,
     "metadata": {},
     "output_type": "execute_result"
    }
   ],
   "source": [
    "pca.explained_variance_ratio_"
   ]
  },
  {
   "cell_type": "code",
   "execution_count": 10,
   "id": "13836704",
   "metadata": {},
   "outputs": [],
   "source": [
    "from sklearn.model_selection import train_test_split\n",
    "X_train_pca, X_test_pca, y_train, y_test = train_test_split(X_pca,y,test_size=0.2,random_state=42)"
   ]
  },
  {
   "cell_type": "code",
   "execution_count": 11,
   "id": "d05e8cb0",
   "metadata": {},
   "outputs": [],
   "source": [
    "from sklearn.linear_model import LogisticRegression\n",
    "logit_model=LogisticRegression(solver='lbfgs', max_iter=1000)\n",
    "logit_model.fit(X_train_pca,y_train)\n",
    "y_pred=logit_model.predict(X_test_pca)"
   ]
  },
  {
   "cell_type": "code",
   "execution_count": 12,
   "id": "7b045c4f",
   "metadata": {},
   "outputs": [
    {
     "name": "stdout",
     "output_type": "stream",
     "text": [
      "Accuracy is:  0.8447653429602888\n",
      "Precision is:  0.8743169398907104\n",
      "Recall is:  0.8888888888888888\n",
      "f1 score is:  0.8815426997245178\n"
     ]
    }
   ],
   "source": [
    "from sklearn.metrics import confusion_matrix, accuracy_score, precision_score, recall_score, f1_score\n",
    "print(\"Accuracy is: \",accuracy_score(y_test,y_pred))\n",
    "print(\"Precision is: \", precision_score(y_test,y_pred))\n",
    "print(\"Recall is: \", recall_score(y_test,y_pred))\n",
    "print(\"f1 score is: \", f1_score(y_test,y_pred))"
   ]
  },
  {
   "cell_type": "code",
   "execution_count": 13,
   "id": "01e4d674",
   "metadata": {},
   "outputs": [
    {
     "data": {
      "text/plain": [
       "array([[148,  46],\n",
       "       [ 40, 320]], dtype=int64)"
      ]
     },
     "execution_count": 13,
     "metadata": {},
     "output_type": "execute_result"
    }
   ],
   "source": [
    "confusion_matrix(y_test,y_pred)"
   ]
  },
  {
   "cell_type": "markdown",
   "id": "32054dca",
   "metadata": {},
   "source": [
    "**This is one of the best values of accuracy among all algorithms used in this project so far. Let us try K-NN, SVM and RandomForest with the PCA feature-reduced data**"
   ]
  },
  {
   "cell_type": "markdown",
   "id": "51d44faa",
   "metadata": {},
   "source": [
    "# KNN"
   ]
  },
  {
   "cell_type": "code",
   "execution_count": 14,
   "id": "5274eb95",
   "metadata": {},
   "outputs": [],
   "source": [
    "import numpy as np\n",
    "from sklearn.neighbors import KNeighborsClassifier\n",
    "acc_values=[]\n",
    "neighbors = np.arange(3,15)\n",
    "for k in neighbors:\n",
    "    classifier = KNeighborsClassifier(n_neighbors=k, metric='minkowski')\n",
    "    classifier.fit(X_train_pca,y_train)\n",
    "    y_pred = classifier.predict(X_test_pca)\n",
    "    acc=accuracy_score(y_test,y_pred)\n",
    "    acc_values.append(acc)"
   ]
  },
  {
   "cell_type": "code",
   "execution_count": 15,
   "id": "5592dcd0",
   "metadata": {},
   "outputs": [
    {
     "data": {
      "text/plain": [
       "[0.776173285198556,\n",
       " 0.7906137184115524,\n",
       " 0.8014440433212996,\n",
       " 0.8014440433212996,\n",
       " 0.8014440433212996,\n",
       " 0.8032490974729242,\n",
       " 0.8032490974729242,\n",
       " 0.8014440433212996,\n",
       " 0.8086642599277978,\n",
       " 0.8050541516245487,\n",
       " 0.7942238267148014,\n",
       " 0.796028880866426]"
      ]
     },
     "execution_count": 15,
     "metadata": {},
     "output_type": "execute_result"
    }
   ],
   "source": [
    "acc_values"
   ]
  },
  {
   "cell_type": "code",
   "execution_count": 16,
   "id": "287a6ae0",
   "metadata": {},
   "outputs": [
    {
     "data": {
      "text/plain": [
       "Text(0, 0.5, 'accuracy')"
      ]
     },
     "execution_count": 16,
     "metadata": {},
     "output_type": "execute_result"
    },
    {
     "data": {
      "image/png": "[encoded data removed]",
      "text/plain": [
       "<Figure size 432x288 with 1 Axes>"
      ]
     },
     "metadata": {
      "needs_background": "light"
     },
     "output_type": "display_data"
    }
   ],
   "source": [
    "import matplotlib.pyplot as plt\n",
    "plt.plot(neighbors,acc_values, 'o-')\n",
    "plt.xlabel('k value')\n",
    "plt.ylabel('accuracy')"
   ]
  },
  {
   "cell_type": "markdown",
   "id": "4e8f3a31",
   "metadata": {},
   "source": [
    "**Here we observe the greatest accuracy for k=11**"
   ]
  },
  {
   "cell_type": "code",
   "execution_count": 18,
   "id": "2777f10a",
   "metadata": {},
   "outputs": [],
   "source": [
    "classifier = KNeighborsClassifier(n_neighbors=11, metric='minkowski')\n",
    "classifier.fit(X_train_pca,y_train)\n",
    "y_pred = classifier.predict(X_test_pca)"
   ]
  },
  {
   "cell_type": "code",
   "execution_count": 19,
   "id": "17500b96",
   "metadata": {},
   "outputs": [
    {
     "name": "stdout",
     "output_type": "stream",
     "text": [
      "Accuracy is:  0.8086642599277978\n",
      "Precision is:  0.8067632850241546\n",
      "Recall is:  0.9277777777777778\n",
      "f1 score is:  0.8630490956072351\n"
     ]
    }
   ],
   "source": [
    "print(\"Accuracy is: \",accuracy_score(y_test,y_pred))\n",
    "print(\"Precision is: \", precision_score(y_test,y_pred))\n",
    "print(\"Recall is: \", recall_score(y_test,y_pred))\n",
    "print(\"f1 score is: \", f1_score(y_test,y_pred))"
   ]
  },
  {
   "cell_type": "code",
   "execution_count": 20,
   "id": "88a3d3cb",
   "metadata": {},
   "outputs": [
    {
     "data": {
      "text/plain": [
       "array([[114,  80],\n",
       "       [ 26, 334]], dtype=int64)"
      ]
     },
     "execution_count": 20,
     "metadata": {},
     "output_type": "execute_result"
    }
   ],
   "source": [
    "confusion_matrix(y_test,y_pred)"
   ]
  },
  {
   "cell_type": "markdown",
   "id": "f1a0395c",
   "metadata": {},
   "source": [
    "**The logistic regression model gave better results, as seen from the metrics**"
   ]
  },
  {
   "cell_type": "markdown",
   "id": "f0a76f7d",
   "metadata": {},
   "source": [
    "# SVM"
   ]
  },
  {
   "cell_type": "code",
   "execution_count": 25,
   "id": "c1b60513",
   "metadata": {},
   "outputs": [
    {
     "data": {
      "text/plain": [
       "SVC(kernel='linear')"
      ]
     },
     "execution_count": 25,
     "metadata": {},
     "output_type": "execute_result"
    }
   ],
   "source": [
    "from sklearn.svm import SVC\n",
    "svm_linear= SVC(kernel='linear')\n",
    "svm_linear.fit(X_train_pca,y_train)"
   ]
  },
  {
   "cell_type": "code",
   "execution_count": 26,
   "id": "59846865",
   "metadata": {},
   "outputs": [
    {
     "name": "stdout",
     "output_type": "stream",
     "text": [
      "Accuracy is:  0.8465703971119134\n",
      "Precision is:  0.8647214854111406\n",
      "Recall is:  0.9055555555555556\n",
      "f1 score is:  0.8846675712347354\n"
     ]
    }
   ],
   "source": [
    "y_pred=svm_linear.predict(X_test_pca)\n",
    "print(\"Accuracy is: \",accuracy_score(y_test,y_pred))\n",
    "print(\"Precision is: \", precision_score(y_test,y_pred))\n",
    "print(\"Recall is: \", recall_score(y_test,y_pred))\n",
    "print(\"f1 score is: \", f1_score(y_test,y_pred))"
   ]
  },
  {
   "cell_type": "code",
   "execution_count": 27,
   "id": "2022af90",
   "metadata": {},
   "outputs": [
    {
     "data": {
      "text/plain": [
       "array([[143,  51],\n",
       "       [ 34, 326]], dtype=int64)"
      ]
     },
     "execution_count": 27,
     "metadata": {},
     "output_type": "execute_result"
    }
   ],
   "source": [
    "confusion_matrix(y_test,y_pred)"
   ]
  },
  {
   "cell_type": "markdown",
   "id": "0530ed1a",
   "metadata": {},
   "source": [
    "**It can be seen that the linear SVM has produced results very slightly better than the Logistic regression(above); there is one less misclassification**"
   ]
  },
  {
   "cell_type": "markdown",
   "id": "50d567df",
   "metadata": {},
   "source": [
    "# Radial SVM"
   ]
  },
  {
   "cell_type": "code",
   "execution_count": 28,
   "id": "d38c7cb7",
   "metadata": {},
   "outputs": [],
   "source": [
    "svm_radial=SVC(kernel='rbf')\n",
    "svm_radial.fit(X_train_pca,y_train)\n",
    "y_pred=svm_radial.predict(X_test_pca)"
   ]
  },
  {
   "cell_type": "code",
   "execution_count": 29,
   "id": "f580cabc",
   "metadata": {},
   "outputs": [
    {
     "name": "stdout",
     "output_type": "stream",
     "text": [
      "Accuracy is:  0.8158844765342961\n",
      "Precision is:  0.8324742268041238\n",
      "Recall is:  0.8972222222222223\n",
      "f1 score is:  0.8636363636363636\n"
     ]
    }
   ],
   "source": [
    "print(\"Accuracy is: \",accuracy_score(y_test,y_pred))\n",
    "print(\"Precision is: \", precision_score(y_test,y_pred))\n",
    "print(\"Recall is: \", recall_score(y_test,y_pred))\n",
    "print(\"f1 score is: \", f1_score(y_test,y_pred))"
   ]
  },
  {
   "cell_type": "code",
   "execution_count": 30,
   "id": "f990c108",
   "metadata": {},
   "outputs": [
    {
     "data": {
      "text/plain": [
       "array([[129,  65],\n",
       "       [ 37, 323]], dtype=int64)"
      ]
     },
     "execution_count": 30,
     "metadata": {},
     "output_type": "execute_result"
    }
   ],
   "source": [
    "confusion_matrix(y_test,y_pred)"
   ]
  },
  {
   "cell_type": "markdown",
   "id": "63edb405",
   "metadata": {},
   "source": [
    "**Radial SVM is inferior to Linear SVM in this particular scenario**"
   ]
  },
  {
   "cell_type": "markdown",
   "id": "d2f73134",
   "metadata": {},
   "source": [
    "# Random Forest Classifier"
   ]
  },
  {
   "cell_type": "code",
   "execution_count": 31,
   "id": "b4f25888",
   "metadata": {},
   "outputs": [],
   "source": [
    "from sklearn.ensemble import RandomForestClassifier\n",
    "rf=RandomForestClassifier()\n",
    "rf.fit(X_train_pca,y_train)\n",
    "y_pred=rf.predict(X_test_pca)"
   ]
  },
  {
   "cell_type": "code",
   "execution_count": 32,
   "id": "37bd7dde",
   "metadata": {},
   "outputs": [
    {
     "name": "stdout",
     "output_type": "stream",
     "text": [
      "Accuracy is:  0.8321299638989169\n",
      "Precision is:  0.8579088471849866\n",
      "Recall is:  0.8888888888888888\n",
      "f1 score is:  0.8731241473396998\n"
     ]
    }
   ],
   "source": [
    "print(\"Accuracy is: \",accuracy_score(y_test,y_pred))\n",
    "print(\"Precision is: \", precision_score(y_test,y_pred))\n",
    "print(\"Recall is: \", recall_score(y_test,y_pred))\n",
    "print(\"f1 score is: \", f1_score(y_test,y_pred))"
   ]
  },
  {
   "cell_type": "code",
   "execution_count": 33,
   "id": "d4f30c2e",
   "metadata": {},
   "outputs": [
    {
     "data": {
      "text/plain": [
       "array([[141,  53],\n",
       "       [ 40, 320]], dtype=int64)"
      ]
     },
     "execution_count": 33,
     "metadata": {},
     "output_type": "execute_result"
    }
   ],
   "source": [
    "confusion_matrix(y_test,y_pred)"
   ]
  },
  {
   "cell_type": "markdown",
   "id": "9cae61cb",
   "metadata": {},
   "source": [
    "**Random Forest has performed far better with PCA than without PCA, but still it does not match up to linear SVM**\n",
    "\n",
    "**Feature Importance**"
   ]
  },
  {
   "cell_type": "code",
   "execution_count": 34,
   "id": "03488b18",
   "metadata": {},
   "outputs": [
    {
     "data": {
      "text/plain": [
       "numpy.ndarray"
      ]
     },
     "execution_count": 34,
     "metadata": {},
     "output_type": "execute_result"
    }
   ],
   "source": [
    "type(X_pca)"
   ]
  },
  {
   "cell_type": "code",
   "execution_count": 35,
   "id": "4255d35e",
   "metadata": {},
   "outputs": [],
   "source": [
    "X_pca=pd.DataFrame(X_pca)"
   ]
  },
  {
   "cell_type": "code",
   "execution_count": 37,
   "id": "5459f4b2",
   "metadata": {},
   "outputs": [
    {
     "data": {
      "text/plain": [
       "16    0.052140\n",
       "3     0.050899\n",
       "0     0.044659\n",
       "18    0.032744\n",
       "19    0.028964\n",
       "4     0.028566\n",
       "21    0.027072\n",
       "1     0.026189\n",
       "9     0.025440\n",
       "26    0.025066\n",
       "2     0.021361\n",
       "8     0.018022\n",
       "5     0.017655\n",
       "20    0.017345\n",
       "42    0.017290\n",
       "35    0.017256\n",
       "6     0.017061\n",
       "25    0.016884\n",
       "7     0.016817\n",
       "13    0.016593\n",
       "30    0.016455\n",
       "15    0.016455\n",
       "55    0.015709\n",
       "32    0.015685\n",
       "27    0.015539\n",
       "43    0.015013\n",
       "49    0.014776\n",
       "33    0.014710\n",
       "24    0.014512\n",
       "37    0.014422\n",
       "45    0.014297\n",
       "28    0.014078\n",
       "23    0.013852\n",
       "53    0.013799\n",
       "31    0.013748\n",
       "40    0.013651\n",
       "12    0.013106\n",
       "41    0.013091\n",
       "44    0.012964\n",
       "50    0.012802\n",
       "11    0.012737\n",
       "29    0.012705\n",
       "56    0.012533\n",
       "10    0.012354\n",
       "52    0.012172\n",
       "34    0.011597\n",
       "38    0.011580\n",
       "22    0.011530\n",
       "36    0.011494\n",
       "17    0.011455\n",
       "46    0.011099\n",
       "54    0.010965\n",
       "48    0.010699\n",
       "39    0.010340\n",
       "14    0.010299\n",
       "47    0.010005\n",
       "51    0.009746\n",
       "dtype: float64"
      ]
     },
     "execution_count": 37,
     "metadata": {},
     "output_type": "execute_result"
    }
   ],
   "source": [
    "pd.Series(rf.feature_importances_,index=X_pca.columns).sort_values(ascending=False)"
   ]
  },
  {
   "cell_type": "markdown",
   "id": "6bd96b16",
   "metadata": {},
   "source": [
    "**Since the columns here are generated by the PCA transformation, they are not interpretable to us, and we shall retain all of them**"
   ]
  },
  {
   "cell_type": "code",
   "execution_count": null,
   "id": "e6b75304",
   "metadata": {},
   "outputs": [],
   "source": []
  }
 ],
 "metadata": {
  "kernelspec": {
   "display_name": "Python 3",
   "language": "python",
   "name": "python3"
  },
  "language_info": {
   "codemirror_mode": {
    "name": "ipython",
    "version": 3
   },
   "file_extension": ".py",
   "mimetype": "text/x-python",
   "name": "python",
   "nbconvert_exporter": "python",
   "pygments_lexer": "ipython3",
   "version": "3.8.8"
  }
 },
 "nbformat": 4,
 "nbformat_minor": 5
}
