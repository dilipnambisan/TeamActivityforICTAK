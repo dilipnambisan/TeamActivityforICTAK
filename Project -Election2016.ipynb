{
 "cells": [
  {
   "cell_type": "code",
   "execution_count": 1,
   "id": "7b49819e",
   "metadata": {},
   "outputs": [
    {
     "data": {
      "text/plain": [
       "(2769, 57)"
      ]
     },
     "execution_count": 1,
     "metadata": {},
     "output_type": "execute_result"
    }
   ],
   "source": [
    "import pandas as pd\n",
    "data=pd.read_excel(\"FinalData.xlsx\")\n",
    "data.shape"
   ]
  },
  {
   "cell_type": "code",
   "execution_count": 2,
   "id": "38afd519",
   "metadata": {},
   "outputs": [
    {
     "data": {
      "text/plain": [
       "Index(['Country', 'State', 'fips1', 'Democrat', 'Republican', 'PST045214',\n",
       "       'PST040210', 'PST120214', 'POP010210', 'AGE135214', 'AGE295214',\n",
       "       'AGE775214', 'SEX255214', 'RHI125214', 'RHI225214', 'RHI325214',\n",
       "       'RHI425214', 'RHI525214', 'RHI625214', 'RHI725214', 'RHI825214',\n",
       "       'POP715213', 'POP645213', 'POP815213', 'EDU635213', 'EDU685213',\n",
       "       'VET605213', 'LFE305213', 'HSG010214', 'HSG445213', 'HSG096213',\n",
       "       'HSG495213', 'HSD410213', 'HSD310213', 'INC910213', 'INC110213',\n",
       "       'PVY020213', 'BZA010213', 'BZA110213', 'BZA115213', 'NES010213',\n",
       "       'SBO001207', 'SBO315207', 'SBO115207', 'SBO215207', 'SBO515207',\n",
       "       'SBO415207', 'SBO015207', 'MAN450207', 'WTN220207', 'RTN130207',\n",
       "       'RTN131207', 'AFN120207', 'BPS030214', 'LND110210', 'POP060210',\n",
       "       'winner'],\n",
       "      dtype='object')"
      ]
     },
     "execution_count": 2,
     "metadata": {},
     "output_type": "execute_result"
    }
   ],
   "source": [
    "data.columns"
   ]
  },
  {
   "cell_type": "code",
   "execution_count": 3,
   "id": "6f2c7ee7",
   "metadata": {},
   "outputs": [
    {
     "data": {
      "text/html": [
       "<div>\n",
       "<style scoped>\n",
       "    .dataframe tbody tr th:only-of-type {\n",
       "        vertical-align: middle;\n",
       "    }\n",
       "\n",
       "    .dataframe tbody tr th {\n",
       "        vertical-align: top;\n",
       "    }\n",
       "\n",
       "    .dataframe thead th {\n",
       "        text-align: right;\n",
       "    }\n",
       "</style>\n",
       "<table border=\"1\" class=\"dataframe\">\n",
       "  <thead>\n",
       "    <tr style=\"text-align: right;\">\n",
       "      <th></th>\n",
       "      <th>Country</th>\n",
       "      <th>State</th>\n",
       "      <th>fips1</th>\n",
       "      <th>Democrat</th>\n",
       "      <th>Republican</th>\n",
       "      <th>PST045214</th>\n",
       "      <th>PST040210</th>\n",
       "      <th>PST120214</th>\n",
       "      <th>POP010210</th>\n",
       "      <th>AGE135214</th>\n",
       "      <th>...</th>\n",
       "      <th>SBO015207</th>\n",
       "      <th>MAN450207</th>\n",
       "      <th>WTN220207</th>\n",
       "      <th>RTN130207</th>\n",
       "      <th>RTN131207</th>\n",
       "      <th>AFN120207</th>\n",
       "      <th>BPS030214</th>\n",
       "      <th>LND110210</th>\n",
       "      <th>POP060210</th>\n",
       "      <th>winner</th>\n",
       "    </tr>\n",
       "  </thead>\n",
       "  <tbody>\n",
       "    <tr>\n",
       "      <th>352</th>\n",
       "      <td>USA</td>\n",
       "      <td>Arkansas</td>\n",
       "      <td>5015</td>\n",
       "      <td>0</td>\n",
       "      <td>0</td>\n",
       "      <td>27744</td>\n",
       "      <td>27446</td>\n",
       "      <td>1.1</td>\n",
       "      <td>27446</td>\n",
       "      <td>5.5</td>\n",
       "      <td>...</td>\n",
       "      <td>19.1</td>\n",
       "      <td>0</td>\n",
       "      <td>24110</td>\n",
       "      <td>265358</td>\n",
       "      <td>9728</td>\n",
       "      <td>53966</td>\n",
       "      <td>10</td>\n",
       "      <td>630.09</td>\n",
       "      <td>43.6</td>\n",
       "      <td>1</td>\n",
       "    </tr>\n",
       "    <tr>\n",
       "      <th>528</th>\n",
       "      <td>USA</td>\n",
       "      <td>South Dakota</td>\n",
       "      <td>46029</td>\n",
       "      <td>1473</td>\n",
       "      <td>1473</td>\n",
       "      <td>27938</td>\n",
       "      <td>27227</td>\n",
       "      <td>2.6</td>\n",
       "      <td>27227</td>\n",
       "      <td>7.0</td>\n",
       "      <td>...</td>\n",
       "      <td>24.9</td>\n",
       "      <td>0</td>\n",
       "      <td>344014</td>\n",
       "      <td>560668</td>\n",
       "      <td>21311</td>\n",
       "      <td>75569</td>\n",
       "      <td>149</td>\n",
       "      <td>688.50</td>\n",
       "      <td>39.5</td>\n",
       "      <td>1</td>\n",
       "    </tr>\n",
       "    <tr>\n",
       "      <th>1930</th>\n",
       "      <td>USA</td>\n",
       "      <td>Kentucky</td>\n",
       "      <td>21189</td>\n",
       "      <td>168</td>\n",
       "      <td>168</td>\n",
       "      <td>4508</td>\n",
       "      <td>4755</td>\n",
       "      <td>-5.2</td>\n",
       "      <td>4755</td>\n",
       "      <td>5.7</td>\n",
       "      <td>...</td>\n",
       "      <td>0.0</td>\n",
       "      <td>0</td>\n",
       "      <td>0</td>\n",
       "      <td>16715</td>\n",
       "      <td>3625</td>\n",
       "      <td>0</td>\n",
       "      <td>0</td>\n",
       "      <td>197.41</td>\n",
       "      <td>24.1</td>\n",
       "      <td>1</td>\n",
       "    </tr>\n",
       "    <tr>\n",
       "      <th>2566</th>\n",
       "      <td>USA</td>\n",
       "      <td>Maine</td>\n",
       "      <td>23027</td>\n",
       "      <td>0</td>\n",
       "      <td>0</td>\n",
       "      <td>39051</td>\n",
       "      <td>38786</td>\n",
       "      <td>0.7</td>\n",
       "      <td>38786</td>\n",
       "      <td>5.0</td>\n",
       "      <td>...</td>\n",
       "      <td>29.7</td>\n",
       "      <td>210346</td>\n",
       "      <td>522257</td>\n",
       "      <td>340345</td>\n",
       "      <td>8857</td>\n",
       "      <td>37580</td>\n",
       "      <td>76</td>\n",
       "      <td>729.92</td>\n",
       "      <td>53.1</td>\n",
       "      <td>1</td>\n",
       "    </tr>\n",
       "  </tbody>\n",
       "</table>\n",
       "<p>4 rows × 57 columns</p>\n",
       "</div>"
      ],
      "text/plain": [
       "     Country         State  fips1  Democrat  Republican  PST045214  PST040210  \\\n",
       "352      USA      Arkansas   5015         0           0      27744      27446   \n",
       "528      USA  South Dakota  46029      1473        1473      27938      27227   \n",
       "1930     USA      Kentucky  21189       168         168       4508       4755   \n",
       "2566     USA         Maine  23027         0           0      39051      38786   \n",
       "\n",
       "      PST120214  POP010210  AGE135214  ...  SBO015207  MAN450207  WTN220207  \\\n",
       "352         1.1      27446        5.5  ...       19.1          0      24110   \n",
       "528         2.6      27227        7.0  ...       24.9          0     344014   \n",
       "1930       -5.2       4755        5.7  ...        0.0          0          0   \n",
       "2566        0.7      38786        5.0  ...       29.7     210346     522257   \n",
       "\n",
       "      RTN130207  RTN131207  AFN120207  BPS030214  LND110210  POP060210  winner  \n",
       "352      265358       9728      53966         10     630.09       43.6       1  \n",
       "528      560668      21311      75569        149     688.50       39.5       1  \n",
       "1930      16715       3625          0          0     197.41       24.1       1  \n",
       "2566     340345       8857      37580         76     729.92       53.1       1  \n",
       "\n",
       "[4 rows x 57 columns]"
      ]
     },
     "execution_count": 3,
     "metadata": {},
     "output_type": "execute_result"
    }
   ],
   "source": [
    "data.loc[data[\"Democrat\"]==data[\"Republican\"]]"
   ]
  },
  {
   "cell_type": "code",
   "execution_count": 4,
   "id": "e7017331",
   "metadata": {},
   "outputs": [],
   "source": [
    "check_df=pd.read_csv(\"primary_results.csv\")"
   ]
  },
  {
   "cell_type": "code",
   "execution_count": 7,
   "id": "cc21c2e6",
   "metadata": {},
   "outputs": [
    {
     "data": {
      "text/html": [
       "<div>\n",
       "<style scoped>\n",
       "    .dataframe tbody tr th:only-of-type {\n",
       "        vertical-align: middle;\n",
       "    }\n",
       "\n",
       "    .dataframe tbody tr th {\n",
       "        vertical-align: top;\n",
       "    }\n",
       "\n",
       "    .dataframe thead th {\n",
       "        text-align: right;\n",
       "    }\n",
       "</style>\n",
       "<table border=\"1\" class=\"dataframe\">\n",
       "  <thead>\n",
       "    <tr style=\"text-align: right;\">\n",
       "      <th></th>\n",
       "      <th>state</th>\n",
       "      <th>state_abbreviation</th>\n",
       "      <th>county</th>\n",
       "      <th>fips</th>\n",
       "      <th>party</th>\n",
       "      <th>candidate</th>\n",
       "      <th>votes</th>\n",
       "      <th>fraction_votes</th>\n",
       "    </tr>\n",
       "  </thead>\n",
       "  <tbody>\n",
       "    <tr>\n",
       "      <th>18142</th>\n",
       "      <td>South Dakota</td>\n",
       "      <td>SD</td>\n",
       "      <td>Codington</td>\n",
       "      <td>46029.0</td>\n",
       "      <td>Democrat</td>\n",
       "      <td>Bernie Sanders</td>\n",
       "      <td>645</td>\n",
       "      <td>0.438</td>\n",
       "    </tr>\n",
       "    <tr>\n",
       "      <th>18143</th>\n",
       "      <td>South Dakota</td>\n",
       "      <td>SD</td>\n",
       "      <td>Codington</td>\n",
       "      <td>46029.0</td>\n",
       "      <td>Democrat</td>\n",
       "      <td>Hillary Clinton</td>\n",
       "      <td>828</td>\n",
       "      <td>0.562</td>\n",
       "    </tr>\n",
       "    <tr>\n",
       "      <th>18287</th>\n",
       "      <td>South Dakota</td>\n",
       "      <td>SD</td>\n",
       "      <td>Codington</td>\n",
       "      <td>46029.0</td>\n",
       "      <td>Republican</td>\n",
       "      <td>Donald Trump</td>\n",
       "      <td>1473</td>\n",
       "      <td>0.673</td>\n",
       "    </tr>\n",
       "    <tr>\n",
       "      <th>18288</th>\n",
       "      <td>South Dakota</td>\n",
       "      <td>SD</td>\n",
       "      <td>Codington</td>\n",
       "      <td>46029.0</td>\n",
       "      <td>Republican</td>\n",
       "      <td>John Kasich</td>\n",
       "      <td>381</td>\n",
       "      <td>0.174</td>\n",
       "    </tr>\n",
       "    <tr>\n",
       "      <th>18289</th>\n",
       "      <td>South Dakota</td>\n",
       "      <td>SD</td>\n",
       "      <td>Codington</td>\n",
       "      <td>46029.0</td>\n",
       "      <td>Republican</td>\n",
       "      <td>Ted Cruz</td>\n",
       "      <td>336</td>\n",
       "      <td>0.153</td>\n",
       "    </tr>\n",
       "  </tbody>\n",
       "</table>\n",
       "</div>"
      ],
      "text/plain": [
       "              state state_abbreviation     county     fips       party  \\\n",
       "18142  South Dakota                 SD  Codington  46029.0    Democrat   \n",
       "18143  South Dakota                 SD  Codington  46029.0    Democrat   \n",
       "18287  South Dakota                 SD  Codington  46029.0  Republican   \n",
       "18288  South Dakota                 SD  Codington  46029.0  Republican   \n",
       "18289  South Dakota                 SD  Codington  46029.0  Republican   \n",
       "\n",
       "             candidate  votes  fraction_votes  \n",
       "18142   Bernie Sanders    645           0.438  \n",
       "18143  Hillary Clinton    828           0.562  \n",
       "18287     Donald Trump   1473           0.673  \n",
       "18288      John Kasich    381           0.174  \n",
       "18289         Ted Cruz    336           0.153  "
      ]
     },
     "execution_count": 7,
     "metadata": {},
     "output_type": "execute_result"
    }
   ],
   "source": [
    "check_df.loc[(check_df[\"state_abbreviation\"]==\"SD\")&(check_df[\"county\"]==\"Codington\")]"
   ]
  },
  {
   "cell_type": "markdown",
   "id": "807c1b29",
   "metadata": {},
   "source": [
    "**Adding up, we see that in the fips=46029, ie, Codington county, the maximum number of votes were for Republicans. So the \"winner\" field remains 1 (since Republicans are more popular there)**"
   ]
  },
  {
   "cell_type": "code",
   "execution_count": 8,
   "id": "dd5f4eaf",
   "metadata": {},
   "outputs": [
    {
     "data": {
      "text/html": [
       "<div>\n",
       "<style scoped>\n",
       "    .dataframe tbody tr th:only-of-type {\n",
       "        vertical-align: middle;\n",
       "    }\n",
       "\n",
       "    .dataframe tbody tr th {\n",
       "        vertical-align: top;\n",
       "    }\n",
       "\n",
       "    .dataframe thead th {\n",
       "        text-align: right;\n",
       "    }\n",
       "</style>\n",
       "<table border=\"1\" class=\"dataframe\">\n",
       "  <thead>\n",
       "    <tr style=\"text-align: right;\">\n",
       "      <th></th>\n",
       "      <th>state</th>\n",
       "      <th>state_abbreviation</th>\n",
       "      <th>county</th>\n",
       "      <th>fips</th>\n",
       "      <th>party</th>\n",
       "      <th>candidate</th>\n",
       "      <th>votes</th>\n",
       "      <th>fraction_votes</th>\n",
       "    </tr>\n",
       "  </thead>\n",
       "  <tbody>\n",
       "    <tr>\n",
       "      <th>7205</th>\n",
       "      <td>Kentucky</td>\n",
       "      <td>KY</td>\n",
       "      <td>Owsley</td>\n",
       "      <td>21189.0</td>\n",
       "      <td>Democrat</td>\n",
       "      <td>Bernie Sanders</td>\n",
       "      <td>91</td>\n",
       "      <td>0.511</td>\n",
       "    </tr>\n",
       "    <tr>\n",
       "      <th>7206</th>\n",
       "      <td>Kentucky</td>\n",
       "      <td>KY</td>\n",
       "      <td>Owsley</td>\n",
       "      <td>21189.0</td>\n",
       "      <td>Democrat</td>\n",
       "      <td>Hillary Clinton</td>\n",
       "      <td>77</td>\n",
       "      <td>0.433</td>\n",
       "    </tr>\n",
       "    <tr>\n",
       "      <th>7633</th>\n",
       "      <td>Kentucky</td>\n",
       "      <td>KY</td>\n",
       "      <td>Owsley</td>\n",
       "      <td>21189.0</td>\n",
       "      <td>Republican</td>\n",
       "      <td>Donald Trump</td>\n",
       "      <td>168</td>\n",
       "      <td>0.625</td>\n",
       "    </tr>\n",
       "    <tr>\n",
       "      <th>7634</th>\n",
       "      <td>Kentucky</td>\n",
       "      <td>KY</td>\n",
       "      <td>Owsley</td>\n",
       "      <td>21189.0</td>\n",
       "      <td>Republican</td>\n",
       "      <td>John Kasich</td>\n",
       "      <td>12</td>\n",
       "      <td>0.045</td>\n",
       "    </tr>\n",
       "    <tr>\n",
       "      <th>7635</th>\n",
       "      <td>Kentucky</td>\n",
       "      <td>KY</td>\n",
       "      <td>Owsley</td>\n",
       "      <td>21189.0</td>\n",
       "      <td>Republican</td>\n",
       "      <td>Marco Rubio</td>\n",
       "      <td>24</td>\n",
       "      <td>0.089</td>\n",
       "    </tr>\n",
       "    <tr>\n",
       "      <th>7636</th>\n",
       "      <td>Kentucky</td>\n",
       "      <td>KY</td>\n",
       "      <td>Owsley</td>\n",
       "      <td>21189.0</td>\n",
       "      <td>Republican</td>\n",
       "      <td>Ted Cruz</td>\n",
       "      <td>58</td>\n",
       "      <td>0.216</td>\n",
       "    </tr>\n",
       "  </tbody>\n",
       "</table>\n",
       "</div>"
      ],
      "text/plain": [
       "         state state_abbreviation  county     fips       party  \\\n",
       "7205  Kentucky                 KY  Owsley  21189.0    Democrat   \n",
       "7206  Kentucky                 KY  Owsley  21189.0    Democrat   \n",
       "7633  Kentucky                 KY  Owsley  21189.0  Republican   \n",
       "7634  Kentucky                 KY  Owsley  21189.0  Republican   \n",
       "7635  Kentucky                 KY  Owsley  21189.0  Republican   \n",
       "7636  Kentucky                 KY  Owsley  21189.0  Republican   \n",
       "\n",
       "            candidate  votes  fraction_votes  \n",
       "7205   Bernie Sanders     91           0.511  \n",
       "7206  Hillary Clinton     77           0.433  \n",
       "7633     Donald Trump    168           0.625  \n",
       "7634      John Kasich     12           0.045  \n",
       "7635      Marco Rubio     24           0.089  \n",
       "7636         Ted Cruz     58           0.216  "
      ]
     },
     "execution_count": 8,
     "metadata": {},
     "output_type": "execute_result"
    }
   ],
   "source": [
    "check_df.loc[(check_df[\"state_abbreviation\"]==\"KY\")&(check_df[\"county\"]==\"Owsley\")]"
   ]
  },
  {
   "cell_type": "markdown",
   "id": "50eb9bda",
   "metadata": {},
   "source": [
    "**Adding up, we see that in the fips=21189, ie, Owsley county, the maximum number of votes were for Republicans. So the \"winner\" field remains 1 (since Republicans are more popular there)**"
   ]
  },
  {
   "cell_type": "code",
   "execution_count": 10,
   "id": "abe1ae35",
   "metadata": {},
   "outputs": [
    {
     "data": {
      "text/html": [
       "<div>\n",
       "<style scoped>\n",
       "    .dataframe tbody tr th:only-of-type {\n",
       "        vertical-align: middle;\n",
       "    }\n",
       "\n",
       "    .dataframe tbody tr th {\n",
       "        vertical-align: top;\n",
       "    }\n",
       "\n",
       "    .dataframe thead th {\n",
       "        text-align: right;\n",
       "    }\n",
       "</style>\n",
       "<table border=\"1\" class=\"dataframe\">\n",
       "  <thead>\n",
       "    <tr style=\"text-align: right;\">\n",
       "      <th></th>\n",
       "      <th>state</th>\n",
       "      <th>state_abbreviation</th>\n",
       "      <th>county</th>\n",
       "      <th>fips</th>\n",
       "      <th>party</th>\n",
       "      <th>candidate</th>\n",
       "      <th>votes</th>\n",
       "      <th>fraction_votes</th>\n",
       "    </tr>\n",
       "  </thead>\n",
       "  <tbody>\n",
       "    <tr>\n",
       "      <th>838</th>\n",
       "      <td>Arkansas</td>\n",
       "      <td>AR</td>\n",
       "      <td>Carroll</td>\n",
       "      <td>5015.0</td>\n",
       "      <td>Democrat</td>\n",
       "      <td>Bernie Sanders</td>\n",
       "      <td>0</td>\n",
       "      <td>0.0</td>\n",
       "    </tr>\n",
       "    <tr>\n",
       "      <th>839</th>\n",
       "      <td>Arkansas</td>\n",
       "      <td>AR</td>\n",
       "      <td>Carroll</td>\n",
       "      <td>5015.0</td>\n",
       "      <td>Democrat</td>\n",
       "      <td>Hillary Clinton</td>\n",
       "      <td>0</td>\n",
       "      <td>0.0</td>\n",
       "    </tr>\n",
       "    <tr>\n",
       "      <th>1009</th>\n",
       "      <td>Arkansas</td>\n",
       "      <td>AR</td>\n",
       "      <td>Carroll</td>\n",
       "      <td>5015.0</td>\n",
       "      <td>Republican</td>\n",
       "      <td>Ben Carson</td>\n",
       "      <td>0</td>\n",
       "      <td>0.0</td>\n",
       "    </tr>\n",
       "    <tr>\n",
       "      <th>1010</th>\n",
       "      <td>Arkansas</td>\n",
       "      <td>AR</td>\n",
       "      <td>Carroll</td>\n",
       "      <td>5015.0</td>\n",
       "      <td>Republican</td>\n",
       "      <td>Donald Trump</td>\n",
       "      <td>0</td>\n",
       "      <td>0.0</td>\n",
       "    </tr>\n",
       "    <tr>\n",
       "      <th>1011</th>\n",
       "      <td>Arkansas</td>\n",
       "      <td>AR</td>\n",
       "      <td>Carroll</td>\n",
       "      <td>5015.0</td>\n",
       "      <td>Republican</td>\n",
       "      <td>John Kasich</td>\n",
       "      <td>0</td>\n",
       "      <td>0.0</td>\n",
       "    </tr>\n",
       "    <tr>\n",
       "      <th>1012</th>\n",
       "      <td>Arkansas</td>\n",
       "      <td>AR</td>\n",
       "      <td>Carroll</td>\n",
       "      <td>5015.0</td>\n",
       "      <td>Republican</td>\n",
       "      <td>Marco Rubio</td>\n",
       "      <td>0</td>\n",
       "      <td>0.0</td>\n",
       "    </tr>\n",
       "    <tr>\n",
       "      <th>1013</th>\n",
       "      <td>Arkansas</td>\n",
       "      <td>AR</td>\n",
       "      <td>Carroll</td>\n",
       "      <td>5015.0</td>\n",
       "      <td>Republican</td>\n",
       "      <td>Ted Cruz</td>\n",
       "      <td>0</td>\n",
       "      <td>0.0</td>\n",
       "    </tr>\n",
       "  </tbody>\n",
       "</table>\n",
       "</div>"
      ],
      "text/plain": [
       "         state state_abbreviation   county    fips       party  \\\n",
       "838   Arkansas                 AR  Carroll  5015.0    Democrat   \n",
       "839   Arkansas                 AR  Carroll  5015.0    Democrat   \n",
       "1009  Arkansas                 AR  Carroll  5015.0  Republican   \n",
       "1010  Arkansas                 AR  Carroll  5015.0  Republican   \n",
       "1011  Arkansas                 AR  Carroll  5015.0  Republican   \n",
       "1012  Arkansas                 AR  Carroll  5015.0  Republican   \n",
       "1013  Arkansas                 AR  Carroll  5015.0  Republican   \n",
       "\n",
       "            candidate  votes  fraction_votes  \n",
       "838    Bernie Sanders      0             0.0  \n",
       "839   Hillary Clinton      0             0.0  \n",
       "1009       Ben Carson      0             0.0  \n",
       "1010     Donald Trump      0             0.0  \n",
       "1011      John Kasich      0             0.0  \n",
       "1012      Marco Rubio      0             0.0  \n",
       "1013         Ted Cruz      0             0.0  "
      ]
     },
     "execution_count": 10,
     "metadata": {},
     "output_type": "execute_result"
    }
   ],
   "source": [
    "check_df.loc[(check_df[\"state_abbreviation\"]==\"AR\")&(check_df[\"county\"]==\"Carroll\")]"
   ]
  },
  {
   "cell_type": "markdown",
   "id": "a011e5a5",
   "metadata": {},
   "source": [
    "**For the row corresponding to Carroll county, in Arkansas, we may delete it, since neither Democrat nor Republicans show a vote and similar is the case for Waldo county, in Maine (As shown below)**"
   ]
  },
  {
   "cell_type": "code",
   "execution_count": 14,
   "id": "e07a0cd5",
   "metadata": {},
   "outputs": [
    {
     "data": {
      "text/html": [
       "<div>\n",
       "<style scoped>\n",
       "    .dataframe tbody tr th:only-of-type {\n",
       "        vertical-align: middle;\n",
       "    }\n",
       "\n",
       "    .dataframe tbody tr th {\n",
       "        vertical-align: top;\n",
       "    }\n",
       "\n",
       "    .dataframe thead th {\n",
       "        text-align: right;\n",
       "    }\n",
       "</style>\n",
       "<table border=\"1\" class=\"dataframe\">\n",
       "  <thead>\n",
       "    <tr style=\"text-align: right;\">\n",
       "      <th></th>\n",
       "      <th>state</th>\n",
       "      <th>state_abbreviation</th>\n",
       "      <th>county</th>\n",
       "      <th>fips</th>\n",
       "      <th>party</th>\n",
       "      <th>candidate</th>\n",
       "      <th>votes</th>\n",
       "      <th>fraction_votes</th>\n",
       "    </tr>\n",
       "  </thead>\n",
       "  <tbody>\n",
       "    <tr>\n",
       "      <th>9021</th>\n",
       "      <td>Maine</td>\n",
       "      <td>ME</td>\n",
       "      <td>Waldo</td>\n",
       "      <td>92300466.0</td>\n",
       "      <td>Democrat</td>\n",
       "      <td>Bernie Sanders</td>\n",
       "      <td>0</td>\n",
       "      <td>0.0</td>\n",
       "    </tr>\n",
       "    <tr>\n",
       "      <th>9022</th>\n",
       "      <td>Maine</td>\n",
       "      <td>ME</td>\n",
       "      <td>Waldo</td>\n",
       "      <td>92300466.0</td>\n",
       "      <td>Democrat</td>\n",
       "      <td>Hillary Clinton</td>\n",
       "      <td>0</td>\n",
       "      <td>0.0</td>\n",
       "    </tr>\n",
       "  </tbody>\n",
       "</table>\n",
       "</div>"
      ],
      "text/plain": [
       "      state state_abbreviation county        fips     party        candidate  \\\n",
       "9021  Maine                 ME  Waldo  92300466.0  Democrat   Bernie Sanders   \n",
       "9022  Maine                 ME  Waldo  92300466.0  Democrat  Hillary Clinton   \n",
       "\n",
       "      votes  fraction_votes  \n",
       "9021      0             0.0  \n",
       "9022      0             0.0  "
      ]
     },
     "execution_count": 14,
     "metadata": {},
     "output_type": "execute_result"
    }
   ],
   "source": [
    "check_df.loc[(check_df[\"state_abbreviation\"]==\"ME\")&(check_df[\"county\"]==\"Waldo\")]"
   ]
  },
  {
   "cell_type": "code",
   "execution_count": 15,
   "id": "c68fcf5d",
   "metadata": {},
   "outputs": [],
   "source": [
    "#data=data.drop([352,2566], axis=0)"
   ]
  },
  {
   "cell_type": "code",
   "execution_count": 16,
   "id": "84b4f1be",
   "metadata": {},
   "outputs": [],
   "source": [
    "data.reset_index(drop=True, inplace=True)"
   ]
  },
  {
   "cell_type": "markdown",
   "id": "cb19cb53",
   "metadata": {},
   "source": [
    "# One-hot encoding of states feature"
   ]
  },
  {
   "cell_type": "code",
   "execution_count": 17,
   "id": "5f1e1f0d",
   "metadata": {},
   "outputs": [],
   "source": [
    "data_ml=data.copy()"
   ]
  },
  {
   "cell_type": "code",
   "execution_count": 18,
   "id": "7599c462",
   "metadata": {},
   "outputs": [],
   "source": [
    "data_ml=data_ml.drop([\"fips1\",'Country','Democrat','Republican'], axis=1)"
   ]
  },
  {
   "cell_type": "code",
   "execution_count": 34,
   "id": "07d60751",
   "metadata": {},
   "outputs": [],
   "source": [
    "dummy_df = pd.get_dummies(data_ml, prefix=\"State\",columns=[\"State\"],\n",
    "                          drop_first=True)"
   ]
  },
  {
   "cell_type": "code",
   "execution_count": 35,
   "id": "1a69386e",
   "metadata": {},
   "outputs": [
    {
     "data": {
      "text/plain": [
       "(2767, 96)"
      ]
     },
     "execution_count": 35,
     "metadata": {},
     "output_type": "execute_result"
    }
   ],
   "source": [
    "dummy_df.shape"
   ]
  },
  {
   "cell_type": "code",
   "execution_count": 36,
   "id": "8f55ab22",
   "metadata": {},
   "outputs": [],
   "source": [
    "pd.pandas.set_option('display.max_columns',None)"
   ]
  },
  {
   "cell_type": "code",
   "execution_count": 37,
   "id": "6fe37fb2",
   "metadata": {},
   "outputs": [
    {
     "data": {
      "text/html": [
       "<div>\n",
       "<style scoped>\n",
       "    .dataframe tbody tr th:only-of-type {\n",
       "        vertical-align: middle;\n",
       "    }\n",
       "\n",
       "    .dataframe tbody tr th {\n",
       "        vertical-align: top;\n",
       "    }\n",
       "\n",
       "    .dataframe thead th {\n",
       "        text-align: right;\n",
       "    }\n",
       "</style>\n",
       "<table border=\"1\" class=\"dataframe\">\n",
       "  <thead>\n",
       "    <tr style=\"text-align: right;\">\n",
       "      <th></th>\n",
       "      <th>PST045214</th>\n",
       "      <th>PST040210</th>\n",
       "      <th>PST120214</th>\n",
       "      <th>POP010210</th>\n",
       "      <th>AGE135214</th>\n",
       "      <th>AGE295214</th>\n",
       "      <th>AGE775214</th>\n",
       "      <th>SEX255214</th>\n",
       "      <th>RHI125214</th>\n",
       "      <th>RHI225214</th>\n",
       "      <th>RHI325214</th>\n",
       "      <th>RHI425214</th>\n",
       "      <th>RHI525214</th>\n",
       "      <th>RHI625214</th>\n",
       "      <th>RHI725214</th>\n",
       "      <th>RHI825214</th>\n",
       "      <th>POP715213</th>\n",
       "      <th>POP645213</th>\n",
       "      <th>POP815213</th>\n",
       "      <th>EDU635213</th>\n",
       "      <th>EDU685213</th>\n",
       "      <th>VET605213</th>\n",
       "      <th>LFE305213</th>\n",
       "      <th>HSG010214</th>\n",
       "      <th>HSG445213</th>\n",
       "      <th>HSG096213</th>\n",
       "      <th>HSG495213</th>\n",
       "      <th>HSD410213</th>\n",
       "      <th>HSD310213</th>\n",
       "      <th>INC910213</th>\n",
       "      <th>INC110213</th>\n",
       "      <th>PVY020213</th>\n",
       "      <th>BZA010213</th>\n",
       "      <th>BZA110213</th>\n",
       "      <th>BZA115213</th>\n",
       "      <th>NES010213</th>\n",
       "      <th>SBO001207</th>\n",
       "      <th>SBO315207</th>\n",
       "      <th>SBO115207</th>\n",
       "      <th>SBO215207</th>\n",
       "      <th>SBO515207</th>\n",
       "      <th>SBO415207</th>\n",
       "      <th>SBO015207</th>\n",
       "      <th>MAN450207</th>\n",
       "      <th>WTN220207</th>\n",
       "      <th>RTN130207</th>\n",
       "      <th>RTN131207</th>\n",
       "      <th>AFN120207</th>\n",
       "      <th>BPS030214</th>\n",
       "      <th>LND110210</th>\n",
       "      <th>POP060210</th>\n",
       "      <th>winner</th>\n",
       "      <th>State_Arizona</th>\n",
       "      <th>State_Arkansas</th>\n",
       "      <th>State_California</th>\n",
       "      <th>State_Colorado</th>\n",
       "      <th>State_Connecticut</th>\n",
       "      <th>State_Delaware</th>\n",
       "      <th>State_Florida</th>\n",
       "      <th>State_Georgia</th>\n",
       "      <th>State_Hawaii</th>\n",
       "      <th>State_Idaho</th>\n",
       "      <th>State_Illinois</th>\n",
       "      <th>State_Indiana</th>\n",
       "      <th>State_Iowa</th>\n",
       "      <th>State_Kentucky</th>\n",
       "      <th>State_Louisiana</th>\n",
       "      <th>State_Maine</th>\n",
       "      <th>State_Maryland</th>\n",
       "      <th>State_Massachusetts</th>\n",
       "      <th>State_Michigan</th>\n",
       "      <th>State_Mississippi</th>\n",
       "      <th>State_Missouri</th>\n",
       "      <th>State_Montana</th>\n",
       "      <th>State_Nebraska</th>\n",
       "      <th>State_Nevada</th>\n",
       "      <th>State_New Jersey</th>\n",
       "      <th>State_New Mexico</th>\n",
       "      <th>State_New York</th>\n",
       "      <th>State_North Carolina</th>\n",
       "      <th>State_Ohio</th>\n",
       "      <th>State_Oklahoma</th>\n",
       "      <th>State_Oregon</th>\n",
       "      <th>State_Pennsylvania</th>\n",
       "      <th>State_Rhode Island</th>\n",
       "      <th>State_South Carolina</th>\n",
       "      <th>State_South Dakota</th>\n",
       "      <th>State_Tennessee</th>\n",
       "      <th>State_Texas</th>\n",
       "      <th>State_Utah</th>\n",
       "      <th>State_Vermont</th>\n",
       "      <th>State_Virginia</th>\n",
       "      <th>State_Washington</th>\n",
       "      <th>State_West Virginia</th>\n",
       "      <th>State_Wisconsin</th>\n",
       "      <th>State_Wyoming</th>\n",
       "    </tr>\n",
       "  </thead>\n",
       "  <tbody>\n",
       "    <tr>\n",
       "      <th>0</th>\n",
       "      <td>24965</td>\n",
       "      <td>25416</td>\n",
       "      <td>-1.8</td>\n",
       "      <td>25417</td>\n",
       "      <td>5.4</td>\n",
       "      <td>21.5</td>\n",
       "      <td>19.4</td>\n",
       "      <td>51.5</td>\n",
       "      <td>69.7</td>\n",
       "      <td>28.3</td>\n",
       "      <td>0.3</td>\n",
       "      <td>0.4</td>\n",
       "      <td>0.0</td>\n",
       "      <td>1.2</td>\n",
       "      <td>1.2</td>\n",
       "      <td>68.8</td>\n",
       "      <td>89.6</td>\n",
       "      <td>1.0</td>\n",
       "      <td>2.3</td>\n",
       "      <td>76.8</td>\n",
       "      <td>12.2</td>\n",
       "      <td>1944</td>\n",
       "      <td>27.1</td>\n",
       "      <td>12002</td>\n",
       "      <td>76.4</td>\n",
       "      <td>6.2</td>\n",
       "      <td>91200</td>\n",
       "      <td>9809</td>\n",
       "      <td>2.49</td>\n",
       "      <td>18134</td>\n",
       "      <td>35947</td>\n",
       "      <td>21.6</td>\n",
       "      <td>335</td>\n",
       "      <td>4387</td>\n",
       "      <td>2.7</td>\n",
       "      <td>1393</td>\n",
       "      <td>1385</td>\n",
       "      <td>19.1</td>\n",
       "      <td>0.0</td>\n",
       "      <td>0.0</td>\n",
       "      <td>0.0</td>\n",
       "      <td>0.0</td>\n",
       "      <td>33.4</td>\n",
       "      <td>657498</td>\n",
       "      <td>0</td>\n",
       "      <td>71936</td>\n",
       "      <td>2841</td>\n",
       "      <td>10963</td>\n",
       "      <td>41</td>\n",
       "      <td>490.48</td>\n",
       "      <td>51.8</td>\n",
       "      <td>1</td>\n",
       "      <td>0</td>\n",
       "      <td>0</td>\n",
       "      <td>0</td>\n",
       "      <td>0</td>\n",
       "      <td>0</td>\n",
       "      <td>0</td>\n",
       "      <td>0</td>\n",
       "      <td>0</td>\n",
       "      <td>0</td>\n",
       "      <td>0</td>\n",
       "      <td>0</td>\n",
       "      <td>0</td>\n",
       "      <td>0</td>\n",
       "      <td>0</td>\n",
       "      <td>0</td>\n",
       "      <td>0</td>\n",
       "      <td>0</td>\n",
       "      <td>0</td>\n",
       "      <td>0</td>\n",
       "      <td>0</td>\n",
       "      <td>0</td>\n",
       "      <td>0</td>\n",
       "      <td>0</td>\n",
       "      <td>0</td>\n",
       "      <td>0</td>\n",
       "      <td>0</td>\n",
       "      <td>0</td>\n",
       "      <td>0</td>\n",
       "      <td>0</td>\n",
       "      <td>0</td>\n",
       "      <td>0</td>\n",
       "      <td>0</td>\n",
       "      <td>0</td>\n",
       "      <td>1</td>\n",
       "      <td>0</td>\n",
       "      <td>0</td>\n",
       "      <td>0</td>\n",
       "      <td>0</td>\n",
       "      <td>0</td>\n",
       "      <td>0</td>\n",
       "      <td>0</td>\n",
       "      <td>0</td>\n",
       "      <td>0</td>\n",
       "      <td>0</td>\n",
       "    </tr>\n",
       "    <tr>\n",
       "      <th>1</th>\n",
       "      <td>62486</td>\n",
       "      <td>61773</td>\n",
       "      <td>1.2</td>\n",
       "      <td>61773</td>\n",
       "      <td>7.1</td>\n",
       "      <td>26.7</td>\n",
       "      <td>13.5</td>\n",
       "      <td>51.5</td>\n",
       "      <td>79.6</td>\n",
       "      <td>18.3</td>\n",
       "      <td>0.3</td>\n",
       "      <td>0.4</td>\n",
       "      <td>0.0</td>\n",
       "      <td>1.3</td>\n",
       "      <td>2.2</td>\n",
       "      <td>77.8</td>\n",
       "      <td>86.5</td>\n",
       "      <td>1.1</td>\n",
       "      <td>14.5</td>\n",
       "      <td>72.1</td>\n",
       "      <td>10.2</td>\n",
       "      <td>3417</td>\n",
       "      <td>28.4</td>\n",
       "      <td>25851</td>\n",
       "      <td>70.3</td>\n",
       "      <td>6.8</td>\n",
       "      <td>88600</td>\n",
       "      <td>22527</td>\n",
       "      <td>2.70</td>\n",
       "      <td>19910</td>\n",
       "      <td>37587</td>\n",
       "      <td>18.7</td>\n",
       "      <td>1130</td>\n",
       "      <td>13159</td>\n",
       "      <td>3.1</td>\n",
       "      <td>4137</td>\n",
       "      <td>4289</td>\n",
       "      <td>0.0</td>\n",
       "      <td>0.0</td>\n",
       "      <td>0.0</td>\n",
       "      <td>0.0</td>\n",
       "      <td>1.4</td>\n",
       "      <td>25.4</td>\n",
       "      <td>0</td>\n",
       "      <td>0</td>\n",
       "      <td>525956</td>\n",
       "      <td>8808</td>\n",
       "      <td>40790</td>\n",
       "      <td>123</td>\n",
       "      <td>655.12</td>\n",
       "      <td>94.3</td>\n",
       "      <td>1</td>\n",
       "      <td>0</td>\n",
       "      <td>0</td>\n",
       "      <td>0</td>\n",
       "      <td>0</td>\n",
       "      <td>0</td>\n",
       "      <td>0</td>\n",
       "      <td>0</td>\n",
       "      <td>0</td>\n",
       "      <td>0</td>\n",
       "      <td>0</td>\n",
       "      <td>0</td>\n",
       "      <td>0</td>\n",
       "      <td>0</td>\n",
       "      <td>0</td>\n",
       "      <td>1</td>\n",
       "      <td>0</td>\n",
       "      <td>0</td>\n",
       "      <td>0</td>\n",
       "      <td>0</td>\n",
       "      <td>0</td>\n",
       "      <td>0</td>\n",
       "      <td>0</td>\n",
       "      <td>0</td>\n",
       "      <td>0</td>\n",
       "      <td>0</td>\n",
       "      <td>0</td>\n",
       "      <td>0</td>\n",
       "      <td>0</td>\n",
       "      <td>0</td>\n",
       "      <td>0</td>\n",
       "      <td>0</td>\n",
       "      <td>0</td>\n",
       "      <td>0</td>\n",
       "      <td>0</td>\n",
       "      <td>0</td>\n",
       "      <td>0</td>\n",
       "      <td>0</td>\n",
       "      <td>0</td>\n",
       "      <td>0</td>\n",
       "      <td>0</td>\n",
       "      <td>0</td>\n",
       "      <td>0</td>\n",
       "      <td>0</td>\n",
       "      <td>0</td>\n",
       "    </tr>\n",
       "    <tr>\n",
       "      <th>2</th>\n",
       "      <td>33021</td>\n",
       "      <td>33164</td>\n",
       "      <td>-0.4</td>\n",
       "      <td>33164</td>\n",
       "      <td>6.0</td>\n",
       "      <td>20.9</td>\n",
       "      <td>21.3</td>\n",
       "      <td>51.3</td>\n",
       "      <td>68.8</td>\n",
       "      <td>28.1</td>\n",
       "      <td>0.7</td>\n",
       "      <td>0.7</td>\n",
       "      <td>0.2</td>\n",
       "      <td>1.6</td>\n",
       "      <td>8.9</td>\n",
       "      <td>61.1</td>\n",
       "      <td>93.1</td>\n",
       "      <td>7.0</td>\n",
       "      <td>10.1</td>\n",
       "      <td>78.0</td>\n",
       "      <td>17.2</td>\n",
       "      <td>3255</td>\n",
       "      <td>21.2</td>\n",
       "      <td>21069</td>\n",
       "      <td>69.5</td>\n",
       "      <td>5.2</td>\n",
       "      <td>153600</td>\n",
       "      <td>14333</td>\n",
       "      <td>2.25</td>\n",
       "      <td>22703</td>\n",
       "      <td>39328</td>\n",
       "      <td>20.5</td>\n",
       "      <td>760</td>\n",
       "      <td>8779</td>\n",
       "      <td>-0.6</td>\n",
       "      <td>2306</td>\n",
       "      <td>2944</td>\n",
       "      <td>6.0</td>\n",
       "      <td>0.0</td>\n",
       "      <td>0.0</td>\n",
       "      <td>0.0</td>\n",
       "      <td>0.0</td>\n",
       "      <td>23.1</td>\n",
       "      <td>526157</td>\n",
       "      <td>59400</td>\n",
       "      <td>298001</td>\n",
       "      <td>7749</td>\n",
       "      <td>48144</td>\n",
       "      <td>67</td>\n",
       "      <td>449.50</td>\n",
       "      <td>73.8</td>\n",
       "      <td>1</td>\n",
       "      <td>0</td>\n",
       "      <td>0</td>\n",
       "      <td>0</td>\n",
       "      <td>0</td>\n",
       "      <td>0</td>\n",
       "      <td>0</td>\n",
       "      <td>0</td>\n",
       "      <td>0</td>\n",
       "      <td>0</td>\n",
       "      <td>0</td>\n",
       "      <td>0</td>\n",
       "      <td>0</td>\n",
       "      <td>0</td>\n",
       "      <td>0</td>\n",
       "      <td>0</td>\n",
       "      <td>0</td>\n",
       "      <td>0</td>\n",
       "      <td>0</td>\n",
       "      <td>0</td>\n",
       "      <td>0</td>\n",
       "      <td>0</td>\n",
       "      <td>0</td>\n",
       "      <td>0</td>\n",
       "      <td>0</td>\n",
       "      <td>0</td>\n",
       "      <td>0</td>\n",
       "      <td>0</td>\n",
       "      <td>0</td>\n",
       "      <td>0</td>\n",
       "      <td>0</td>\n",
       "      <td>0</td>\n",
       "      <td>0</td>\n",
       "      <td>0</td>\n",
       "      <td>0</td>\n",
       "      <td>0</td>\n",
       "      <td>0</td>\n",
       "      <td>0</td>\n",
       "      <td>0</td>\n",
       "      <td>0</td>\n",
       "      <td>1</td>\n",
       "      <td>0</td>\n",
       "      <td>0</td>\n",
       "      <td>0</td>\n",
       "      <td>0</td>\n",
       "    </tr>\n",
       "    <tr>\n",
       "      <th>3</th>\n",
       "      <td>426236</td>\n",
       "      <td>392365</td>\n",
       "      <td>8.6</td>\n",
       "      <td>392365</td>\n",
       "      <td>6.2</td>\n",
       "      <td>25.1</td>\n",
       "      <td>12.6</td>\n",
       "      <td>49.9</td>\n",
       "      <td>92.4</td>\n",
       "      <td>1.3</td>\n",
       "      <td>0.8</td>\n",
       "      <td>2.6</td>\n",
       "      <td>0.2</td>\n",
       "      <td>2.7</td>\n",
       "      <td>7.7</td>\n",
       "      <td>85.5</td>\n",
       "      <td>82.5</td>\n",
       "      <td>5.9</td>\n",
       "      <td>8.4</td>\n",
       "      <td>93.6</td>\n",
       "      <td>36.0</td>\n",
       "      <td>29195</td>\n",
       "      <td>19.6</td>\n",
       "      <td>167215</td>\n",
       "      <td>68.1</td>\n",
       "      <td>16.8</td>\n",
       "      <td>183600</td>\n",
       "      <td>151600</td>\n",
       "      <td>2.60</td>\n",
       "      <td>27452</td>\n",
       "      <td>55210</td>\n",
       "      <td>13.1</td>\n",
       "      <td>12216</td>\n",
       "      <td>174796</td>\n",
       "      <td>2.2</td>\n",
       "      <td>33207</td>\n",
       "      <td>42344</td>\n",
       "      <td>0.4</td>\n",
       "      <td>1.0</td>\n",
       "      <td>1.3</td>\n",
       "      <td>0.0</td>\n",
       "      <td>2.1</td>\n",
       "      <td>25.4</td>\n",
       "      <td>4942388</td>\n",
       "      <td>6006918</td>\n",
       "      <td>5855102</td>\n",
       "      <td>15720</td>\n",
       "      <td>795953</td>\n",
       "      <td>3968</td>\n",
       "      <td>1052.58</td>\n",
       "      <td>372.8</td>\n",
       "      <td>1</td>\n",
       "      <td>0</td>\n",
       "      <td>0</td>\n",
       "      <td>0</td>\n",
       "      <td>0</td>\n",
       "      <td>0</td>\n",
       "      <td>0</td>\n",
       "      <td>0</td>\n",
       "      <td>0</td>\n",
       "      <td>0</td>\n",
       "      <td>1</td>\n",
       "      <td>0</td>\n",
       "      <td>0</td>\n",
       "      <td>0</td>\n",
       "      <td>0</td>\n",
       "      <td>0</td>\n",
       "      <td>0</td>\n",
       "      <td>0</td>\n",
       "      <td>0</td>\n",
       "      <td>0</td>\n",
       "      <td>0</td>\n",
       "      <td>0</td>\n",
       "      <td>0</td>\n",
       "      <td>0</td>\n",
       "      <td>0</td>\n",
       "      <td>0</td>\n",
       "      <td>0</td>\n",
       "      <td>0</td>\n",
       "      <td>0</td>\n",
       "      <td>0</td>\n",
       "      <td>0</td>\n",
       "      <td>0</td>\n",
       "      <td>0</td>\n",
       "      <td>0</td>\n",
       "      <td>0</td>\n",
       "      <td>0</td>\n",
       "      <td>0</td>\n",
       "      <td>0</td>\n",
       "      <td>0</td>\n",
       "      <td>0</td>\n",
       "      <td>0</td>\n",
       "      <td>0</td>\n",
       "      <td>0</td>\n",
       "      <td>0</td>\n",
       "      <td>0</td>\n",
       "    </tr>\n",
       "    <tr>\n",
       "      <th>4</th>\n",
       "      <td>3861</td>\n",
       "      <td>3976</td>\n",
       "      <td>-2.9</td>\n",
       "      <td>3976</td>\n",
       "      <td>4.2</td>\n",
       "      <td>17.0</td>\n",
       "      <td>24.9</td>\n",
       "      <td>48.5</td>\n",
       "      <td>96.4</td>\n",
       "      <td>0.2</td>\n",
       "      <td>1.0</td>\n",
       "      <td>0.5</td>\n",
       "      <td>0.1</td>\n",
       "      <td>1.8</td>\n",
       "      <td>3.2</td>\n",
       "      <td>93.6</td>\n",
       "      <td>88.3</td>\n",
       "      <td>1.0</td>\n",
       "      <td>2.1</td>\n",
       "      <td>92.8</td>\n",
       "      <td>21.9</td>\n",
       "      <td>545</td>\n",
       "      <td>19.3</td>\n",
       "      <td>2636</td>\n",
       "      <td>81.6</td>\n",
       "      <td>4.7</td>\n",
       "      <td>150500</td>\n",
       "      <td>1707</td>\n",
       "      <td>2.27</td>\n",
       "      <td>21555</td>\n",
       "      <td>35434</td>\n",
       "      <td>16.6</td>\n",
       "      <td>115</td>\n",
       "      <td>455</td>\n",
       "      <td>7.3</td>\n",
       "      <td>360</td>\n",
       "      <td>492</td>\n",
       "      <td>0.0</td>\n",
       "      <td>0.0</td>\n",
       "      <td>0.0</td>\n",
       "      <td>0.0</td>\n",
       "      <td>0.0</td>\n",
       "      <td>18.1</td>\n",
       "      <td>0</td>\n",
       "      <td>0</td>\n",
       "      <td>19965</td>\n",
       "      <td>5627</td>\n",
       "      <td>0</td>\n",
       "      <td>4</td>\n",
       "      <td>1363.06</td>\n",
       "      <td>2.9</td>\n",
       "      <td>1</td>\n",
       "      <td>0</td>\n",
       "      <td>0</td>\n",
       "      <td>0</td>\n",
       "      <td>0</td>\n",
       "      <td>0</td>\n",
       "      <td>0</td>\n",
       "      <td>0</td>\n",
       "      <td>0</td>\n",
       "      <td>0</td>\n",
       "      <td>1</td>\n",
       "      <td>0</td>\n",
       "      <td>0</td>\n",
       "      <td>0</td>\n",
       "      <td>0</td>\n",
       "      <td>0</td>\n",
       "      <td>0</td>\n",
       "      <td>0</td>\n",
       "      <td>0</td>\n",
       "      <td>0</td>\n",
       "      <td>0</td>\n",
       "      <td>0</td>\n",
       "      <td>0</td>\n",
       "      <td>0</td>\n",
       "      <td>0</td>\n",
       "      <td>0</td>\n",
       "      <td>0</td>\n",
       "      <td>0</td>\n",
       "      <td>0</td>\n",
       "      <td>0</td>\n",
       "      <td>0</td>\n",
       "      <td>0</td>\n",
       "      <td>0</td>\n",
       "      <td>0</td>\n",
       "      <td>0</td>\n",
       "      <td>0</td>\n",
       "      <td>0</td>\n",
       "      <td>0</td>\n",
       "      <td>0</td>\n",
       "      <td>0</td>\n",
       "      <td>0</td>\n",
       "      <td>0</td>\n",
       "      <td>0</td>\n",
       "      <td>0</td>\n",
       "      <td>0</td>\n",
       "    </tr>\n",
       "  </tbody>\n",
       "</table>\n",
       "</div>"
      ],
      "text/plain": [
       "   PST045214  PST040210  PST120214  POP010210  AGE135214  AGE295214  \\\n",
       "0      24965      25416       -1.8      25417        5.4       21.5   \n",
       "1      62486      61773        1.2      61773        7.1       26.7   \n",
       "2      33021      33164       -0.4      33164        6.0       20.9   \n",
       "3     426236     392365        8.6     392365        6.2       25.1   \n",
       "4       3861       3976       -2.9       3976        4.2       17.0   \n",
       "\n",
       "   AGE775214  SEX255214  RHI125214  RHI225214  RHI325214  RHI425214  \\\n",
       "0       19.4       51.5       69.7       28.3        0.3        0.4   \n",
       "1       13.5       51.5       79.6       18.3        0.3        0.4   \n",
       "2       21.3       51.3       68.8       28.1        0.7        0.7   \n",
       "3       12.6       49.9       92.4        1.3        0.8        2.6   \n",
       "4       24.9       48.5       96.4        0.2        1.0        0.5   \n",
       "\n",
       "   RHI525214  RHI625214  RHI725214  RHI825214  POP715213  POP645213  \\\n",
       "0        0.0        1.2        1.2       68.8       89.6        1.0   \n",
       "1        0.0        1.3        2.2       77.8       86.5        1.1   \n",
       "2        0.2        1.6        8.9       61.1       93.1        7.0   \n",
       "3        0.2        2.7        7.7       85.5       82.5        5.9   \n",
       "4        0.1        1.8        3.2       93.6       88.3        1.0   \n",
       "\n",
       "   POP815213  EDU635213  EDU685213  VET605213  LFE305213  HSG010214  \\\n",
       "0        2.3       76.8       12.2       1944       27.1      12002   \n",
       "1       14.5       72.1       10.2       3417       28.4      25851   \n",
       "2       10.1       78.0       17.2       3255       21.2      21069   \n",
       "3        8.4       93.6       36.0      29195       19.6     167215   \n",
       "4        2.1       92.8       21.9        545       19.3       2636   \n",
       "\n",
       "   HSG445213  HSG096213  HSG495213  HSD410213  HSD310213  INC910213  \\\n",
       "0       76.4        6.2      91200       9809       2.49      18134   \n",
       "1       70.3        6.8      88600      22527       2.70      19910   \n",
       "2       69.5        5.2     153600      14333       2.25      22703   \n",
       "3       68.1       16.8     183600     151600       2.60      27452   \n",
       "4       81.6        4.7     150500       1707       2.27      21555   \n",
       "\n",
       "   INC110213  PVY020213  BZA010213  BZA110213  BZA115213  NES010213  \\\n",
       "0      35947       21.6        335       4387        2.7       1393   \n",
       "1      37587       18.7       1130      13159        3.1       4137   \n",
       "2      39328       20.5        760       8779       -0.6       2306   \n",
       "3      55210       13.1      12216     174796        2.2      33207   \n",
       "4      35434       16.6        115        455        7.3        360   \n",
       "\n",
       "   SBO001207  SBO315207  SBO115207  SBO215207  SBO515207  SBO415207  \\\n",
       "0       1385       19.1        0.0        0.0        0.0        0.0   \n",
       "1       4289        0.0        0.0        0.0        0.0        1.4   \n",
       "2       2944        6.0        0.0        0.0        0.0        0.0   \n",
       "3      42344        0.4        1.0        1.3        0.0        2.1   \n",
       "4        492        0.0        0.0        0.0        0.0        0.0   \n",
       "\n",
       "   SBO015207  MAN450207  WTN220207  RTN130207  RTN131207  AFN120207  \\\n",
       "0       33.4     657498          0      71936       2841      10963   \n",
       "1       25.4          0          0     525956       8808      40790   \n",
       "2       23.1     526157      59400     298001       7749      48144   \n",
       "3       25.4    4942388    6006918    5855102      15720     795953   \n",
       "4       18.1          0          0      19965       5627          0   \n",
       "\n",
       "   BPS030214  LND110210  POP060210  winner  State_Arizona  State_Arkansas  \\\n",
       "0         41     490.48       51.8       1              0               0   \n",
       "1        123     655.12       94.3       1              0               0   \n",
       "2         67     449.50       73.8       1              0               0   \n",
       "3       3968    1052.58      372.8       1              0               0   \n",
       "4          4    1363.06        2.9       1              0               0   \n",
       "\n",
       "   State_California  State_Colorado  State_Connecticut  State_Delaware  \\\n",
       "0                 0               0                  0               0   \n",
       "1                 0               0                  0               0   \n",
       "2                 0               0                  0               0   \n",
       "3                 0               0                  0               0   \n",
       "4                 0               0                  0               0   \n",
       "\n",
       "   State_Florida  State_Georgia  State_Hawaii  State_Idaho  State_Illinois  \\\n",
       "0              0              0             0            0               0   \n",
       "1              0              0             0            0               0   \n",
       "2              0              0             0            0               0   \n",
       "3              0              0             0            1               0   \n",
       "4              0              0             0            1               0   \n",
       "\n",
       "   State_Indiana  State_Iowa  State_Kentucky  State_Louisiana  State_Maine  \\\n",
       "0              0           0               0                0            0   \n",
       "1              0           0               0                1            0   \n",
       "2              0           0               0                0            0   \n",
       "3              0           0               0                0            0   \n",
       "4              0           0               0                0            0   \n",
       "\n",
       "   State_Maryland  State_Massachusetts  State_Michigan  State_Mississippi  \\\n",
       "0               0                    0               0                  0   \n",
       "1               0                    0               0                  0   \n",
       "2               0                    0               0                  0   \n",
       "3               0                    0               0                  0   \n",
       "4               0                    0               0                  0   \n",
       "\n",
       "   State_Missouri  State_Montana  State_Nebraska  State_Nevada  \\\n",
       "0               0              0               0             0   \n",
       "1               0              0               0             0   \n",
       "2               0              0               0             0   \n",
       "3               0              0               0             0   \n",
       "4               0              0               0             0   \n",
       "\n",
       "   State_New Jersey  State_New Mexico  State_New York  State_North Carolina  \\\n",
       "0                 0                 0               0                     0   \n",
       "1                 0                 0               0                     0   \n",
       "2                 0                 0               0                     0   \n",
       "3                 0                 0               0                     0   \n",
       "4                 0                 0               0                     0   \n",
       "\n",
       "   State_Ohio  State_Oklahoma  State_Oregon  State_Pennsylvania  \\\n",
       "0           0               0             0                   0   \n",
       "1           0               0             0                   0   \n",
       "2           0               0             0                   0   \n",
       "3           0               0             0                   0   \n",
       "4           0               0             0                   0   \n",
       "\n",
       "   State_Rhode Island  State_South Carolina  State_South Dakota  \\\n",
       "0                   0                     1                   0   \n",
       "1                   0                     0                   0   \n",
       "2                   0                     0                   0   \n",
       "3                   0                     0                   0   \n",
       "4                   0                     0                   0   \n",
       "\n",
       "   State_Tennessee  State_Texas  State_Utah  State_Vermont  State_Virginia  \\\n",
       "0                0            0           0              0               0   \n",
       "1                0            0           0              0               0   \n",
       "2                0            0           0              0               1   \n",
       "3                0            0           0              0               0   \n",
       "4                0            0           0              0               0   \n",
       "\n",
       "   State_Washington  State_West Virginia  State_Wisconsin  State_Wyoming  \n",
       "0                 0                    0                0              0  \n",
       "1                 0                    0                0              0  \n",
       "2                 0                    0                0              0  \n",
       "3                 0                    0                0              0  \n",
       "4                 0                    0                0              0  "
      ]
     },
     "execution_count": 37,
     "metadata": {},
     "output_type": "execute_result"
    }
   ],
   "source": [
    "dummy_df.head()"
   ]
  },
  {
   "cell_type": "markdown",
   "id": "db9f5f67",
   "metadata": {},
   "source": [
    "# Separating target from features"
   ]
  },
  {
   "cell_type": "code",
   "execution_count": 38,
   "id": "e3bbe508",
   "metadata": {},
   "outputs": [],
   "source": [
    "y=dummy_df[\"winner\"]"
   ]
  },
  {
   "cell_type": "code",
   "execution_count": 39,
   "id": "44f423ea",
   "metadata": {},
   "outputs": [],
   "source": [
    "X=dummy_df.drop([\"winner\"],axis=1)"
   ]
  },
  {
   "cell_type": "code",
   "execution_count": 41,
   "id": "87b23808",
   "metadata": {},
   "outputs": [
    {
     "data": {
      "text/plain": [
       "0"
      ]
     },
     "execution_count": 41,
     "metadata": {},
     "output_type": "execute_result"
    }
   ],
   "source": [
    "#X[X.isna().any(axis=1)]\n",
    "X.isna().sum().sum()"
   ]
  },
  {
   "cell_type": "code",
   "execution_count": 42,
   "id": "98994dff",
   "metadata": {},
   "outputs": [
    {
     "data": {
      "text/plain": [
       "0"
      ]
     },
     "execution_count": 42,
     "metadata": {},
     "output_type": "execute_result"
    }
   ],
   "source": [
    "y.isna().sum()"
   ]
  },
  {
   "cell_type": "markdown",
   "id": "9b5468e8",
   "metadata": {},
   "source": [
    "# Standardization for Logit Regression"
   ]
  },
  {
   "cell_type": "code",
   "execution_count": 43,
   "id": "b130b707",
   "metadata": {},
   "outputs": [],
   "source": [
    "from sklearn.preprocessing import StandardScaler\n",
    "scaler = StandardScaler() \n",
    "X_scaled = scaler.fit_transform(X)"
   ]
  },
  {
   "cell_type": "markdown",
   "id": "5cda4624",
   "metadata": {},
   "source": [
    "**Splitting data into train and test**"
   ]
  },
  {
   "cell_type": "code",
   "execution_count": 44,
   "id": "01f8cba8",
   "metadata": {},
   "outputs": [],
   "source": [
    "from sklearn.model_selection import train_test_split\n",
    "X_train,X_test,y_train,y_test = train_test_split(X_scaled,y,random_state=42,test_size=0.2)"
   ]
  },
  {
   "cell_type": "code",
   "execution_count": 45,
   "id": "f63a51c6",
   "metadata": {},
   "outputs": [],
   "source": [
    "from sklearn.linear_model import LogisticRegression\n",
    "logit_model=LogisticRegression(solver='lbfgs', max_iter=1000)\n",
    "logit_model.fit(X_train,y_train)\n",
    "y_pred=logit_model.predict(X_test)"
   ]
  },
  {
   "cell_type": "code",
   "execution_count": 46,
   "id": "6259c1ef",
   "metadata": {},
   "outputs": [],
   "source": [
    "from sklearn.metrics import confusion_matrix, accuracy_score, precision_score, recall_score, f1_score"
   ]
  },
  {
   "cell_type": "code",
   "execution_count": 47,
   "id": "8bce367c",
   "metadata": {},
   "outputs": [
    {
     "name": "stdout",
     "output_type": "stream",
     "text": [
      "Accuracy is:  0.8483754512635379\n",
      "Precision is:  0.8770491803278688\n",
      "Recall is:  0.8916666666666667\n",
      "f1 score is:  0.884297520661157\n"
     ]
    }
   ],
   "source": [
    "print(\"Accuracy is: \",accuracy_score(y_test,y_pred))\n",
    "print(\"Precision is: \", precision_score(y_test,y_pred))\n",
    "print(\"Recall is: \", recall_score(y_test,y_pred))\n",
    "print(\"f1 score is: \", f1_score(y_test,y_pred))"
   ]
  },
  {
   "cell_type": "code",
   "execution_count": 62,
   "id": "99fd94b8",
   "metadata": {},
   "outputs": [
    {
     "name": "stdout",
     "output_type": "stream",
     "text": [
      "              precision    recall  f1-score   support\n",
      "\n",
      "           0       0.79      0.77      0.78       194\n",
      "           1       0.88      0.89      0.88       360\n",
      "\n",
      "    accuracy                           0.85       554\n",
      "   macro avg       0.83      0.83      0.83       554\n",
      "weighted avg       0.85      0.85      0.85       554\n",
      "\n"
     ]
    }
   ],
   "source": [
    "from sklearn.metrics import classification_report\n",
    "y_actual = pd.Series(y_test)\n",
    "y_predicted = pd.Series(y_pred)\n",
    "print(classification_report(y_test,y_pred))"
   ]
  },
  {
   "cell_type": "code",
   "execution_count": 49,
   "id": "f6050f8d",
   "metadata": {},
   "outputs": [
    {
     "data": {
      "text/plain": [
       "array([[149,  45],\n",
       "       [ 39, 321]], dtype=int64)"
      ]
     },
     "execution_count": 49,
     "metadata": {},
     "output_type": "execute_result"
    }
   ],
   "source": [
    "confusion_matrix(y_test,y_pred)"
   ]
  },
  {
   "cell_type": "markdown",
   "id": "f088b88c",
   "metadata": {},
   "source": [
    "# Normalization for K-Nearest Neighbors"
   ]
  },
  {
   "cell_type": "code",
   "execution_count": 63,
   "id": "1593520a",
   "metadata": {},
   "outputs": [],
   "source": [
    "from sklearn.preprocessing import MinMaxScaler\n",
    "scaler = MinMaxScaler(feature_range=(0, 1)) \n",
    "X_scaled_nor = scaler.fit_transform(X)"
   ]
  },
  {
   "cell_type": "markdown",
   "id": "4cfcd15f",
   "metadata": {},
   "source": [
    "**Splitting data into train and test**"
   ]
  },
  {
   "cell_type": "code",
   "execution_count": 64,
   "id": "069c79cd",
   "metadata": {},
   "outputs": [],
   "source": [
    "from sklearn.model_selection import train_test_split\n",
    "X_train,X_test,y_train,y_test = train_test_split(X_scaled_nor,y,random_state=42,test_size=0.2)"
   ]
  },
  {
   "cell_type": "code",
   "execution_count": 66,
   "id": "0c89aaa1",
   "metadata": {},
   "outputs": [],
   "source": [
    "import numpy as np\n",
    "from sklearn.neighbors import KNeighborsClassifier\n",
    "acc_values=[]\n",
    "neighbors = np.arange(3,15)\n",
    "for k in neighbors:\n",
    "    classifier = KNeighborsClassifier(n_neighbors=k, metric='minkowski')\n",
    "    classifier.fit(X_train,y_train)\n",
    "    y_pred = classifier.predict(X_test)\n",
    "    acc=accuracy_score(y_test,y_pred)\n",
    "    acc_values.append(acc)"
   ]
  },
  {
   "cell_type": "code",
   "execution_count": 67,
   "id": "6db2734c",
   "metadata": {},
   "outputs": [
    {
     "data": {
      "text/plain": [
       "[0.7996389891696751,\n",
       " 0.8050541516245487,\n",
       " 0.8032490974729242,\n",
       " 0.7996389891696751,\n",
       " 0.7924187725631769,\n",
       " 0.8068592057761733,\n",
       " 0.796028880866426,\n",
       " 0.796028880866426,\n",
       " 0.7851985559566786,\n",
       " 0.7815884476534296,\n",
       " 0.7689530685920578,\n",
       " 0.7779783393501805]"
      ]
     },
     "execution_count": 67,
     "metadata": {},
     "output_type": "execute_result"
    }
   ],
   "source": [
    "acc_values"
   ]
  },
  {
   "cell_type": "code",
   "execution_count": 68,
   "id": "82e28f09",
   "metadata": {},
   "outputs": [
    {
     "data": {
      "text/plain": [
       "Text(0, 0.5, 'accuracy')"
      ]
     },
     "execution_count": 68,
     "metadata": {},
     "output_type": "execute_result"
    },
    {
     "data": {
      "image/png": "[encoded data removed]",
      "text/plain": [
       "<Figure size 432x288 with 1 Axes>"
      ]
     },
     "metadata": {
      "needs_background": "light"
     },
     "output_type": "display_data"
    }
   ],
   "source": [
    "import matplotlib.pyplot as plt\n",
    "plt.plot(neighbors,acc_values, 'o-')\n",
    "plt.xlabel('k value')\n",
    "plt.ylabel('accuracy')"
   ]
  },
  {
   "cell_type": "markdown",
   "id": "a8675736",
   "metadata": {},
   "source": [
    "**k=8 gives the highest value of accuracy**"
   ]
  },
  {
   "cell_type": "code",
   "execution_count": 69,
   "id": "5fd8a9b3",
   "metadata": {},
   "outputs": [],
   "source": [
    "classifier = KNeighborsClassifier(n_neighbors=8, metric='minkowski')\n",
    "classifier.fit(X_train,y_train)\n",
    "y_pred = classifier.predict(X_test)"
   ]
  },
  {
   "cell_type": "code",
   "execution_count": 70,
   "id": "7ba79338",
   "metadata": {},
   "outputs": [
    {
     "name": "stdout",
     "output_type": "stream",
     "text": [
      "Accuracy is:  0.8068592057761733\n",
      "Precision is:  0.8320209973753281\n",
      "Recall is:  0.8805555555555555\n",
      "f1 score is:  0.8556005398110662\n"
     ]
    }
   ],
   "source": [
    "print(\"Accuracy is: \",accuracy_score(y_test,y_pred))\n",
    "print(\"Precision is: \", precision_score(y_test,y_pred))\n",
    "print(\"Recall is: \", recall_score(y_test,y_pred))\n",
    "print(\"f1 score is: \", f1_score(y_test,y_pred))"
   ]
  },
  {
   "cell_type": "code",
   "execution_count": 71,
   "id": "fc63d573",
   "metadata": {},
   "outputs": [
    {
     "data": {
      "text/plain": [
       "array([[130,  64],\n",
       "       [ 43, 317]], dtype=int64)"
      ]
     },
     "execution_count": 71,
     "metadata": {},
     "output_type": "execute_result"
    }
   ],
   "source": [
    "confusion_matrix(y_test,y_pred)"
   ]
  },
  {
   "cell_type": "markdown",
   "id": "3258e0b3",
   "metadata": {},
   "source": [
    "# SVM"
   ]
  },
  {
   "cell_type": "code",
   "execution_count": 72,
   "id": "bf3d10a2",
   "metadata": {},
   "outputs": [
    {
     "data": {
      "text/plain": [
       "SVC(kernel='linear')"
      ]
     },
     "execution_count": 72,
     "metadata": {},
     "output_type": "execute_result"
    }
   ],
   "source": [
    "from sklearn.svm import SVC\n",
    "svm_linear= SVC(kernel='linear')\n",
    "svm_linear.fit(X_train,y_train)"
   ]
  },
  {
   "cell_type": "code",
   "execution_count": 77,
   "id": "9f4cbd16",
   "metadata": {},
   "outputs": [],
   "source": [
    "y_pred=svm_linear.predict(X_test)"
   ]
  },
  {
   "cell_type": "code",
   "execution_count": 78,
   "id": "4addefa4",
   "metadata": {},
   "outputs": [
    {
     "name": "stdout",
     "output_type": "stream",
     "text": [
      "Accuracy is:  0.8465703971119134\n",
      "Precision is:  0.8590078328981723\n",
      "Recall is:  0.9138888888888889\n",
      "f1 score is:  0.8855989232839839\n"
     ]
    }
   ],
   "source": [
    "print(\"Accuracy is: \",accuracy_score(y_test,y_pred))\n",
    "print(\"Precision is: \", precision_score(y_test,y_pred))\n",
    "print(\"Recall is: \", recall_score(y_test,y_pred))\n",
    "print(\"f1 score is: \", f1_score(y_test,y_pred))"
   ]
  },
  {
   "cell_type": "code",
   "execution_count": 79,
   "id": "b4237b8f",
   "metadata": {},
   "outputs": [
    {
     "data": {
      "text/plain": [
       "array([[140,  54],\n",
       "       [ 31, 329]], dtype=int64)"
      ]
     },
     "execution_count": 79,
     "metadata": {},
     "output_type": "execute_result"
    }
   ],
   "source": [
    "confusion_matrix(y_test,y_pred)"
   ]
  },
  {
   "cell_type": "markdown",
   "id": "51cc33eb",
   "metadata": {},
   "source": [
    "# Radial SVM"
   ]
  },
  {
   "cell_type": "code",
   "execution_count": 75,
   "id": "d7fe653b",
   "metadata": {},
   "outputs": [
    {
     "data": {
      "text/plain": [
       "SVC()"
      ]
     },
     "execution_count": 75,
     "metadata": {},
     "output_type": "execute_result"
    }
   ],
   "source": [
    "svm_radial=SVC(kernel='rbf')\n",
    "svm_radial.fit(X_train,y_train)"
   ]
  },
  {
   "cell_type": "code",
   "execution_count": 80,
   "id": "600477b8",
   "metadata": {},
   "outputs": [],
   "source": [
    "y_pred=svm_radial.predict(X_test)"
   ]
  },
  {
   "cell_type": "code",
   "execution_count": 81,
   "id": "4d4d1739",
   "metadata": {},
   "outputs": [
    {
     "name": "stdout",
     "output_type": "stream",
     "text": [
      "Accuracy is:  0.8357400722021661\n",
      "Precision is:  0.8387909319899244\n",
      "Recall is:  0.925\n",
      "f1 score is:  0.879788639365918\n"
     ]
    }
   ],
   "source": [
    "print(\"Accuracy is: \",accuracy_score(y_test,y_pred))\n",
    "print(\"Precision is: \", precision_score(y_test,y_pred))\n",
    "print(\"Recall is: \", recall_score(y_test,y_pred))\n",
    "print(\"f1 score is: \", f1_score(y_test,y_pred))"
   ]
  },
  {
   "cell_type": "code",
   "execution_count": 82,
   "id": "ed5b17b5",
   "metadata": {},
   "outputs": [
    {
     "data": {
      "text/plain": [
       "array([[130,  64],\n",
       "       [ 27, 333]], dtype=int64)"
      ]
     },
     "execution_count": 82,
     "metadata": {},
     "output_type": "execute_result"
    }
   ],
   "source": [
    "confusion_matrix(y_test,y_pred)"
   ]
  },
  {
   "cell_type": "markdown",
   "id": "273777a4",
   "metadata": {},
   "source": [
    "# Random Forest Classifier"
   ]
  },
  {
   "cell_type": "code",
   "execution_count": 83,
   "id": "bb647b27",
   "metadata": {},
   "outputs": [],
   "source": [
    "from sklearn.ensemble import RandomForestClassifier\n",
    "rf=RandomForestClassifier()\n",
    "rf.fit(X_train,y_train)\n",
    "y_pred=rf.predict(X_test)"
   ]
  },
  {
   "cell_type": "code",
   "execution_count": 84,
   "id": "af1f4145",
   "metadata": {},
   "outputs": [
    {
     "name": "stdout",
     "output_type": "stream",
     "text": [
      "Accuracy is:  0.8104693140794224\n",
      "Precision is:  0.8055395789854238\n",
      "Recall is:  0.7662227949599083\n",
      "f1 score is:  0.7790187475069805\n"
     ]
    }
   ],
   "source": [
    "print(\"Accuracy is: \",accuracy_score(y_test,y_pred))\n",
    "print(\"Precision is: \", precision_score(y_test,y_pred, average='macro'))\n",
    "print(\"Recall is: \", recall_score(y_test,y_pred,average='macro'))\n",
    "print(\"f1 score is: \", f1_score(y_test,y_pred,average='macro'))"
   ]
  },
  {
   "cell_type": "code",
   "execution_count": 85,
   "id": "dcf6f436",
   "metadata": {},
   "outputs": [
    {
     "data": {
      "text/plain": [
       "array([[120,  74],\n",
       "       [ 31, 329]], dtype=int64)"
      ]
     },
     "execution_count": 85,
     "metadata": {},
     "output_type": "execute_result"
    }
   ],
   "source": [
    "confusion_matrix(y_test,y_pred)"
   ]
  },
  {
   "cell_type": "markdown",
   "id": "b452edbf",
   "metadata": {},
   "source": [
    "**Feature Importance**"
   ]
  },
  {
   "cell_type": "code",
   "execution_count": 87,
   "id": "05183a12",
   "metadata": {},
   "outputs": [],
   "source": [
    "X_scaled_nor=pd.DataFrame(X_scaled_nor)"
   ]
  },
  {
   "cell_type": "code",
   "execution_count": 89,
   "id": "b9d46a65",
   "metadata": {},
   "outputs": [],
   "source": [
    "pd.pandas.set_option('display.max_rows',None)"
   ]
  },
  {
   "cell_type": "code",
   "execution_count": 90,
   "id": "729eb1d8",
   "metadata": {},
   "outputs": [
    {
     "data": {
      "text/plain": [
       "64    0.044175\n",
       "15    0.041386\n",
       "8     0.036582\n",
       "26    0.034047\n",
       "25    0.032379\n",
       "9     0.028401\n",
       "10    0.024325\n",
       "30    0.023591\n",
       "14    0.022604\n",
       "13    0.022576\n",
       "31    0.022478\n",
       "5     0.022015\n",
       "20    0.021088\n",
       "47    0.020572\n",
       "28    0.020169\n",
       "2     0.019628\n",
       "35    0.018758\n",
       "49    0.018448\n",
       "29    0.018090\n",
       "18    0.017577\n",
       "27    0.017163\n",
       "63    0.016909\n",
       "33    0.016709\n",
       "19    0.016589\n",
       "1     0.016445\n",
       "24    0.016024\n",
       "6     0.015869\n",
       "45    0.015624\n",
       "22    0.015146\n",
       "50    0.014981\n",
       "48    0.014572\n",
       "34    0.014469\n",
       "21    0.014439\n",
       "46    0.014391\n",
       "0     0.014297\n",
       "3     0.014189\n",
       "32    0.014025\n",
       "23    0.013490\n",
       "17    0.013362\n",
       "36    0.013288\n",
       "4     0.013225\n",
       "16    0.013097\n",
       "7     0.012858\n",
       "42    0.012461\n",
       "11    0.011932\n",
       "54    0.011473\n",
       "44    0.010789\n",
       "43    0.010514\n",
       "38    0.009586\n",
       "37    0.008588\n",
       "41    0.008022\n",
       "92    0.006916\n",
       "39    0.006476\n",
       "87    0.004704\n",
       "12    0.004480\n",
       "85    0.003484\n",
       "94    0.003378\n",
       "80    0.002962\n",
       "57    0.002844\n",
       "78    0.002339\n",
       "53    0.002029\n",
       "58    0.002018\n",
       "71    0.001921\n",
       "69    0.001915\n",
       "89    0.001857\n",
       "93    0.001851\n",
       "91    0.001709\n",
       "73    0.001708\n",
       "65    0.001557\n",
       "77    0.001545\n",
       "52    0.001009\n",
       "81    0.000951\n",
       "90    0.000945\n",
       "76    0.000935\n",
       "61    0.000894\n",
       "75    0.000850\n",
       "67    0.000720\n",
       "70    0.000673\n",
       "79    0.000648\n",
       "62    0.000575\n",
       "82    0.000572\n",
       "74    0.000376\n",
       "86    0.000365\n",
       "84    0.000199\n",
       "56    0.000191\n",
       "51    0.000174\n",
       "60    0.000169\n",
       "72    0.000167\n",
       "40    0.000149\n",
       "55    0.000142\n",
       "88    0.000090\n",
       "68    0.000065\n",
       "59    0.000034\n",
       "83    0.000000\n",
       "66    0.000000\n",
       "dtype: float64"
      ]
     },
     "execution_count": 90,
     "metadata": {},
     "output_type": "execute_result"
    }
   ],
   "source": [
    "pd.Series(rf.feature_importances_,index=X_scaled_nor.columns).sort_values(ascending=False)"
   ]
  },
  {
   "cell_type": "code",
   "execution_count": null,
   "id": "06c345be",
   "metadata": {},
   "outputs": [],
   "source": []
  }
 ],
 "metadata": {
  "kernelspec": {
   "display_name": "Python 3",
   "language": "python",
   "name": "python3"
  },
  "language_info": {
   "codemirror_mode": {
    "name": "ipython",
    "version": 3
   },
   "file_extension": ".py",
   "mimetype": "text/x-python",
   "name": "python",
   "nbconvert_exporter": "python",
   "pygments_lexer": "ipython3",
   "version": "3.8.8"
  }
 },
 "nbformat": 4,
 "nbformat_minor": 5
}
